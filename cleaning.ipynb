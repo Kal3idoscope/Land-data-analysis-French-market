{
 "cells": [
  {
   "cell_type": "code",
   "execution_count": null,
   "metadata": {},
   "outputs": [],
   "source": [
    "#### EXPLORING THE DATASET ####\n",
    "import pandas as pd\n",
    "\n",
    "# Read in the data\n",
    "df = pd.read_txt('ValeursFoncieres-2024-S1.txt')\n",
    "\n",
    "# fnlwgt is a weight variable that represents the demographic characteristics of each person surveyed.\n",
    "df.head()\n"
   ]
  }
 ],
 "metadata": {
  "language_info": {
   "name": "python"
  }
 },
 "nbformat": 4,
 "nbformat_minor": 2
}
