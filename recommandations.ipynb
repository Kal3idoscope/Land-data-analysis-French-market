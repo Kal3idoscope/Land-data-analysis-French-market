{
 "cells": [
  {
   "cell_type": "markdown",
   "metadata": {},
   "source": [
    "\n",
    "## Recommendations for higher or smaller budgets\n",
    "\n",
    "#### **1. For Higher Budgets**  \n",
    "- Target luxury properties and high-value regions\n",
    "- Invest in **outlier properties** for a high-value or bigger property\n",
    "- Properties with smaller land size but very good locations (cities with many economic opportunities)\n",
    "- Prioritize **high-value urban cities** with high demand \n",
    "- Include **luxury properties and commercial spaces** to target multiple local types  \n",
    "\n",
    "- **Regions to Target** :  \n",
    "  - **Ile-de-France** : Luxury apartments or commercial spaces \n",
    "  - **Provence-Alpes-Côte-d'Azur** : Luxury villas or touristic properties \n",
    "  - **Hauts-de-France** : Industrial properties\n",
    "\n",
    "- **Property Feature:**\n",
    "  - **Residential Investments.** \n",
    "  Focus on houses and apartments with larger building surfaces and higher room counts. \n",
    "  - **Dependencies and Industrial Premises.** \n",
    "  Focus on Location. Prioritize properties in strategic locations over large surface areas.\n",
    "\n",
    "- **Vacant Land Sales.** \n",
    "  - Exercise caution due to high variability in land value and mutation costs. Investigate the potential for future development or resale. \n",
    "\n",
    "- **To maximize profitability:** \n",
    "  - Prioritize **residential properties** with large building surfaces and multiple rooms. \n",
    "  - Consider **land sales** only if it aligns with development goals and cost-benefit analysis.\n",
    "  - A balanced strategy prioritizing residential properties (either sales or sales in future completion state) while considering transfer tax costs and potential savings on renovations would be the most effective way to maximize returns. \n",
    "\n",
    "#### **2. For Smaller Budgets**  \n",
    "- Target more affordable regions\n",
    "- Focus on **non-outlier properties** for predictable market behavior and stable growth  \n",
    "- Target regions with lower amount of sales but big land surfaces (ex : Bourgogne-Franche-Comté).\n",
    "- Invest in regions with **lower price-per-square-meter averages**  \n",
    "\n",
    "- **Regions to Target** :  \n",
    "  - **Occitanie and Nouvelle-Aquitaine** : Affordable properties (homes, rentals, ski chalets...)  \n",
    "  - **Grand-Est and Bourgogne-Franche-Comté** : Larger land surfaces at lower costs\n",
    "  - **Guyane** : Big land size at low prices (big projects)\n",
    " \n",
    "\n",
    "\n"
   ]
  }
 ],
 "metadata": {
  "language_info": {
   "name": "python"
  }
 },
 "nbformat": 4,
 "nbformat_minor": 2
}
