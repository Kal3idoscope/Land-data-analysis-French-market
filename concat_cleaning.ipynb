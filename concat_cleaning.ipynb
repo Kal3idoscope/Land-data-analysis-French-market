{
 "cells": [
  {
   "cell_type": "code",
   "execution_count": null,
   "metadata": {},
   "outputs": [],
   "source": [
    "import pandas as pd\n",
    "\n",
    "df_2021 = pd.read_csv('df_2021.csv')\n",
    "df_2022 = pd.read_csv('df_2022.csv')\n",
    "df_2023 = pd.read_csv('df_2023.csv')\n",
    "df_2024 = pd.read_csv('df_2024.csv')\n",
    "\n",
    "\n",
    "df_complet = pd.concat([df_2021, df_2022, df_2023, df_2024], ignore_index=True)\n",
    "\n",
    "df_complete.head()\n",
    "df_complete.info()"
   ]
  }
 ],
 "metadata": {
  "language_info": {
   "name": "python"
  }
 },
 "nbformat": 4,
 "nbformat_minor": 2
}
