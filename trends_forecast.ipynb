{
 "cells": [
  {
   "cell_type": "markdown",
   "metadata": {},
   "source": [
    "## Notebook 4 : Trends and forecasts of property values "
   ]
  },
  {
   "cell_type": "markdown",
   "metadata": {},
   "source": [
    "## 1 - Introduction ##\n",
    "\n",
    "Overview of the notebook’s objective and the data used.\n"
   ]
  },
  {
   "cell_type": "markdown",
   "metadata": {},
   "source": [
    "this notebook will help identifying the past trends and foresee the evolution of the property values. We will base this analysis on historical data. Retrospective analysis : How did the prices evolve throughout time ? Can we target global  and seasonal trends ? What would be the prices in 3, 5 or 10 years ? Those insights can be more robust by linking them to geographical comparisons."
   ]
  },
  {
   "cell_type": "code",
   "execution_count": 4,
   "metadata": {},
   "outputs": [
    {
     "name": "stderr",
     "output_type": "stream",
     "text": [
      "/var/folders/sr/6t4rh27j1v1fr55gfr9fvsv40000gn/T/ipykernel_17273/1873396856.py:5: DtypeWarning: Columns (6) have mixed types. Specify dtype option on import or set low_memory=False.\n",
      "  df_tf = pd.read_csv('df_complete.csv')\n"
     ]
    }
   ],
   "source": [
    "#### EXPLORING THE DATASET ####\n",
    "import pandas as pd\n",
    "\n",
    "# Read in the data\n",
    "df_tf = pd.read_csv('df_complete.csv')\n",
    "\n",
    "#df_tf.head()"
   ]
  },
  {
   "cell_type": "code",
   "execution_count": 5,
   "metadata": {},
   "outputs": [
    {
     "data": {
      "text/html": [
       "<div>\n",
       "<style scoped>\n",
       "    .dataframe tbody tr th:only-of-type {\n",
       "        vertical-align: middle;\n",
       "    }\n",
       "\n",
       "    .dataframe tbody tr th {\n",
       "        vertical-align: top;\n",
       "    }\n",
       "\n",
       "    .dataframe thead th {\n",
       "        text-align: right;\n",
       "    }\n",
       "</style>\n",
       "<table border=\"1\" class=\"dataframe\">\n",
       "  <thead>\n",
       "    <tr style=\"text-align: right;\">\n",
       "      <th></th>\n",
       "      <th>Valeur fonciere</th>\n",
       "      <th>Code postal</th>\n",
       "      <th>Code commune</th>\n",
       "      <th>Nombre de lots</th>\n",
       "      <th>Code type local</th>\n",
       "      <th>Surface reelle bati</th>\n",
       "      <th>Nombre pieces principales</th>\n",
       "      <th>Surface terrain</th>\n",
       "      <th>annee</th>\n",
       "    </tr>\n",
       "  </thead>\n",
       "  <tbody>\n",
       "    <tr>\n",
       "      <th>count</th>\n",
       "      <td>6.180374e+06</td>\n",
       "      <td>6.180374e+06</td>\n",
       "      <td>6.180374e+06</td>\n",
       "      <td>6.180374e+06</td>\n",
       "      <td>6.180374e+06</td>\n",
       "      <td>6.180374e+06</td>\n",
       "      <td>6.180374e+06</td>\n",
       "      <td>6.180374e+06</td>\n",
       "      <td>6.180374e+06</td>\n",
       "    </tr>\n",
       "    <tr>\n",
       "      <th>mean</th>\n",
       "      <td>7.898712e+05</td>\n",
       "      <td>5.196389e+04</td>\n",
       "      <td>2.079455e+02</td>\n",
       "      <td>5.748702e-01</td>\n",
       "      <td>1.438426e+00</td>\n",
       "      <td>8.343096e+01</td>\n",
       "      <td>3.512798e+00</td>\n",
       "      <td>5.819976e+02</td>\n",
       "      <td>2.021344e+03</td>\n",
       "    </tr>\n",
       "    <tr>\n",
       "      <th>std</th>\n",
       "      <td>1.022298e+07</td>\n",
       "      <td>2.762136e+04</td>\n",
       "      <td>1.708908e+02</td>\n",
       "      <td>8.744794e-01</td>\n",
       "      <td>4.961942e-01</td>\n",
       "      <td>4.715455e+01</td>\n",
       "      <td>1.610626e+00</td>\n",
       "      <td>4.208792e+03</td>\n",
       "      <td>1.430034e+00</td>\n",
       "    </tr>\n",
       "    <tr>\n",
       "      <th>min</th>\n",
       "      <td>1.500000e-01</td>\n",
       "      <td>0.000000e+00</td>\n",
       "      <td>1.000000e+00</td>\n",
       "      <td>0.000000e+00</td>\n",
       "      <td>1.000000e+00</td>\n",
       "      <td>1.000000e+00</td>\n",
       "      <td>1.000000e+00</td>\n",
       "      <td>0.000000e+00</td>\n",
       "      <td>2.019000e+03</td>\n",
       "    </tr>\n",
       "    <tr>\n",
       "      <th>25%</th>\n",
       "      <td>1.170000e+05</td>\n",
       "      <td>3.000000e+04</td>\n",
       "      <td>7.200000e+01</td>\n",
       "      <td>0.000000e+00</td>\n",
       "      <td>1.000000e+00</td>\n",
       "      <td>5.200000e+01</td>\n",
       "      <td>2.000000e+00</td>\n",
       "      <td>0.000000e+00</td>\n",
       "      <td>2.020000e+03</td>\n",
       "    </tr>\n",
       "    <tr>\n",
       "      <th>50%</th>\n",
       "      <td>1.900000e+05</td>\n",
       "      <td>5.400000e+04</td>\n",
       "      <td>1.680000e+02</td>\n",
       "      <td>0.000000e+00</td>\n",
       "      <td>1.000000e+00</td>\n",
       "      <td>7.600000e+01</td>\n",
       "      <td>3.000000e+00</td>\n",
       "      <td>1.910000e+02</td>\n",
       "      <td>2.021000e+03</td>\n",
       "    </tr>\n",
       "    <tr>\n",
       "      <th>75%</th>\n",
       "      <td>3.101500e+05</td>\n",
       "      <td>7.626000e+04</td>\n",
       "      <td>3.000000e+02</td>\n",
       "      <td>1.000000e+00</td>\n",
       "      <td>2.000000e+00</td>\n",
       "      <td>1.040000e+02</td>\n",
       "      <td>4.000000e+00</td>\n",
       "      <td>5.970000e+02</td>\n",
       "      <td>2.022000e+03</td>\n",
       "    </tr>\n",
       "    <tr>\n",
       "      <th>max</th>\n",
       "      <td>7.620000e+08</td>\n",
       "      <td>9.749000e+04</td>\n",
       "      <td>9.090000e+02</td>\n",
       "      <td>8.500000e+01</td>\n",
       "      <td>2.000000e+00</td>\n",
       "      <td>3.160000e+03</td>\n",
       "      <td>1.090000e+02</td>\n",
       "      <td>3.760000e+06</td>\n",
       "      <td>2.024000e+03</td>\n",
       "    </tr>\n",
       "  </tbody>\n",
       "</table>\n",
       "</div>"
      ],
      "text/plain": [
       "       Valeur fonciere   Code postal  Code commune  Nombre de lots  \\\n",
       "count     6.180374e+06  6.180374e+06  6.180374e+06    6.180374e+06   \n",
       "mean      7.898712e+05  5.196389e+04  2.079455e+02    5.748702e-01   \n",
       "std       1.022298e+07  2.762136e+04  1.708908e+02    8.744794e-01   \n",
       "min       1.500000e-01  0.000000e+00  1.000000e+00    0.000000e+00   \n",
       "25%       1.170000e+05  3.000000e+04  7.200000e+01    0.000000e+00   \n",
       "50%       1.900000e+05  5.400000e+04  1.680000e+02    0.000000e+00   \n",
       "75%       3.101500e+05  7.626000e+04  3.000000e+02    1.000000e+00   \n",
       "max       7.620000e+08  9.749000e+04  9.090000e+02    8.500000e+01   \n",
       "\n",
       "       Code type local  Surface reelle bati  Nombre pieces principales  \\\n",
       "count     6.180374e+06         6.180374e+06               6.180374e+06   \n",
       "mean      1.438426e+00         8.343096e+01               3.512798e+00   \n",
       "std       4.961942e-01         4.715455e+01               1.610626e+00   \n",
       "min       1.000000e+00         1.000000e+00               1.000000e+00   \n",
       "25%       1.000000e+00         5.200000e+01               2.000000e+00   \n",
       "50%       1.000000e+00         7.600000e+01               3.000000e+00   \n",
       "75%       2.000000e+00         1.040000e+02               4.000000e+00   \n",
       "max       2.000000e+00         3.160000e+03               1.090000e+02   \n",
       "\n",
       "       Surface terrain         annee  \n",
       "count     6.180374e+06  6.180374e+06  \n",
       "mean      5.819976e+02  2.021344e+03  \n",
       "std       4.208792e+03  1.430034e+00  \n",
       "min       0.000000e+00  2.019000e+03  \n",
       "25%       0.000000e+00  2.020000e+03  \n",
       "50%       1.910000e+02  2.021000e+03  \n",
       "75%       5.970000e+02  2.022000e+03  \n",
       "max       3.760000e+06  2.024000e+03  "
      ]
     },
     "execution_count": 5,
     "metadata": {},
     "output_type": "execute_result"
    }
   ],
   "source": [
    "df_clean = df_tf[\n",
    "    (df_tf['Valeur fonciere'] > 0) & \n",
    "    (df_tf['Surface reelle bati'] > 0) &\n",
    "    ((df_tf['Nombre pieces principales'] > 0) | (df_tf['Type local'] == 'Terrain'))\n",
    "]\n",
    "\n",
    "df_clean.describe()\n"
   ]
  },
  {
   "cell_type": "code",
   "execution_count": 18,
   "metadata": {},
   "outputs": [
    {
     "name": "stderr",
     "output_type": "stream",
     "text": [
      "/var/folders/sr/6t4rh27j1v1fr55gfr9fvsv40000gn/T/ipykernel_17273/2400172058.py:4: SettingWithCopyWarning: \n",
      "A value is trying to be set on a copy of a slice from a DataFrame.\n",
      "Try using .loc[row_indexer,col_indexer] = value instead\n",
      "\n",
      "See the caveats in the documentation: https://pandas.pydata.org/pandas-docs/stable/user_guide/indexing.html#returning-a-view-versus-a-copy\n",
      "  df_clean[category_convert] = df_clean[category_convert].astype('category')\n",
      "/var/folders/sr/6t4rh27j1v1fr55gfr9fvsv40000gn/T/ipykernel_17273/2400172058.py:6: SettingWithCopyWarning: \n",
      "A value is trying to be set on a copy of a slice from a DataFrame.\n",
      "Try using .loc[row_indexer,col_indexer] = value instead\n",
      "\n",
      "See the caveats in the documentation: https://pandas.pydata.org/pandas-docs/stable/user_guide/indexing.html#returning-a-view-versus-a-copy\n",
      "  df_clean['Date mutation'] = pd.to_datetime(df_clean['Date mutation'], errors = 'coerce')\n",
      "/var/folders/sr/6t4rh27j1v1fr55gfr9fvsv40000gn/T/ipykernel_17273/2400172058.py:7: SettingWithCopyWarning: \n",
      "A value is trying to be set on a copy of a slice from a DataFrame.\n",
      "Try using .loc[row_indexer,col_indexer] = value instead\n",
      "\n",
      "See the caveats in the documentation: https://pandas.pydata.org/pandas-docs/stable/user_guide/indexing.html#returning-a-view-versus-a-copy\n",
      "  df_clean['Date mutation'] = df_clean['Date mutation'].interpolate(method='linear')\n",
      "/var/folders/sr/6t4rh27j1v1fr55gfr9fvsv40000gn/T/ipykernel_17273/2400172058.py:9: SettingWithCopyWarning: \n",
      "A value is trying to be set on a copy of a slice from a DataFrame.\n",
      "Try using .loc[row_indexer,col_indexer] = value instead\n",
      "\n",
      "See the caveats in the documentation: https://pandas.pydata.org/pandas-docs/stable/user_guide/indexing.html#returning-a-view-versus-a-copy\n",
      "  df_clean['Valeur fonciere']=df_clean['Valeur fonciere'].replace({'\\xa0':'',',':'.'}, regex=True)\n",
      "/var/folders/sr/6t4rh27j1v1fr55gfr9fvsv40000gn/T/ipykernel_17273/2400172058.py:10: SettingWithCopyWarning: \n",
      "A value is trying to be set on a copy of a slice from a DataFrame.\n",
      "Try using .loc[row_indexer,col_indexer] = value instead\n",
      "\n",
      "See the caveats in the documentation: https://pandas.pydata.org/pandas-docs/stable/user_guide/indexing.html#returning-a-view-versus-a-copy\n",
      "  df_clean['Valeur fonciere']=pd.to_numeric(df_clean['Valeur fonciere'], errors='coerce')\n"
     ]
    },
    {
     "name": "stdout",
     "output_type": "stream",
     "text": [
      "<class 'pandas.core.frame.DataFrame'>\n",
      "Index: 6180374 entries, 0 to 17810873\n",
      "Data columns (total 16 columns):\n",
      " #   Column                     Dtype         \n",
      "---  ------                     -----         \n",
      " 0   Date mutation              datetime64[ns]\n",
      " 1   Nature mutation            category      \n",
      " 2   Valeur fonciere            float64       \n",
      " 3   Voie                       category      \n",
      " 4   Code postal                category      \n",
      " 5   Commune                    category      \n",
      " 6   Code departement           category      \n",
      " 7   Code commune               category      \n",
      " 8   Nombre de lots             int64         \n",
      " 9   Code type local            category      \n",
      " 10  Type local                 category      \n",
      " 11  Surface reelle bati        float64       \n",
      " 12  Nombre pieces principales  float64       \n",
      " 13  Surface terrain            float64       \n",
      " 14  annee                      int64         \n",
      " 15  mois                       period[M]     \n",
      "dtypes: category(8), datetime64[ns](1), float64(4), int64(2), period[M](1)\n",
      "memory usage: 528.1 MB\n"
     ]
    }
   ],
   "source": [
    "#### CONVERTS TO THE RIGHT TYPE ####\n",
    "\n",
    "category_convert = ['Nature mutation', 'Voie', 'Code postal', 'Commune', 'Code departement', 'Code commune', 'Code type local', 'Type local']\n",
    "df_clean[category_convert] = df_clean[category_convert].astype('category')\n",
    "\n",
    "df_clean['Date mutation'] = pd.to_datetime(df_clean['Date mutation'], errors = 'coerce')\n",
    "df_clean['Date mutation'] = df_clean['Date mutation'].interpolate(method='linear')\n",
    "\n",
    "df_clean['Valeur fonciere']=df_clean['Valeur fonciere'].replace({'\\xa0':'',',':'.'}, regex=True)\n",
    "df_clean['Valeur fonciere']=pd.to_numeric(df_clean['Valeur fonciere'], errors='coerce')\n",
    "\n",
    "df_clean.info()"
   ]
  },
  {
   "cell_type": "code",
   "execution_count": 13,
   "metadata": {},
   "outputs": [
    {
     "data": {
      "text/plain": [
       "Date mutation                      0\n",
       "Nature mutation                    0\n",
       "Valeur fonciere                    0\n",
       "Voie                               0\n",
       "Code postal                      304\n",
       "Commune                            0\n",
       "Code departement                   0\n",
       "Code commune                       0\n",
       "Nombre de lots               3805414\n",
       "Code type local                    0\n",
       "Type local                         0\n",
       "Surface reelle bati                0\n",
       "Nombre pieces principales          0\n",
       "Surface terrain              2405155\n",
       "annee                              0\n",
       "dtype: int64"
      ]
     },
     "execution_count": 13,
     "metadata": {},
     "output_type": "execute_result"
    }
   ],
   "source": [
    "#### CHECK MISSING VALUES ####\n",
    "df_clean.isnull().sum()\n",
    "# Comptage des zéros dans chaque colonne\n",
    "(df_clean == 0).sum()\n"
   ]
  },
  {
   "cell_type": "code",
   "execution_count": 14,
   "metadata": {},
   "outputs": [
    {
     "data": {
      "text/plain": [
       "0"
      ]
     },
     "execution_count": 14,
     "metadata": {},
     "output_type": "execute_result"
    }
   ],
   "source": [
    "#### CHECK DUPLICATES ####\n",
    "#df_tf.drop_duplicates(keep='last', inplace=True)\n",
    "df_clean.duplicated().sum()"
   ]
  },
  {
   "cell_type": "code",
   "execution_count": 9,
   "metadata": {},
   "outputs": [
    {
     "data": {
      "text/html": [
       "<div>\n",
       "<style scoped>\n",
       "    .dataframe tbody tr th:only-of-type {\n",
       "        vertical-align: middle;\n",
       "    }\n",
       "\n",
       "    .dataframe tbody tr th {\n",
       "        vertical-align: top;\n",
       "    }\n",
       "\n",
       "    .dataframe thead th {\n",
       "        text-align: right;\n",
       "    }\n",
       "</style>\n",
       "<table border=\"1\" class=\"dataframe\">\n",
       "  <thead>\n",
       "    <tr style=\"text-align: right;\">\n",
       "      <th></th>\n",
       "      <th>Date mutation</th>\n",
       "      <th>Nature mutation</th>\n",
       "      <th>Valeur fonciere</th>\n",
       "      <th>Voie</th>\n",
       "      <th>Code postal</th>\n",
       "      <th>Commune</th>\n",
       "      <th>Code departement</th>\n",
       "      <th>Code commune</th>\n",
       "      <th>Nombre de lots</th>\n",
       "      <th>Code type local</th>\n",
       "      <th>Type local</th>\n",
       "      <th>Surface reelle bati</th>\n",
       "      <th>Nombre pieces principales</th>\n",
       "      <th>Surface terrain</th>\n",
       "      <th>annee</th>\n",
       "    </tr>\n",
       "  </thead>\n",
       "  <tbody>\n",
       "    <tr>\n",
       "      <th>0</th>\n",
       "      <td>2019-01-07 00:00:00.000000000</td>\n",
       "      <td>Vente</td>\n",
       "      <td>244200.0</td>\n",
       "      <td>COMMANDANT COUSTEAU</td>\n",
       "      <td>1000.0</td>\n",
       "      <td>BOURG-EN-BRESSE</td>\n",
       "      <td>1</td>\n",
       "      <td>53</td>\n",
       "      <td>0</td>\n",
       "      <td>1.0</td>\n",
       "      <td>Maison</td>\n",
       "      <td>150.0</td>\n",
       "      <td>5.0</td>\n",
       "      <td>695.0</td>\n",
       "      <td>2019</td>\n",
       "    </tr>\n",
       "    <tr>\n",
       "      <th>1</th>\n",
       "      <td>2019-04-07 00:00:00.000000000</td>\n",
       "      <td>Vente</td>\n",
       "      <td>195000.0</td>\n",
       "      <td>DE LA CROIX ROSIER</td>\n",
       "      <td>1250.0</td>\n",
       "      <td>HAUTECOURT-ROMANECHE</td>\n",
       "      <td>1</td>\n",
       "      <td>184</td>\n",
       "      <td>0</td>\n",
       "      <td>1.0</td>\n",
       "      <td>Maison</td>\n",
       "      <td>94.0</td>\n",
       "      <td>4.0</td>\n",
       "      <td>888.0</td>\n",
       "      <td>2019</td>\n",
       "    </tr>\n",
       "    <tr>\n",
       "      <th>2</th>\n",
       "      <td>2019-04-07 00:00:00.000000000</td>\n",
       "      <td>Vente</td>\n",
       "      <td>195000.0</td>\n",
       "      <td>DE LA CROIX ROSIER</td>\n",
       "      <td>1250.0</td>\n",
       "      <td>HAUTECOURT-ROMANECHE</td>\n",
       "      <td>1</td>\n",
       "      <td>184</td>\n",
       "      <td>0</td>\n",
       "      <td>1.0</td>\n",
       "      <td>Maison</td>\n",
       "      <td>94.0</td>\n",
       "      <td>4.0</td>\n",
       "      <td>500.0</td>\n",
       "      <td>2019</td>\n",
       "    </tr>\n",
       "    <tr>\n",
       "      <th>3</th>\n",
       "      <td>2019-04-07 00:00:00.000000000</td>\n",
       "      <td>Vente</td>\n",
       "      <td>110030.0</td>\n",
       "      <td>LA VILLE</td>\n",
       "      <td>1250.0</td>\n",
       "      <td>GRAND-CORENT</td>\n",
       "      <td>1</td>\n",
       "      <td>177</td>\n",
       "      <td>0</td>\n",
       "      <td>1.0</td>\n",
       "      <td>Maison</td>\n",
       "      <td>90.0</td>\n",
       "      <td>3.0</td>\n",
       "      <td>522.0</td>\n",
       "      <td>2019</td>\n",
       "    </tr>\n",
       "    <tr>\n",
       "      <th>5</th>\n",
       "      <td>2019-03-07 00:00:00.000000000</td>\n",
       "      <td>Vente</td>\n",
       "      <td>160450.0</td>\n",
       "      <td>CHARBONNET</td>\n",
       "      <td>1270.0</td>\n",
       "      <td>COLIGNY</td>\n",
       "      <td>1</td>\n",
       "      <td>108</td>\n",
       "      <td>0</td>\n",
       "      <td>1.0</td>\n",
       "      <td>Maison</td>\n",
       "      <td>110.0</td>\n",
       "      <td>5.0</td>\n",
       "      <td>2483.0</td>\n",
       "      <td>2019</td>\n",
       "    </tr>\n",
       "  </tbody>\n",
       "</table>\n",
       "</div>"
      ],
      "text/plain": [
       "                   Date mutation Nature mutation  Valeur fonciere  \\\n",
       "0  2019-01-07 00:00:00.000000000           Vente         244200.0   \n",
       "1  2019-04-07 00:00:00.000000000           Vente         195000.0   \n",
       "2  2019-04-07 00:00:00.000000000           Vente         195000.0   \n",
       "3  2019-04-07 00:00:00.000000000           Vente         110030.0   \n",
       "5  2019-03-07 00:00:00.000000000           Vente         160450.0   \n",
       "\n",
       "                  Voie Code postal               Commune Code departement  \\\n",
       "0  COMMANDANT COUSTEAU      1000.0       BOURG-EN-BRESSE                1   \n",
       "1   DE LA CROIX ROSIER      1250.0  HAUTECOURT-ROMANECHE                1   \n",
       "2   DE LA CROIX ROSIER      1250.0  HAUTECOURT-ROMANECHE                1   \n",
       "3             LA VILLE      1250.0          GRAND-CORENT                1   \n",
       "5           CHARBONNET      1270.0               COLIGNY                1   \n",
       "\n",
       "  Code commune  Nombre de lots Code type local Type local  \\\n",
       "0           53               0             1.0     Maison   \n",
       "1          184               0             1.0     Maison   \n",
       "2          184               0             1.0     Maison   \n",
       "3          177               0             1.0     Maison   \n",
       "5          108               0             1.0     Maison   \n",
       "\n",
       "   Surface reelle bati  Nombre pieces principales  Surface terrain  annee  \n",
       "0                150.0                        5.0            695.0   2019  \n",
       "1                 94.0                        4.0            888.0   2019  \n",
       "2                 94.0                        4.0            500.0   2019  \n",
       "3                 90.0                        3.0            522.0   2019  \n",
       "5                110.0                        5.0           2483.0   2019  "
      ]
     },
     "execution_count": 9,
     "metadata": {},
     "output_type": "execute_result"
    }
   ],
   "source": [
    "df_clean.head()"
   ]
  },
  {
   "cell_type": "markdown",
   "metadata": {},
   "source": [
    "## 2 - Methodology ##\n",
    "\n",
    "Explanation of the analysis methods and visualizations.\n",
    "\n",
    "Data Exploration:\n",
    "- Analyze the evolution of property values over time (by year).\n",
    "- Identify significant periods of increase or decrease in prices."
   ]
  },
  {
   "cell_type": "code",
   "execution_count": 15,
   "metadata": {},
   "outputs": [],
   "source": [
    "#### LIBRARIES ####\n",
    "import seaborn as sns\n",
    "import matplotlib.pyplot as plt\n",
    "import ipywidgets as widgets\n",
    "from ipywidgets import interact"
   ]
  },
  {
   "cell_type": "markdown",
   "metadata": {},
   "source": [
    "Nous avons ci-dessous un graphique qui trace l'evolution de la médiane et la moyenne des valeurs foncières de 2019 à 2024. "
   ]
  },
  {
   "cell_type": "code",
   "execution_count": 19,
   "metadata": {},
   "outputs": [
    {
     "data": {
      "image/png": "[encoded data removed]",
      "text/plain": [
       "<Figure size 1000x600 with 1 Axes>"
      ]
     },
     "metadata": {},
     "output_type": "display_data"
    }
   ],
   "source": [
    "df_clean.loc[:, 'annee'] = pd.to_datetime(df_clean['Date mutation']).dt.year\n",
    "df_clean.loc[:,'mois']=df_clean['Date mutation'].dt.to_period('M')\n",
    "median_peryear=df_clean.groupby('annee')['Valeur fonciere'].median().reset_index()\n",
    "mean_peryear=df_clean.groupby('annee')['Valeur fonciere'].mean().reset_index()\n",
    "\n",
    "def plot_evolution_valeurs():\n",
    "    plt.figure(figsize=(10, 6))\n",
    "    plt.plot(median_peryear['annee'], median_peryear['Valeur fonciere'], marker='o', label='Médiane', color='blue')\n",
    "\n",
    "    plt.plot(mean_peryear['annee'], mean_peryear['Valeur fonciere'], marker='o', label='Moyenne', color='green', linestyle='--')\n",
    "\n",
    "    plt.title('Évolution des valeurs foncières de 2019 à 2024')\n",
    "    plt.xlabel('Année')\n",
    "    plt.ylabel('Valeur foncière médiane')\n",
    "    plt.legend()\n",
    "    plt.grid(True)\n",
    "    plt.tight_layout()\n",
    "    plt.show()\n",
    "\n",
    "plot_evolution_valeurs()"
   ]
  },
  {
   "cell_type": "code",
   "execution_count": 20,
   "metadata": {},
   "outputs": [
    {
     "data": {
      "image/png": "[encoded data removed]",
      "text/plain": [
       "<Figure size 1000x600 with 1 Axes>"
      ]
     },
     "metadata": {},
     "output_type": "display_data"
    }
   ],
   "source": [
    "def plot_evolution_barchart(mean_peryear, median_peryear):\n",
    "    plt.figure(figsize=(10, 6))\n",
    "\n",
    "    x = mean_peryear['annee']\n",
    "    offset = 0.2 \n",
    "    plt.bar(x - offset, median_peryear['Valeur fonciere'], width=offset * 2, label='Médiane', color='green', alpha=0.6)\n",
    "    plt.bar(x + offset, mean_peryear['Valeur fonciere'], width=offset * 2, label='Moyenne', color='blue', alpha=0.6)\n",
    "    plt.title('Comparaison de la Moyenne et Médiane des Valeurs Foncières par Année (2019-2024)')\n",
    "    plt.xlabel('Année')\n",
    "    plt.ylabel('Valeur foncière')\n",
    "    plt.legend()\n",
    "\n",
    "    plt.tight_layout()\n",
    "    plt.show()\n",
    "\n",
    "plot_evolution_barchart(mean_peryear, median_peryear)\n",
    "\n"
   ]
  },
  {
   "cell_type": "code",
   "execution_count": 22,
   "metadata": {},
   "outputs": [
    {
     "data": {
      "application/vnd.jupyter.widget-view+json": {
       "model_id": "3b18e44bb2b441bbaaa9a6833a5c2128",
       "version_major": 2,
       "version_minor": 0
      },
      "text/plain": [
       "interactive(children=(IntSlider(value=2019, description='year', max=2024, min=2019), Output()), _dom_classes=(…"
      ]
     },
     "metadata": {},
     "output_type": "display_data"
    },
    {
     "data": {
      "text/plain": [
       "<function __main__.interactive_plot(year=2019)>"
      ]
     },
     "execution_count": 22,
     "metadata": {},
     "output_type": "execute_result"
    }
   ],
   "source": [
    "def interactive_plot(year=2019):\n",
    "    filtered_year = df_clean[df_clean['annee'] == year]\n",
    "    month_trends = filtered_year.groupby('mois')['Valeur fonciere'].median().reset_index()\n",
    "\n",
    "    plt.figure(figsize=(10, 6))\n",
    "    plt.plot(month_trends['mois'].astype(str), month_trends['Valeur fonciere'], marker='o', label=f'Médiane {year}', c='red')\n",
    "    plt.title(f'Évolution des valeurs foncières pour {year}')\n",
    "    plt.xlabel('Mois')\n",
    "    plt.ylabel('Valeur foncière médiane')\n",
    "    plt.xticks(rotation=45)\n",
    "    plt.legend()\n",
    "    plt.tight_layout()\n",
    "    plt.show()\n",
    "\n",
    "interact(interactive_plot, year=widgets.IntSlider(value=2019, min=2019, max=2024, step=1))\n"
   ]
  },
  {
   "cell_type": "markdown",
   "metadata": {},
   "source": []
  },
  {
   "cell_type": "markdown",
   "metadata": {},
   "source": [
    "## 3 - Results ##\n",
    "\n",
    "Presentation of the analyses, visualizations, and findings.\n",
    "\n",
    "Visualizations:\n",
    "- Time series graphs showing property value trends over the years.\n",
    "- Line charts comparing trends across different regions."
   ]
  },
  {
   "cell_type": "markdown",
   "metadata": {},
   "source": []
  },
  {
   "cell_type": "markdown",
   "metadata": {},
   "source": [
    "## 4 - Conlusion and recommandations ##\n",
    "\n",
    "Summary of discoveries and investment advice.\n",
    "\n",
    "Conclusions:\n",
    "- Synthesize observed price trends over the past years.\n",
    "- Identify external factors that could explain changes (e.g., economy, demographics, infrastructure).\n",
    "\n",
    "Recommendations:\n",
    "- Propose investment recommendations based on future price forecasts (e.g., investing in regions with predicted price growth).\n",
    "- Risk management advice based on past and future property value trends."
   ]
  },
  {
   "cell_type": "code",
   "execution_count": null,
   "metadata": {},
   "outputs": [],
   "source": []
  }
 ],
 "metadata": {
  "kernelspec": {
   "display_name": "Python 3",
   "language": "python",
   "name": "python3"
  },
  "language_info": {
   "codemirror_mode": {
    "name": "ipython",
    "version": 3
   },
   "file_extension": ".py",
   "mimetype": "text/x-python",
   "name": "python",
   "nbconvert_exporter": "python",
   "pygments_lexer": "ipython3",
   "version": "3.12.3"
  }
 },
 "nbformat": 4,
 "nbformat_minor": 2
}
