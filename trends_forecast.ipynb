{
 "cells": [
  {
   "cell_type": "markdown",
   "metadata": {},
   "source": [
    "## Notebook 4 : Trends and forecasts of property values "
   ]
  },
  {
   "cell_type": "markdown",
   "metadata": {},
   "source": [
    "## 1 - Introduction ##\n",
    "\n",
    "Overview of the notebook’s objective and the data used.\n"
   ]
  },
  {
   "cell_type": "markdown",
   "metadata": {},
   "source": [
    "this notebook will help identifying the past trends and foresee the evolution of the property values. We will base this analysis on historical data. Retrospective analysis : How did the prices evolve throughout time ? Can we target global  and seasonal trends ? What would be the prices in 3, 5 or 10 years ? Those insights can be more robust by linking them to geographical comparisons."
   ]
  },
  {
   "cell_type": "code",
   "execution_count": 1,
   "metadata": {},
   "outputs": [
    {
     "name": "stderr",
     "output_type": "stream",
     "text": [
      "/var/folders/sr/6t4rh27j1v1fr55gfr9fvsv40000gn/T/ipykernel_24817/3054222096.py:5: DtypeWarning: Columns (6) have mixed types. Specify dtype option on import or set low_memory=False.\n",
      "  df_tf = pd.read_csv('df_complete.csv')\n"
     ]
    },
    {
     "data": {
      "text/html": [
       "<div>\n",
       "<style scoped>\n",
       "    .dataframe tbody tr th:only-of-type {\n",
       "        vertical-align: middle;\n",
       "    }\n",
       "\n",
       "    .dataframe tbody tr th {\n",
       "        vertical-align: top;\n",
       "    }\n",
       "\n",
       "    .dataframe thead th {\n",
       "        text-align: right;\n",
       "    }\n",
       "</style>\n",
       "<table border=\"1\" class=\"dataframe\">\n",
       "  <thead>\n",
       "    <tr style=\"text-align: right;\">\n",
       "      <th></th>\n",
       "      <th>Date mutation</th>\n",
       "      <th>Nature mutation</th>\n",
       "      <th>Valeur fonciere</th>\n",
       "      <th>Voie</th>\n",
       "      <th>Code postal</th>\n",
       "      <th>Commune</th>\n",
       "      <th>Code departement</th>\n",
       "      <th>Code commune</th>\n",
       "      <th>Nombre de lots</th>\n",
       "      <th>Code type local</th>\n",
       "      <th>Type local</th>\n",
       "      <th>Surface reelle bati</th>\n",
       "      <th>Nombre pieces principales</th>\n",
       "      <th>Surface terrain</th>\n",
       "      <th>annee</th>\n",
       "    </tr>\n",
       "  </thead>\n",
       "  <tbody>\n",
       "    <tr>\n",
       "      <th>0</th>\n",
       "      <td>2019-01-07 00:00:00.000000000</td>\n",
       "      <td>Vente</td>\n",
       "      <td>244200.0</td>\n",
       "      <td>COMMANDANT COUSTEAU</td>\n",
       "      <td>1000.0</td>\n",
       "      <td>BOURG-EN-BRESSE</td>\n",
       "      <td>1</td>\n",
       "      <td>53</td>\n",
       "      <td>0</td>\n",
       "      <td>1.0</td>\n",
       "      <td>Maison</td>\n",
       "      <td>150.0</td>\n",
       "      <td>5.0</td>\n",
       "      <td>695.0</td>\n",
       "      <td>2019</td>\n",
       "    </tr>\n",
       "    <tr>\n",
       "      <th>1</th>\n",
       "      <td>2019-04-07 00:00:00.000000000</td>\n",
       "      <td>Vente</td>\n",
       "      <td>195000.0</td>\n",
       "      <td>DE LA CROIX ROSIER</td>\n",
       "      <td>1250.0</td>\n",
       "      <td>HAUTECOURT-ROMANECHE</td>\n",
       "      <td>1</td>\n",
       "      <td>184</td>\n",
       "      <td>0</td>\n",
       "      <td>1.0</td>\n",
       "      <td>Maison</td>\n",
       "      <td>94.0</td>\n",
       "      <td>4.0</td>\n",
       "      <td>888.0</td>\n",
       "      <td>2019</td>\n",
       "    </tr>\n",
       "    <tr>\n",
       "      <th>2</th>\n",
       "      <td>2019-04-07 00:00:00.000000000</td>\n",
       "      <td>Vente</td>\n",
       "      <td>195000.0</td>\n",
       "      <td>DE LA CROIX ROSIER</td>\n",
       "      <td>1250.0</td>\n",
       "      <td>HAUTECOURT-ROMANECHE</td>\n",
       "      <td>1</td>\n",
       "      <td>184</td>\n",
       "      <td>0</td>\n",
       "      <td>1.0</td>\n",
       "      <td>Maison</td>\n",
       "      <td>94.0</td>\n",
       "      <td>4.0</td>\n",
       "      <td>500.0</td>\n",
       "      <td>2019</td>\n",
       "    </tr>\n",
       "    <tr>\n",
       "      <th>3</th>\n",
       "      <td>2019-04-07 00:00:00.000000000</td>\n",
       "      <td>Vente</td>\n",
       "      <td>110030.0</td>\n",
       "      <td>LA VILLE</td>\n",
       "      <td>1250.0</td>\n",
       "      <td>GRAND-CORENT</td>\n",
       "      <td>1</td>\n",
       "      <td>177</td>\n",
       "      <td>0</td>\n",
       "      <td>1.0</td>\n",
       "      <td>Maison</td>\n",
       "      <td>90.0</td>\n",
       "      <td>3.0</td>\n",
       "      <td>522.0</td>\n",
       "      <td>2019</td>\n",
       "    </tr>\n",
       "    <tr>\n",
       "      <th>4</th>\n",
       "      <td>2019-03-07 00:00:00.000000000</td>\n",
       "      <td>Vente</td>\n",
       "      <td>160450.0</td>\n",
       "      <td>CHARBONNET</td>\n",
       "      <td>1270.0</td>\n",
       "      <td>COLIGNY</td>\n",
       "      <td>1</td>\n",
       "      <td>108</td>\n",
       "      <td>0</td>\n",
       "      <td>0.0</td>\n",
       "      <td>0</td>\n",
       "      <td>0.0</td>\n",
       "      <td>0.0</td>\n",
       "      <td>8.0</td>\n",
       "      <td>2019</td>\n",
       "    </tr>\n",
       "  </tbody>\n",
       "</table>\n",
       "</div>"
      ],
      "text/plain": [
       "                   Date mutation Nature mutation  Valeur fonciere  \\\n",
       "0  2019-01-07 00:00:00.000000000           Vente         244200.0   \n",
       "1  2019-04-07 00:00:00.000000000           Vente         195000.0   \n",
       "2  2019-04-07 00:00:00.000000000           Vente         195000.0   \n",
       "3  2019-04-07 00:00:00.000000000           Vente         110030.0   \n",
       "4  2019-03-07 00:00:00.000000000           Vente         160450.0   \n",
       "\n",
       "                  Voie  Code postal               Commune Code departement  \\\n",
       "0  COMMANDANT COUSTEAU       1000.0       BOURG-EN-BRESSE                1   \n",
       "1   DE LA CROIX ROSIER       1250.0  HAUTECOURT-ROMANECHE                1   \n",
       "2   DE LA CROIX ROSIER       1250.0  HAUTECOURT-ROMANECHE                1   \n",
       "3             LA VILLE       1250.0          GRAND-CORENT                1   \n",
       "4           CHARBONNET       1270.0               COLIGNY                1   \n",
       "\n",
       "   Code commune  Nombre de lots  Code type local Type local  \\\n",
       "0            53               0              1.0     Maison   \n",
       "1           184               0              1.0     Maison   \n",
       "2           184               0              1.0     Maison   \n",
       "3           177               0              1.0     Maison   \n",
       "4           108               0              0.0          0   \n",
       "\n",
       "   Surface reelle bati  Nombre pieces principales  Surface terrain  annee  \n",
       "0                150.0                        5.0            695.0   2019  \n",
       "1                 94.0                        4.0            888.0   2019  \n",
       "2                 94.0                        4.0            500.0   2019  \n",
       "3                 90.0                        3.0            522.0   2019  \n",
       "4                  0.0                        0.0              8.0   2019  "
      ]
     },
     "execution_count": 1,
     "metadata": {},
     "output_type": "execute_result"
    }
   ],
   "source": [
    "#### EXPLORING THE DATASET ####\n",
    "import pandas as pd\n",
    "\n",
    "# Read in the data\n",
    "df_tf = pd.read_csv('df_complete.csv')\n",
    "\n",
    "df_tf.head()"
   ]
  },
  {
   "cell_type": "code",
   "execution_count": 3,
   "metadata": {},
   "outputs": [],
   "source": [
    "df_clean = df_tf[\n",
    "    (df_tf['Valeur fonciere'] > 0) & \n",
    "    (df_tf['Surface reelle bati'] > 0) &\n",
    "    ((df_tf['Nombre pieces principales'] > 0) | (df_tf['Type local'] == 'Terrain')|df_tf['Type local']!=0)\n",
    "]\n",
    "\n",
    "#df_clean.describe()\n",
    "#df_clean.head(20)\n"
   ]
  },
  {
   "cell_type": "code",
   "execution_count": 12,
   "metadata": {},
   "outputs": [
    {
     "name": "stderr",
     "output_type": "stream",
     "text": [
      "/var/folders/sr/6t4rh27j1v1fr55gfr9fvsv40000gn/T/ipykernel_24817/2001316408.py:5: SettingWithCopyWarning: \n",
      "A value is trying to be set on a copy of a slice from a DataFrame.\n",
      "Try using .loc[row_indexer,col_indexer] = value instead\n",
      "\n",
      "See the caveats in the documentation: https://pandas.pydata.org/pandas-docs/stable/user_guide/indexing.html#returning-a-view-versus-a-copy\n",
      "  df_clean[category_convert] = df_clean[category_convert].astype('category')\n",
      "/var/folders/sr/6t4rh27j1v1fr55gfr9fvsv40000gn/T/ipykernel_24817/2001316408.py:7: SettingWithCopyWarning: \n",
      "A value is trying to be set on a copy of a slice from a DataFrame.\n",
      "Try using .loc[row_indexer,col_indexer] = value instead\n",
      "\n",
      "See the caveats in the documentation: https://pandas.pydata.org/pandas-docs/stable/user_guide/indexing.html#returning-a-view-versus-a-copy\n",
      "  df_clean['Date mutation'] = pd.to_datetime(df_clean['Date mutation'], errors = 'coerce')\n",
      "/var/folders/sr/6t4rh27j1v1fr55gfr9fvsv40000gn/T/ipykernel_24817/2001316408.py:8: SettingWithCopyWarning: \n",
      "A value is trying to be set on a copy of a slice from a DataFrame.\n",
      "Try using .loc[row_indexer,col_indexer] = value instead\n",
      "\n",
      "See the caveats in the documentation: https://pandas.pydata.org/pandas-docs/stable/user_guide/indexing.html#returning-a-view-versus-a-copy\n",
      "  df_clean['Date mutation'] = df_clean['Date mutation'].interpolate(method='linear')\n",
      "/var/folders/sr/6t4rh27j1v1fr55gfr9fvsv40000gn/T/ipykernel_24817/2001316408.py:11: SettingWithCopyWarning: \n",
      "A value is trying to be set on a copy of a slice from a DataFrame.\n",
      "Try using .loc[row_indexer,col_indexer] = value instead\n",
      "\n",
      "See the caveats in the documentation: https://pandas.pydata.org/pandas-docs/stable/user_guide/indexing.html#returning-a-view-versus-a-copy\n",
      "  df_clean['Valeur fonciere']=df_clean['Valeur fonciere'].replace({'\\xa0':'',',':'.'}, regex=True)\n",
      "/var/folders/sr/6t4rh27j1v1fr55gfr9fvsv40000gn/T/ipykernel_24817/2001316408.py:12: SettingWithCopyWarning: \n",
      "A value is trying to be set on a copy of a slice from a DataFrame.\n",
      "Try using .loc[row_indexer,col_indexer] = value instead\n",
      "\n",
      "See the caveats in the documentation: https://pandas.pydata.org/pandas-docs/stable/user_guide/indexing.html#returning-a-view-versus-a-copy\n",
      "  df_clean['Valeur fonciere']=pd.to_numeric(df_clean['Valeur fonciere'], errors='coerce')\n"
     ]
    },
    {
     "name": "stdout",
     "output_type": "stream",
     "text": [
      "<class 'pandas.core.frame.DataFrame'>\n",
      "Index: 6749462 entries, 0 to 17810873\n",
      "Data columns (total 16 columns):\n",
      " #   Column                     Dtype         \n",
      "---  ------                     -----         \n",
      " 0   Date mutation              datetime64[ns]\n",
      " 1   Nature mutation            category      \n",
      " 2   Valeur fonciere            float64       \n",
      " 3   Voie                       category      \n",
      " 4   Code postal                category      \n",
      " 5   Commune                    category      \n",
      " 6   Code departement           category      \n",
      " 7   Code commune               category      \n",
      " 8   Nombre de lots             int64         \n",
      " 9   Code type local            category      \n",
      " 10  Type local                 category      \n",
      " 11  Surface reelle bati        float64       \n",
      " 12  Nombre pieces principales  float64       \n",
      " 13  Surface terrain            float64       \n",
      " 14  annee                      int64         \n",
      " 15  Mois                       int32         \n",
      "dtypes: category(8), datetime64[ns](1), float64(4), int32(1), int64(2)\n",
      "memory usage: 549.1 MB\n"
     ]
    }
   ],
   "source": [
    "#### CONVERTS TO THE RIGHT TYPE ####\n",
    "\n",
    "\n",
    "category_convert = ['Nature mutation', 'Voie', 'Code postal', 'Commune', 'Code departement', 'Code commune', 'Code type local', 'Type local']\n",
    "df_clean[category_convert] = df_clean[category_convert].astype('category')\n",
    "\n",
    "df_clean['Date mutation'] = pd.to_datetime(df_clean['Date mutation'], errors = 'coerce')\n",
    "df_clean['Date mutation'] = df_clean['Date mutation'].interpolate(method='linear')\n",
    "\n",
    "\n",
    "df_clean['Valeur fonciere']=df_clean['Valeur fonciere'].replace({'\\xa0':'',',':'.'}, regex=True)\n",
    "df_clean['Valeur fonciere']=pd.to_numeric(df_clean['Valeur fonciere'], errors='coerce')\n",
    "\n",
    "df_clean.info()"
   ]
  },
  {
   "cell_type": "code",
   "execution_count": 4,
   "metadata": {},
   "outputs": [
    {
     "data": {
      "text/plain": [
       "Date mutation                      0\n",
       "Nature mutation                    0\n",
       "Valeur fonciere                    0\n",
       "Voie                               0\n",
       "Code postal                      321\n",
       "Commune                            0\n",
       "Code departement                   0\n",
       "Code commune                       0\n",
       "Nombre de lots               4134025\n",
       "Code type local                    0\n",
       "Type local                         0\n",
       "Surface reelle bati                0\n",
       "Nombre pieces principales     569088\n",
       "Surface terrain              2648743\n",
       "annee                              0\n",
       "dtype: int64"
      ]
     },
     "execution_count": 4,
     "metadata": {},
     "output_type": "execute_result"
    }
   ],
   "source": [
    "#### CHECK MISSING VALUES ####\n",
    "df_clean.isnull().sum()\n",
    "# Comptage des zéros dans chaque colonne\n",
    "(df_clean == 0).sum()\n"
   ]
  },
  {
   "cell_type": "code",
   "execution_count": 5,
   "metadata": {},
   "outputs": [
    {
     "data": {
      "text/plain": [
       "0"
      ]
     },
     "execution_count": 5,
     "metadata": {},
     "output_type": "execute_result"
    }
   ],
   "source": [
    "#### CHECK DUPLICATES ####\n",
    "#df_tf.drop_duplicates(keep='last', inplace=True)\n",
    "df_clean.duplicated().sum()"
   ]
  },
  {
   "cell_type": "code",
   "execution_count": 6,
   "metadata": {},
   "outputs": [
    {
     "data": {
      "text/html": [
       "<div>\n",
       "<style scoped>\n",
       "    .dataframe tbody tr th:only-of-type {\n",
       "        vertical-align: middle;\n",
       "    }\n",
       "\n",
       "    .dataframe tbody tr th {\n",
       "        vertical-align: top;\n",
       "    }\n",
       "\n",
       "    .dataframe thead th {\n",
       "        text-align: right;\n",
       "    }\n",
       "</style>\n",
       "<table border=\"1\" class=\"dataframe\">\n",
       "  <thead>\n",
       "    <tr style=\"text-align: right;\">\n",
       "      <th></th>\n",
       "      <th>Date mutation</th>\n",
       "      <th>Nature mutation</th>\n",
       "      <th>Valeur fonciere</th>\n",
       "      <th>Voie</th>\n",
       "      <th>Code postal</th>\n",
       "      <th>Commune</th>\n",
       "      <th>Code departement</th>\n",
       "      <th>Code commune</th>\n",
       "      <th>Nombre de lots</th>\n",
       "      <th>Code type local</th>\n",
       "      <th>Type local</th>\n",
       "      <th>Surface reelle bati</th>\n",
       "      <th>Nombre pieces principales</th>\n",
       "      <th>Surface terrain</th>\n",
       "      <th>annee</th>\n",
       "    </tr>\n",
       "  </thead>\n",
       "  <tbody>\n",
       "    <tr>\n",
       "      <th>0</th>\n",
       "      <td>2019-01-07</td>\n",
       "      <td>Vente</td>\n",
       "      <td>244200.0</td>\n",
       "      <td>COMMANDANT COUSTEAU</td>\n",
       "      <td>1000.0</td>\n",
       "      <td>BOURG-EN-BRESSE</td>\n",
       "      <td>1</td>\n",
       "      <td>53</td>\n",
       "      <td>0</td>\n",
       "      <td>1.0</td>\n",
       "      <td>Maison</td>\n",
       "      <td>150.0</td>\n",
       "      <td>5.0</td>\n",
       "      <td>695.0</td>\n",
       "      <td>2019</td>\n",
       "    </tr>\n",
       "    <tr>\n",
       "      <th>1</th>\n",
       "      <td>2019-04-07</td>\n",
       "      <td>Vente</td>\n",
       "      <td>195000.0</td>\n",
       "      <td>DE LA CROIX ROSIER</td>\n",
       "      <td>1250.0</td>\n",
       "      <td>HAUTECOURT-ROMANECHE</td>\n",
       "      <td>1</td>\n",
       "      <td>184</td>\n",
       "      <td>0</td>\n",
       "      <td>1.0</td>\n",
       "      <td>Maison</td>\n",
       "      <td>94.0</td>\n",
       "      <td>4.0</td>\n",
       "      <td>888.0</td>\n",
       "      <td>2019</td>\n",
       "    </tr>\n",
       "    <tr>\n",
       "      <th>2</th>\n",
       "      <td>2019-04-07</td>\n",
       "      <td>Vente</td>\n",
       "      <td>195000.0</td>\n",
       "      <td>DE LA CROIX ROSIER</td>\n",
       "      <td>1250.0</td>\n",
       "      <td>HAUTECOURT-ROMANECHE</td>\n",
       "      <td>1</td>\n",
       "      <td>184</td>\n",
       "      <td>0</td>\n",
       "      <td>1.0</td>\n",
       "      <td>Maison</td>\n",
       "      <td>94.0</td>\n",
       "      <td>4.0</td>\n",
       "      <td>500.0</td>\n",
       "      <td>2019</td>\n",
       "    </tr>\n",
       "    <tr>\n",
       "      <th>3</th>\n",
       "      <td>2019-04-07</td>\n",
       "      <td>Vente</td>\n",
       "      <td>110030.0</td>\n",
       "      <td>LA VILLE</td>\n",
       "      <td>1250.0</td>\n",
       "      <td>GRAND-CORENT</td>\n",
       "      <td>1</td>\n",
       "      <td>177</td>\n",
       "      <td>0</td>\n",
       "      <td>1.0</td>\n",
       "      <td>Maison</td>\n",
       "      <td>90.0</td>\n",
       "      <td>3.0</td>\n",
       "      <td>522.0</td>\n",
       "      <td>2019</td>\n",
       "    </tr>\n",
       "    <tr>\n",
       "      <th>5</th>\n",
       "      <td>2019-03-07</td>\n",
       "      <td>Vente</td>\n",
       "      <td>160450.0</td>\n",
       "      <td>CHARBONNET</td>\n",
       "      <td>1270.0</td>\n",
       "      <td>COLIGNY</td>\n",
       "      <td>1</td>\n",
       "      <td>108</td>\n",
       "      <td>0</td>\n",
       "      <td>1.0</td>\n",
       "      <td>Maison</td>\n",
       "      <td>110.0</td>\n",
       "      <td>5.0</td>\n",
       "      <td>2483.0</td>\n",
       "      <td>2019</td>\n",
       "    </tr>\n",
       "  </tbody>\n",
       "</table>\n",
       "</div>"
      ],
      "text/plain": [
       "  Date mutation Nature mutation  Valeur fonciere                 Voie  \\\n",
       "0    2019-01-07           Vente         244200.0  COMMANDANT COUSTEAU   \n",
       "1    2019-04-07           Vente         195000.0   DE LA CROIX ROSIER   \n",
       "2    2019-04-07           Vente         195000.0   DE LA CROIX ROSIER   \n",
       "3    2019-04-07           Vente         110030.0             LA VILLE   \n",
       "5    2019-03-07           Vente         160450.0           CHARBONNET   \n",
       "\n",
       "  Code postal               Commune Code departement Code commune  \\\n",
       "0      1000.0       BOURG-EN-BRESSE                1           53   \n",
       "1      1250.0  HAUTECOURT-ROMANECHE                1          184   \n",
       "2      1250.0  HAUTECOURT-ROMANECHE                1          184   \n",
       "3      1250.0          GRAND-CORENT                1          177   \n",
       "5      1270.0               COLIGNY                1          108   \n",
       "\n",
       "   Nombre de lots Code type local Type local  Surface reelle bati  \\\n",
       "0               0             1.0     Maison                150.0   \n",
       "1               0             1.0     Maison                 94.0   \n",
       "2               0             1.0     Maison                 94.0   \n",
       "3               0             1.0     Maison                 90.0   \n",
       "5               0             1.0     Maison                110.0   \n",
       "\n",
       "   Nombre pieces principales  Surface terrain  annee  \n",
       "0                        5.0            695.0   2019  \n",
       "1                        4.0            888.0   2019  \n",
       "2                        4.0            500.0   2019  \n",
       "3                        3.0            522.0   2019  \n",
       "5                        5.0           2483.0   2019  "
      ]
     },
     "execution_count": 6,
     "metadata": {},
     "output_type": "execute_result"
    }
   ],
   "source": [
    "df_clean.head()"
   ]
  },
  {
   "cell_type": "markdown",
   "metadata": {},
   "source": [
    "## 2 - Methodology ##\n",
    "\n",
    "Explanation of the analysis methods and visualizations.\n",
    "\n",
    "Data Exploration:\n",
    "- Analyze the evolution of property values over time (by year).\n",
    "- Identify significant periods of increase or decrease in prices."
   ]
  },
  {
   "cell_type": "code",
   "execution_count": 14,
   "metadata": {},
   "outputs": [],
   "source": [
    "#### LIBRARIES ####\n",
    "import seaborn as sns\n",
    "import matplotlib.pyplot as plt\n",
    "import ipywidgets as widgets\n",
    "from ipywidgets import interact"
   ]
  },
  {
   "cell_type": "markdown",
   "metadata": {},
   "source": [
    "Nous avons ci-dessous un graphique qui trace l'evolution de la médiane et la moyenne des valeurs foncières de 2019 à 2024. "
   ]
  },
  {
   "cell_type": "code",
   "execution_count": 8,
   "metadata": {},
   "outputs": [
    {
     "name": "stderr",
     "output_type": "stream",
     "text": [
      "/var/folders/sr/6t4rh27j1v1fr55gfr9fvsv40000gn/T/ipykernel_23687/2970143051.py:1: SettingWithCopyWarning: \n",
      "A value is trying to be set on a copy of a slice from a DataFrame.\n",
      "Try using .loc[row_indexer,col_indexer] = value instead\n",
      "\n",
      "See the caveats in the documentation: https://pandas.pydata.org/pandas-docs/stable/user_guide/indexing.html#returning-a-view-versus-a-copy\n",
      "  df_clean['Date mutation'] = pd.to_datetime(df_clean['Date mutation'])\n",
      "/var/folders/sr/6t4rh27j1v1fr55gfr9fvsv40000gn/T/ipykernel_23687/2970143051.py:3: SettingWithCopyWarning: \n",
      "A value is trying to be set on a copy of a slice from a DataFrame.\n",
      "Try using .loc[row_indexer,col_indexer] = value instead\n",
      "\n",
      "See the caveats in the documentation: https://pandas.pydata.org/pandas-docs/stable/user_guide/indexing.html#returning-a-view-versus-a-copy\n",
      "  df_clean['Mois'] = df_clean['Date mutation'].dt.month\n"
     ]
    },
    {
     "data": {
      "image/png": "[encoded data removed]",
      "text/plain": [
       "<Figure size 600x400 with 1 Axes>"
      ]
     },
     "metadata": {},
     "output_type": "display_data"
    }
   ],
   "source": [
    "median_peryear=df_clean.groupby('annee')['Valeur fonciere'].median().reset_index()\n",
    "mean_peryear=df_clean.groupby('annee')['Valeur fonciere'].mean().reset_index()\n",
    "\n",
    "def plot_evolution_valeurs():\n",
    "    plt.figure(figsize=(6, 4))\n",
    "    plt.plot(median_peryear['annee'], median_peryear['Valeur fonciere'], marker='o', label='Médiane', color='blue')\n",
    "\n",
    "    plt.plot(mean_peryear['annee'], mean_peryear['Valeur fonciere'], marker='o', label='Moyenne', color='green', linestyle='--')\n",
    "\n",
    "    plt.title('Évolution des valeurs foncières de 2019 à 2024')\n",
    "    plt.xlabel('Année')\n",
    "    plt.ylabel('Valeur foncière médiane')\n",
    "    plt.legend()\n",
    "    plt.grid(True)\n",
    "    plt.tight_layout()\n",
    "    plt.show()\n",
    "\n",
    "plot_evolution_valeurs()"
   ]
  },
  {
   "cell_type": "code",
   "execution_count": 9,
   "metadata": {},
   "outputs": [
    {
     "data": {
      "image/png": "[encoded data removed]",
      "text/plain": [
       "<Figure size 1000x600 with 1 Axes>"
      ]
     },
     "metadata": {},
     "output_type": "display_data"
    }
   ],
   "source": [
    "def plot_evolution_barchart(mean_peryear, median_peryear):\n",
    "    plt.figure(figsize=(10, 6))\n",
    "\n",
    "    x = mean_peryear['annee']\n",
    "    offset = 0.2 \n",
    "    plt.bar(x - offset, median_peryear['Valeur fonciere'], width=offset * 2, label='Médiane', color='green', alpha=0.6)\n",
    "    plt.bar(x + offset, mean_peryear['Valeur fonciere'], width=offset * 2, label='Moyenne', color='blue', alpha=0.6)\n",
    "    plt.title('Comparaison de la Moyenne et Médiane des Valeurs Foncières par Année (2019-2024)')\n",
    "    plt.xlabel('Année')\n",
    "    plt.ylabel('Valeur foncière')\n",
    "    plt.legend()\n",
    "\n",
    "    plt.tight_layout()\n",
    "    plt.show()\n",
    "\n",
    "plot_evolution_barchart(mean_peryear, median_peryear)\n",
    "\n"
   ]
  },
  {
   "cell_type": "code",
   "execution_count": 15,
   "metadata": {},
   "outputs": [
    {
     "data": {
      "application/vnd.jupyter.widget-view+json": {
       "model_id": "e9b54ea4bf5c4366a527ad67bbc7e0d5",
       "version_major": 2,
       "version_minor": 0
      },
      "text/plain": [
       "interactive(children=(IntSlider(value=2019, description='year', max=2024, min=2019), Output()), _dom_classes=(…"
      ]
     },
     "metadata": {},
     "output_type": "display_data"
    },
    {
     "data": {
      "text/plain": [
       "<function __main__.interactive_plot(year=2019)>"
      ]
     },
     "execution_count": 15,
     "metadata": {},
     "output_type": "execute_result"
    }
   ],
   "source": [
    "def interactive_plot(year=2019):\n",
    "    filtered_year = df_clean[df_clean['annee'] == year]\n",
    "    month_trends_median = filtered_year.groupby('Mois')['Valeur fonciere'].median().reset_index()\n",
    "    month_trends_mean = filtered_year.groupby('Mois')['Valeur fonciere'].mean().reset_index()\n",
    "\n",
    "    plt.figure(figsize=(6, 4))\n",
    "    plt.plot(month_trends_median['Mois'].astype(str), month_trends_median['Valeur fonciere'], marker='o', label=f'Médiane {year}', c='red')\n",
    "    #plt.plot(month_trends_mean['mois'].astype(str), month_trends_mean['Valeur fonciere'], marker='o',label=f'Moyenne {year}', c='blue' )\n",
    "    plt.title(f'Évolution des valeurs foncières pour {year}')\n",
    "    plt.xlabel('Mois')\n",
    "    plt.ylabel('Valeur foncière médiane')\n",
    "    plt.xticks(rotation=45)\n",
    "    plt.legend()\n",
    "    plt.grid(True)\n",
    "    plt.tight_layout()\n",
    "    plt.show()\n",
    "\n",
    "interact(interactive_plot, year=widgets.IntSlider(value=2019, min=2019, max=2024, step=1))\n"
   ]
  },
  {
   "cell_type": "markdown",
   "metadata": {},
   "source": [
    "Rupture point detection changes "
   ]
  },
  {
   "cell_type": "code",
   "execution_count": 11,
   "metadata": {},
   "outputs": [],
   "source": [
    "import pandas as pd\n",
    "import numpy as np\n",
    "import matplotlib.pyplot as plt\n",
    "import pwlf  # pip install pwlf\n",
    "import plotly.graph_objects as go  # pip install plotly\n",
    "\n",
    "# Regroupement par mois (assurez-vous que 'Date mutation' est en format datetime)\n",
    "month_trends_median = df_clean.groupby('Mois')['Valeur fonciere'].median().reset_index()\n",
    "\n",
    "#df_monthly = df_clean.resample('M', on='Date mutation').mean()  # Moyenne mensuelle\n",
    "\n",
    "# Données simplifiées (on prend seulement les valeurs foncières et les dates)\n",
    "y = month_trends_median['Valeur fonciere'].to_numpy()\n",
    "dates = month_trends_median.index\n",
    "\n",
    "# Créer un index pour la régression segmentée\n",
    "x = np.arange(len(y))  # Index des points (x)\n",
    "\n",
    "# Modèle de régression segmentée\n",
    "pwl_model = pwlf.PiecewiseLinFit(x, y)\n",
    "\n",
    "# Ajuster le modèle avec un nombre de segments donné (par ex. 3)\n",
    "n_segments = 5\n",
    "breakpoints = pwl_model.fit(n_segments)\n",
    "\n",
    "# Tracer la régression par segments\n",
    "y_pred = pwl_model.predict(x)\n",
    "\n",
    "# Visualisation interactive avec Plotly\n",
    "fig = go.Figure()\n",
    "\n",
    "# Tracer les données originales\n",
    "fig.add_trace(go.Scatter(x=dates, y=y, mode='lines+markers', name='Valeur foncière', line=dict(color='blue', width=2)))\n",
    "\n",
    "# Tracer la régression par segments\n",
    "fig.add_trace(go.Scatter(x=dates, y=y_pred, mode='lines', name=f'Regression par segments ({n_segments} segments)', line=dict(color='red', width=2)))\n",
    "\n",
    "# Ajouter les points de rupture (breakpoints)\n",
    "for bp in breakpoints:\n",
    "    fig.add_vline(x=dates[int(bp)], line=dict(color='green', dash='dash', width=2), annotation_text='Point de rupture', annotation_position=\"top right\")\n",
    "\n",
    "# Ajouter les titres et labels\n",
    "fig.update_layout(\n",
    "    title=\"Détection des ruptures (régression segmentée)\",\n",
    "    xaxis_title=\"Date\",\n",
    "    yaxis_title=\"Valeur foncière\",\n",
    "    template=\"plotly_dark\",\n",
    "    showlegend=True\n",
    ")\n",
    "\n",
    "# Afficher le graphique interactif\n",
    "fig.show(renderer=\"browser\")\n",
    "\n"
   ]
  },
  {
   "cell_type": "code",
   "execution_count": 26,
   "metadata": {},
   "outputs": [
    {
     "data": {
      "application/vnd.plotly.v1+json": {
       "config": {
        "plotlyServerURL": "https://plot.ly"
       },
       "data": [
        {
         "line": {
          "color": "blue"
         },
         "marker": {
          "color": "blue"
         },
         "mode": "lines+markers",
         "name": "Prix médian - Maison",
         "type": "scatter",
         "x": [
          "2019-01-01T00:00:00",
          "2019-02-01T00:00:00",
          "2019-03-01T00:00:00",
          "2019-04-01T00:00:00",
          "2019-05-01T00:00:00",
          "2019-06-01T00:00:00",
          "2019-07-01T00:00:00",
          "2019-08-01T00:00:00",
          "2019-09-01T00:00:00",
          "2019-10-01T00:00:00",
          "2019-11-01T00:00:00",
          "2019-12-01T00:00:00",
          "2020-01-01T00:00:00",
          "2020-02-01T00:00:00",
          "2020-03-01T00:00:00",
          "2020-04-01T00:00:00",
          "2020-05-01T00:00:00",
          "2020-06-01T00:00:00",
          "2020-07-01T00:00:00",
          "2020-08-01T00:00:00",
          "2020-09-01T00:00:00",
          "2020-10-01T00:00:00",
          "2020-11-01T00:00:00",
          "2020-12-01T00:00:00",
          "2021-01-01T00:00:00",
          "2021-02-01T00:00:00",
          "2021-03-01T00:00:00",
          "2021-04-01T00:00:00",
          "2021-05-01T00:00:00",
          "2021-06-01T00:00:00",
          "2021-07-01T00:00:00",
          "2021-08-01T00:00:00",
          "2021-09-01T00:00:00",
          "2021-10-01T00:00:00",
          "2021-11-01T00:00:00",
          "2021-12-01T00:00:00",
          "2022-01-01T00:00:00",
          "2022-02-01T00:00:00",
          "2022-03-01T00:00:00",
          "2022-04-01T00:00:00",
          "2022-05-01T00:00:00",
          "2022-06-01T00:00:00",
          "2022-07-01T00:00:00",
          "2022-08-01T00:00:00",
          "2022-09-01T00:00:00",
          "2022-10-01T00:00:00",
          "2022-11-01T00:00:00",
          "2022-12-01T00:00:00",
          "2023-01-01T00:00:00",
          "2023-02-01T00:00:00",
          "2023-03-01T00:00:00",
          "2023-04-01T00:00:00",
          "2023-05-01T00:00:00",
          "2023-06-01T00:00:00",
          "2023-07-01T00:00:00",
          "2023-08-01T00:00:00",
          "2023-09-01T00:00:00",
          "2023-10-01T00:00:00",
          "2023-11-01T00:00:00",
          "2023-12-01T00:00:00",
          "2024-01-01T00:00:00",
          "2024-02-01T00:00:00",
          "2024-03-01T00:00:00",
          "2024-04-01T00:00:00",
          "2024-05-01T00:00:00",
          "2024-06-01T00:00:00",
          "2024-07-01T00:00:00",
          "2024-08-01T00:00:00",
          "2024-09-01T00:00:00",
          "2024-10-01T00:00:00",
          "2024-11-01T00:00:00",
          "2024-12-01T00:00:00"
         ],
         "y": [
          190000,
          184950,
          182500,
          185000,
          185000,
          181400,
          181850,
          185000,
          185000,
          183000,
          181000,
          182000,
          193150,
          190000,
          190000,
          187500,
          188000,
          188500,
          186500,
          186550,
          186205,
          185400,
          183000,
          180000,
          208450,
          204000,
          201979,
          200000,
          202000,
          205000,
          204000,
          203312.5,
          200000,
          200000,
          193100,
          199500,
          218800,
          217000,
          215000,
          218000,
          218000,
          216800,
          216950,
          218450,
          213000,
          210965.36,
          215000,
          215000,
          210000,
          207436,
          212920,
          212000,
          210000,
          210000,
          210000,
          210000,
          208000,
          210000,
          210000,
          204225,
          197708.3,
          195900,
          200000,
          199000,
          200000,
          200000,
          195000,
          197000,
          200000,
          195000,
          197420,
          199500
         ]
        }
       ],
       "layout": {
        "showlegend": true,
        "template": {
         "data": {
          "bar": [
           {
            "error_x": {
             "color": "#2a3f5f"
            },
            "error_y": {
             "color": "#2a3f5f"
            },
            "marker": {
             "line": {
              "color": "#E5ECF6",
              "width": 0.5
             },
             "pattern": {
              "fillmode": "overlay",
              "size": 10,
              "solidity": 0.2
             }
            },
            "type": "bar"
           }
          ],
          "barpolar": [
           {
            "marker": {
             "line": {
              "color": "#E5ECF6",
              "width": 0.5
             },
             "pattern": {
              "fillmode": "overlay",
              "size": 10,
              "solidity": 0.2
             }
            },
            "type": "barpolar"
           }
          ],
          "carpet": [
           {
            "aaxis": {
             "endlinecolor": "#2a3f5f",
             "gridcolor": "white",
             "linecolor": "white",
             "minorgridcolor": "white",
             "startlinecolor": "#2a3f5f"
            },
            "baxis": {
             "endlinecolor": "#2a3f5f",
             "gridcolor": "white",
             "linecolor": "white",
             "minorgridcolor": "white",
             "startlinecolor": "#2a3f5f"
            },
            "type": "carpet"
           }
          ],
          "choropleth": [
           {
            "colorbar": {
             "outlinewidth": 0,
             "ticks": ""
            },
            "type": "choropleth"
           }
          ],
          "contour": [
           {
            "colorbar": {
             "outlinewidth": 0,
             "ticks": ""
            },
            "colorscale": [
             [
              0,
              "#0d0887"
             ],
             [
              0.1111111111111111,
              "#46039f"
             ],
             [
              0.2222222222222222,
              "#7201a8"
             ],
             [
              0.3333333333333333,
              "#9c179e"
             ],
             [
              0.4444444444444444,
              "#bd3786"
             ],
             [
              0.5555555555555556,
              "#d8576b"
             ],
             [
              0.6666666666666666,
              "#ed7953"
             ],
             [
              0.7777777777777778,
              "#fb9f3a"
             ],
             [
              0.8888888888888888,
              "#fdca26"
             ],
             [
              1,
              "#f0f921"
             ]
            ],
            "type": "contour"
           }
          ],
          "contourcarpet": [
           {
            "colorbar": {
             "outlinewidth": 0,
             "ticks": ""
            },
            "type": "contourcarpet"
           }
          ],
          "heatmap": [
           {
            "colorbar": {
             "outlinewidth": 0,
             "ticks": ""
            },
            "colorscale": [
             [
              0,
              "#0d0887"
             ],
             [
              0.1111111111111111,
              "#46039f"
             ],
             [
              0.2222222222222222,
              "#7201a8"
             ],
             [
              0.3333333333333333,
              "#9c179e"
             ],
             [
              0.4444444444444444,
              "#bd3786"
             ],
             [
              0.5555555555555556,
              "#d8576b"
             ],
             [
              0.6666666666666666,
              "#ed7953"
             ],
             [
              0.7777777777777778,
              "#fb9f3a"
             ],
             [
              0.8888888888888888,
              "#fdca26"
             ],
             [
              1,
              "#f0f921"
             ]
            ],
            "type": "heatmap"
           }
          ],
          "heatmapgl": [
           {
            "colorbar": {
             "outlinewidth": 0,
             "ticks": ""
            },
            "colorscale": [
             [
              0,
              "#0d0887"
             ],
             [
              0.1111111111111111,
              "#46039f"
             ],
             [
              0.2222222222222222,
              "#7201a8"
             ],
             [
              0.3333333333333333,
              "#9c179e"
             ],
             [
              0.4444444444444444,
              "#bd3786"
             ],
             [
              0.5555555555555556,
              "#d8576b"
             ],
             [
              0.6666666666666666,
              "#ed7953"
             ],
             [
              0.7777777777777778,
              "#fb9f3a"
             ],
             [
              0.8888888888888888,
              "#fdca26"
             ],
             [
              1,
              "#f0f921"
             ]
            ],
            "type": "heatmapgl"
           }
          ],
          "histogram": [
           {
            "marker": {
             "pattern": {
              "fillmode": "overlay",
              "size": 10,
              "solidity": 0.2
             }
            },
            "type": "histogram"
           }
          ],
          "histogram2d": [
           {
            "colorbar": {
             "outlinewidth": 0,
             "ticks": ""
            },
            "colorscale": [
             [
              0,
              "#0d0887"
             ],
             [
              0.1111111111111111,
              "#46039f"
             ],
             [
              0.2222222222222222,
              "#7201a8"
             ],
             [
              0.3333333333333333,
              "#9c179e"
             ],
             [
              0.4444444444444444,
              "#bd3786"
             ],
             [
              0.5555555555555556,
              "#d8576b"
             ],
             [
              0.6666666666666666,
              "#ed7953"
             ],
             [
              0.7777777777777778,
              "#fb9f3a"
             ],
             [
              0.8888888888888888,
              "#fdca26"
             ],
             [
              1,
              "#f0f921"
             ]
            ],
            "type": "histogram2d"
           }
          ],
          "histogram2dcontour": [
           {
            "colorbar": {
             "outlinewidth": 0,
             "ticks": ""
            },
            "colorscale": [
             [
              0,
              "#0d0887"
             ],
             [
              0.1111111111111111,
              "#46039f"
             ],
             [
              0.2222222222222222,
              "#7201a8"
             ],
             [
              0.3333333333333333,
              "#9c179e"
             ],
             [
              0.4444444444444444,
              "#bd3786"
             ],
             [
              0.5555555555555556,
              "#d8576b"
             ],
             [
              0.6666666666666666,
              "#ed7953"
             ],
             [
              0.7777777777777778,
              "#fb9f3a"
             ],
             [
              0.8888888888888888,
              "#fdca26"
             ],
             [
              1,
              "#f0f921"
             ]
            ],
            "type": "histogram2dcontour"
           }
          ],
          "mesh3d": [
           {
            "colorbar": {
             "outlinewidth": 0,
             "ticks": ""
            },
            "type": "mesh3d"
           }
          ],
          "parcoords": [
           {
            "line": {
             "colorbar": {
              "outlinewidth": 0,
              "ticks": ""
             }
            },
            "type": "parcoords"
           }
          ],
          "pie": [
           {
            "automargin": true,
            "type": "pie"
           }
          ],
          "scatter": [
           {
            "fillpattern": {
             "fillmode": "overlay",
             "size": 10,
             "solidity": 0.2
            },
            "type": "scatter"
           }
          ],
          "scatter3d": [
           {
            "line": {
             "colorbar": {
              "outlinewidth": 0,
              "ticks": ""
             }
            },
            "marker": {
             "colorbar": {
              "outlinewidth": 0,
              "ticks": ""
             }
            },
            "type": "scatter3d"
           }
          ],
          "scattercarpet": [
           {
            "marker": {
             "colorbar": {
              "outlinewidth": 0,
              "ticks": ""
             }
            },
            "type": "scattercarpet"
           }
          ],
          "scattergeo": [
           {
            "marker": {
             "colorbar": {
              "outlinewidth": 0,
              "ticks": ""
             }
            },
            "type": "scattergeo"
           }
          ],
          "scattergl": [
           {
            "marker": {
             "colorbar": {
              "outlinewidth": 0,
              "ticks": ""
             }
            },
            "type": "scattergl"
           }
          ],
          "scattermapbox": [
           {
            "marker": {
             "colorbar": {
              "outlinewidth": 0,
              "ticks": ""
             }
            },
            "type": "scattermapbox"
           }
          ],
          "scatterpolar": [
           {
            "marker": {
             "colorbar": {
              "outlinewidth": 0,
              "ticks": ""
             }
            },
            "type": "scatterpolar"
           }
          ],
          "scatterpolargl": [
           {
            "marker": {
             "colorbar": {
              "outlinewidth": 0,
              "ticks": ""
             }
            },
            "type": "scatterpolargl"
           }
          ],
          "scatterternary": [
           {
            "marker": {
             "colorbar": {
              "outlinewidth": 0,
              "ticks": ""
             }
            },
            "type": "scatterternary"
           }
          ],
          "surface": [
           {
            "colorbar": {
             "outlinewidth": 0,
             "ticks": ""
            },
            "colorscale": [
             [
              0,
              "#0d0887"
             ],
             [
              0.1111111111111111,
              "#46039f"
             ],
             [
              0.2222222222222222,
              "#7201a8"
             ],
             [
              0.3333333333333333,
              "#9c179e"
             ],
             [
              0.4444444444444444,
              "#bd3786"
             ],
             [
              0.5555555555555556,
              "#d8576b"
             ],
             [
              0.6666666666666666,
              "#ed7953"
             ],
             [
              0.7777777777777778,
              "#fb9f3a"
             ],
             [
              0.8888888888888888,
              "#fdca26"
             ],
             [
              1,
              "#f0f921"
             ]
            ],
            "type": "surface"
           }
          ],
          "table": [
           {
            "cells": {
             "fill": {
              "color": "#EBF0F8"
             },
             "line": {
              "color": "white"
             }
            },
            "header": {
             "fill": {
              "color": "#C8D4E3"
             },
             "line": {
              "color": "white"
             }
            },
            "type": "table"
           }
          ]
         },
         "layout": {
          "annotationdefaults": {
           "arrowcolor": "#2a3f5f",
           "arrowhead": 0,
           "arrowwidth": 1
          },
          "autotypenumbers": "strict",
          "coloraxis": {
           "colorbar": {
            "outlinewidth": 0,
            "ticks": ""
           }
          },
          "colorscale": {
           "diverging": [
            [
             0,
             "#8e0152"
            ],
            [
             0.1,
             "#c51b7d"
            ],
            [
             0.2,
             "#de77ae"
            ],
            [
             0.3,
             "#f1b6da"
            ],
            [
             0.4,
             "#fde0ef"
            ],
            [
             0.5,
             "#f7f7f7"
            ],
            [
             0.6,
             "#e6f5d0"
            ],
            [
             0.7,
             "#b8e186"
            ],
            [
             0.8,
             "#7fbc41"
            ],
            [
             0.9,
             "#4d9221"
            ],
            [
             1,
             "#276419"
            ]
           ],
           "sequential": [
            [
             0,
             "#0d0887"
            ],
            [
             0.1111111111111111,
             "#46039f"
            ],
            [
             0.2222222222222222,
             "#7201a8"
            ],
            [
             0.3333333333333333,
             "#9c179e"
            ],
            [
             0.4444444444444444,
             "#bd3786"
            ],
            [
             0.5555555555555556,
             "#d8576b"
            ],
            [
             0.6666666666666666,
             "#ed7953"
            ],
            [
             0.7777777777777778,
             "#fb9f3a"
            ],
            [
             0.8888888888888888,
             "#fdca26"
            ],
            [
             1,
             "#f0f921"
            ]
           ],
           "sequentialminus": [
            [
             0,
             "#0d0887"
            ],
            [
             0.1111111111111111,
             "#46039f"
            ],
            [
             0.2222222222222222,
             "#7201a8"
            ],
            [
             0.3333333333333333,
             "#9c179e"
            ],
            [
             0.4444444444444444,
             "#bd3786"
            ],
            [
             0.5555555555555556,
             "#d8576b"
            ],
            [
             0.6666666666666666,
             "#ed7953"
            ],
            [
             0.7777777777777778,
             "#fb9f3a"
            ],
            [
             0.8888888888888888,
             "#fdca26"
            ],
            [
             1,
             "#f0f921"
            ]
           ]
          },
          "colorway": [
           "#636efa",
           "#EF553B",
           "#00cc96",
           "#ab63fa",
           "#FFA15A",
           "#19d3f3",
           "#FF6692",
           "#B6E880",
           "#FF97FF",
           "#FECB52"
          ],
          "font": {
           "color": "#2a3f5f"
          },
          "geo": {
           "bgcolor": "white",
           "lakecolor": "white",
           "landcolor": "#E5ECF6",
           "showlakes": true,
           "showland": true,
           "subunitcolor": "white"
          },
          "hoverlabel": {
           "align": "left"
          },
          "hovermode": "closest",
          "mapbox": {
           "style": "light"
          },
          "paper_bgcolor": "white",
          "plot_bgcolor": "#E5ECF6",
          "polar": {
           "angularaxis": {
            "gridcolor": "white",
            "linecolor": "white",
            "ticks": ""
           },
           "bgcolor": "#E5ECF6",
           "radialaxis": {
            "gridcolor": "white",
            "linecolor": "white",
            "ticks": ""
           }
          },
          "scene": {
           "xaxis": {
            "backgroundcolor": "#E5ECF6",
            "gridcolor": "white",
            "gridwidth": 2,
            "linecolor": "white",
            "showbackground": true,
            "ticks": "",
            "zerolinecolor": "white"
           },
           "yaxis": {
            "backgroundcolor": "#E5ECF6",
            "gridcolor": "white",
            "gridwidth": 2,
            "linecolor": "white",
            "showbackground": true,
            "ticks": "",
            "zerolinecolor": "white"
           },
           "zaxis": {
            "backgroundcolor": "#E5ECF6",
            "gridcolor": "white",
            "gridwidth": 2,
            "linecolor": "white",
            "showbackground": true,
            "ticks": "",
            "zerolinecolor": "white"
           }
          },
          "shapedefaults": {
           "line": {
            "color": "#2a3f5f"
           }
          },
          "ternary": {
           "aaxis": {
            "gridcolor": "white",
            "linecolor": "white",
            "ticks": ""
           },
           "baxis": {
            "gridcolor": "white",
            "linecolor": "white",
            "ticks": ""
           },
           "bgcolor": "#E5ECF6",
           "caxis": {
            "gridcolor": "white",
            "linecolor": "white",
            "ticks": ""
           }
          },
          "title": {
           "x": 0.05
          },
          "xaxis": {
           "automargin": true,
           "gridcolor": "white",
           "linecolor": "white",
           "ticks": "",
           "title": {
            "standoff": 15
           },
           "zerolinecolor": "white",
           "zerolinewidth": 2
          },
          "yaxis": {
           "automargin": true,
           "gridcolor": "white",
           "linecolor": "white",
           "ticks": "",
           "title": {
            "standoff": 15
           },
           "zerolinecolor": "white",
           "zerolinewidth": 2
          }
         }
        },
        "title": {
         "text": "Évolution des prix des Maison au fil du temps"
        },
        "xaxis": {
         "tickangle": 45,
         "tickformat": "%b %Y",
         "title": {
          "text": "Date"
         }
        },
        "yaxis": {
         "title": {
          "text": "Valeur foncière médiane"
         }
        }
       }
      }
     },
     "metadata": {},
     "output_type": "display_data"
    },
    {
     "data": {
      "application/vnd.jupyter.widget-view+json": {
       "model_id": "add578201b9e4224a4b6a728ebee649f",
       "version_major": 2,
       "version_minor": 0
      },
      "text/plain": [
       "interactive(children=(Dropdown(description='Type de bien:', options=('Maison', 'Appartement', 'Local industrie…"
      ]
     },
     "metadata": {},
     "output_type": "display_data"
    },
    {
     "ename": "NameError",
     "evalue": "name 'fig' is not defined",
     "output_type": "error",
     "traceback": [
      "\u001b[0;31m---------------------------------------------------------------------------\u001b[0m",
      "\u001b[0;31mNameError\u001b[0m                                 Traceback (most recent call last)",
      "Cell \u001b[0;32mIn[26], line 41\u001b[0m\n\u001b[1;32m     34\u001b[0m \u001b[38;5;66;03m# Créer un sélecteur interactif pour choisir le type de bien\u001b[39;00m\n\u001b[1;32m     35\u001b[0m interact(interactive_plot_local, type_bien\u001b[38;5;241m=\u001b[39mwidgets\u001b[38;5;241m.\u001b[39mDropdown(\n\u001b[1;32m     36\u001b[0m     options\u001b[38;5;241m=\u001b[39mdf_clean[\u001b[38;5;124m'\u001b[39m\u001b[38;5;124mType local\u001b[39m\u001b[38;5;124m'\u001b[39m]\u001b[38;5;241m.\u001b[39munique(),  \u001b[38;5;66;03m# Liste des types de biens dans tes données\u001b[39;00m\n\u001b[1;32m     37\u001b[0m     value\u001b[38;5;241m=\u001b[39m\u001b[38;5;124m'\u001b[39m\u001b[38;5;124mMaison\u001b[39m\u001b[38;5;124m'\u001b[39m,\n\u001b[1;32m     38\u001b[0m     description\u001b[38;5;241m=\u001b[39m\u001b[38;5;124m'\u001b[39m\u001b[38;5;124mType de bien:\u001b[39m\u001b[38;5;124m'\u001b[39m,\n\u001b[1;32m     39\u001b[0m ))\n\u001b[0;32m---> 41\u001b[0m \u001b[43mfig\u001b[49m\u001b[38;5;241m.\u001b[39mshow(interactive_plot_local)\n",
      "\u001b[0;31mNameError\u001b[0m: name 'fig' is not defined"
     ]
    }
   ],
   "source": [
    "import plotly.graph_objects as go\n",
    "def interactive_plot_local(type_bien=\"Maison\"):\n",
    "    # Filtrer les données en fonction du type de bien sélectionné\n",
    "    filtered_df = df_clean[df_clean['Type local'] == type_bien]\n",
    "    \n",
    "    # Calculer la médiane des valeurs foncières par mois\n",
    "    monthly_prices = filtered_df.groupby(['annee', 'Mois'])['Valeur fonciere'].median().reset_index()\n",
    "    \n",
    "    # Créer le graphique interactif\n",
    "    fig = go.Figure()\n",
    "\n",
    "    fig.add_trace(go.Scatter(\n",
    "        x=pd.to_datetime(monthly_prices[['annee', 'Mois']].assign(day=1).astype(str).agg('-'.join, axis=1)),\n",
    "        y=monthly_prices['Valeur fonciere'],\n",
    "        mode='lines+markers',\n",
    "        name=f\"Prix médian - {type_bien}\",\n",
    "        line=dict(color='blue'),\n",
    "        marker=dict(color='blue')\n",
    "    ))\n",
    "\n",
    "    fig.update_layout(\n",
    "        title=f\"Évolution des prix des {type_bien} au fil du temps\",\n",
    "        xaxis_title=\"Date\",\n",
    "        yaxis_title=\"Valeur foncière médiane\",\n",
    "        xaxis=dict(\n",
    "            tickformat=\"%b %Y\",  # Format de date : Mois Année (ex. Jan 2023)\n",
    "            tickangle=45,\n",
    "        ),\n",
    "        showlegend=True\n",
    "    )\n",
    "    return fig\n",
    "    \n",
    "\n",
    "# Créer un sélecteur interactif pour choisir le type de bien\n",
    "interact(interactive_plot_local, type_bien=widgets.Dropdown(\n",
    "    options=df_clean['Type local'].unique(),  # Liste des types de biens dans tes données\n",
    "    value='Maison',\n",
    "    description='Type de bien:',\n",
    "))\n",
    "\n",
    "fig.show(interactive_plot_local)\n"
   ]
  },
  {
   "cell_type": "markdown",
   "metadata": {},
   "source": [
    "## 3 - Results ##\n",
    "\n",
    "Presentation of the analyses, visualizations, and findings.\n",
    "\n",
    "Visualizations:\n",
    "- Time series graphs showing property value trends over the years.\n",
    "- Line charts comparing trends across different regions."
   ]
  },
  {
   "cell_type": "code",
   "execution_count": null,
   "metadata": {},
   "outputs": [],
   "source": []
  },
  {
   "cell_type": "markdown",
   "metadata": {},
   "source": []
  },
  {
   "cell_type": "markdown",
   "metadata": {},
   "source": [
    "## 4 - Conlusion and recommandations ##\n",
    "\n",
    "Summary of discoveries and investment advice.\n",
    "\n",
    "Conclusions:\n",
    "- Synthesize observed price trends over the past years.\n",
    "- Identify external factors that could explain changes (e.g., economy, demographics, infrastructure).\n",
    "\n",
    "Recommendations:\n",
    "- Propose investment recommendations based on future price forecasts (e.g., investing in regions with predicted price growth).\n",
    "- Risk management advice based on past and future property value trends."
   ]
  },
  {
   "cell_type": "code",
   "execution_count": null,
   "metadata": {},
   "outputs": [],
   "source": []
  }
 ],
 "metadata": {
  "kernelspec": {
   "display_name": "Python 3",
   "language": "python",
   "name": "python3"
  },
  "language_info": {
   "codemirror_mode": {
    "name": "ipython",
    "version": 3
   },
   "file_extension": ".py",
   "mimetype": "text/x-python",
   "name": "python",
   "nbconvert_exporter": "python",
   "pygments_lexer": "ipython3",
   "version": "3.12.3"
  }
 },
 "nbformat": 4,
 "nbformat_minor": 2
}
