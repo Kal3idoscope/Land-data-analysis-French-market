{
 "cells": [
  {
   "cell_type": "markdown",
   "metadata": {},
   "source": [
    "## Notebook 4 : Trends and forecasts of property values "
   ]
  },
  {
   "cell_type": "markdown",
   "metadata": {},
   "source": [
    "## 1 - Introduction ##\n",
    "\n",
    "Overview of the notebook’s objective and the data used.\n"
   ]
  },
  {
   "cell_type": "markdown",
   "metadata": {},
   "source": [
    "this notebook will help identifying the past trends and foresee the evolution of the property values. We will base this analysis on historical data. Retrospective analysis : How did the prices evolve throughout time ? Can we target global  and seasonal trends ? What would be the prices in 3, 5 or 10 years ? Those insights can be more robust by linking them to geographical comparisons."
   ]
  },
  {
   "cell_type": "markdown",
   "metadata": {},
   "source": [
    "Nous allons nous poser différentes questions pour mieux saisir le contexte :\n",
    "- Comment les valeurs foncières ont-elles évolué de 2019 à 2024 ?\n",
    "- Quelle régions ou types de biens ont montré une croissance ou un déclin ?\n",
    "- Peut-on prédire les tendances futures des valeurs foncières ?\n"
   ]
  },
  {
   "cell_type": "code",
   "execution_count": 24,
   "metadata": {},
   "outputs": [],
   "source": [
    "import pandas as pd\n",
    "import seaborn as sns\n",
    "import matplotlib.pyplot as plt\n",
    "import ipywidgets as widgets\n",
    "from ipywidgets import interact"
   ]
  },
  {
   "cell_type": "code",
   "execution_count": 25,
   "metadata": {},
   "outputs": [],
   "source": [
    "# Read in the data\n",
    "df_tf = pd.read_csv('df_complete.csv', low_memory=False)"
   ]
  },
  {
   "cell_type": "code",
   "execution_count": 26,
   "metadata": {},
   "outputs": [],
   "source": [
    "df_clean = df_tf[\n",
    "    (df_tf['Valeur fonciere'] > 1000) & \n",
    "    (\n",
    "        (df_tf['Surface reelle bati'] > 0) & (df_tf['Nombre pieces principales'] > 0) |(df_tf['Surface terrain']>10) |\n",
    "        (df_tf['Type local'].isin(['Maison','Appartement','Local industriel. commercial ou assimilé','Dépendance']))\n",
    "    )\n",
    "]\n",
    "\n",
    "drop_columns=['Voie', 'Code commune', 'Code type local','Nombre de lots']\n",
    "df_clean=df_clean.drop(columns=drop_columns, errors='ignore')\n",
    "\n"
   ]
  },
  {
   "cell_type": "code",
   "execution_count": 27,
   "metadata": {},
   "outputs": [],
   "source": [
    "#### CONVERTS TO THE RIGHT TYPE ####\n",
    "category_convert = ['Nature mutation', 'Code postal', 'Commune', 'Code departement', 'Type local']\n",
    "df_clean[category_convert] = df_clean[category_convert].astype('category')\n",
    "\n",
    "df_clean['Date mutation'] = pd.to_datetime(df_clean['Date mutation'], errors = 'coerce')\n",
    "df_clean['Date mutation'] = df_clean['Date mutation'].interpolate(method='linear')\n",
    "\n",
    "df_clean['Valeur fonciere']=df_clean['Valeur fonciere'].replace({'\\xa0':'',',':'.'}, regex=True)\n",
    "df_clean['Valeur fonciere']=pd.to_numeric(df_clean['Valeur fonciere'], errors='coerce')\n",
    "df_clean['Mois'] = df_clean['Date mutation'].dt.month\n",
    "df_clean['Annee'] = df_clean['Date mutation'].dt.year\n",
    "df_clean['Jour'] = df_clean['Date mutation'].dt.day\n",
    "\n",
    "#df_clean.info()\n",
    "#print(df_clean[['Date mutation', 'Mois', 'Annee']].head())"
   ]
  },
  {
   "cell_type": "code",
   "execution_count": 28,
   "metadata": {},
   "outputs": [
    {
     "data": {
      "text/plain": [
       "Date mutation                       0\n",
       "Nature mutation                     0\n",
       "Valeur fonciere                     0\n",
       "Code postal                       733\n",
       "Commune                             0\n",
       "Code departement                    0\n",
       "Type local                          0\n",
       "Surface reelle bati           9941436\n",
       "Nombre pieces principales    10502109\n",
       "Surface terrain               4788614\n",
       "annee                               0\n",
       "Mois                                0\n",
       "Annee                               0\n",
       "Jour                                0\n",
       "dtype: int64"
      ]
     },
     "execution_count": 28,
     "metadata": {},
     "output_type": "execute_result"
    }
   ],
   "source": [
    "missing_values = df_clean.isnull().sum()\n",
    "(df_clean == 0).sum()\n"
   ]
  },
  {
   "cell_type": "code",
   "execution_count": 29,
   "metadata": {},
   "outputs": [
    {
     "data": {
      "text/plain": [
       "0"
      ]
     },
     "execution_count": 29,
     "metadata": {},
     "output_type": "execute_result"
    }
   ],
   "source": [
    "#### CHECK DUPLICATES ####\n",
    "df_clean.drop_duplicates(keep='last', inplace=True)\n",
    "df_clean.duplicated().sum()"
   ]
  },
  {
   "cell_type": "markdown",
   "metadata": {},
   "source": [
    "## 2 - Methodology ##\n",
    "\n",
    "Explanation of the analysis methods and visualizations.\n",
    "\n",
    "Data Exploration:\n",
    "- Analyze the evolution of property values over time (by year).\n",
    "- Identify significant periods of increase or decrease in prices."
   ]
  },
  {
   "cell_type": "code",
   "execution_count": 30,
   "metadata": {},
   "outputs": [
    {
     "name": "stdout",
     "output_type": "stream",
     "text": [
      "                        Date mutation Nature mutation  Valeur fonciere  \\\n",
      "count                        16534589        16534589     1.653459e+07   \n",
      "unique                            NaN               6              NaN   \n",
      "top                               NaN           Vente              NaN   \n",
      "freq                              NaN        15999177              NaN   \n",
      "mean    2021-12-18 23:53:26.117276160             NaN     5.879374e+05   \n",
      "min               2019-01-07 00:00:00             NaN     1.000250e+03   \n",
      "25%     2020-10-19 02:10:54.545454592             NaN     6.750000e+04   \n",
      "50%               2021-12-07 00:00:00             NaN     1.550000e+05   \n",
      "75%               2023-03-02 00:00:00             NaN     2.820000e+05   \n",
      "max               2024-12-06 00:00:00             NaN     1.415000e+10   \n",
      "std                               NaN             NaN     9.786668e+06   \n",
      "\n",
      "        Code postal   Commune Code departement Type local  \\\n",
      "count    16534589.0  16534589         16534589   16534589   \n",
      "unique       5870.0     31602               97          5   \n",
      "top         21000.0  TOULOUSE               59          0   \n",
      "freq        42146.0    100350           438186    6603591   \n",
      "mean            NaN       NaN              NaN        NaN   \n",
      "min             NaN       NaN              NaN        NaN   \n",
      "25%             NaN       NaN              NaN        NaN   \n",
      "50%             NaN       NaN              NaN        NaN   \n",
      "75%             NaN       NaN              NaN        NaN   \n",
      "max             NaN       NaN              NaN        NaN   \n",
      "std             NaN       NaN              NaN        NaN   \n",
      "\n",
      "        Surface reelle bati  Nombre pieces principales  Surface terrain  \\\n",
      "count          1.653459e+07               1.653459e+07     1.653459e+07   \n",
      "unique                  NaN                        NaN              NaN   \n",
      "top                     NaN                        NaN              NaN   \n",
      "freq                    NaN                        NaN              NaN   \n",
      "mean           4.707788e+01               1.309670e+00     2.068822e+03   \n",
      "min            0.000000e+00               0.000000e+00     0.000000e+00   \n",
      "25%            0.000000e+00               0.000000e+00     0.000000e+00   \n",
      "50%            0.000000e+00               0.000000e+00     3.360000e+02   \n",
      "75%            6.500000e+01               3.000000e+00     1.046000e+03   \n",
      "max            3.129620e+05               1.090000e+02     7.700000e+06   \n",
      "std            4.726200e+02               1.963151e+00     1.123797e+04   \n",
      "\n",
      "               annee          Mois         Annee          Jour  \n",
      "count   1.653459e+07  1.653459e+07  1.653459e+07  1.653459e+07  \n",
      "unique           NaN           NaN           NaN           NaN  \n",
      "top              NaN           NaN           NaN           NaN  \n",
      "freq             NaN           NaN           NaN           NaN  \n",
      "mean    2.021473e+03  6.554398e+00  2.021473e+03  1.209854e+01  \n",
      "min     2.019000e+03  1.000000e+00  2.019000e+03  1.000000e+00  \n",
      "25%     2.020000e+03  4.000000e+00  2.020000e+03  6.000000e+00  \n",
      "50%     2.021000e+03  7.000000e+00  2.021000e+03  1.000000e+01  \n",
      "75%     2.023000e+03  9.000000e+00  2.023000e+03  1.800000e+01  \n",
      "max     2.024000e+03  1.200000e+01  2.024000e+03  3.100000e+01  \n",
      "std     1.427763e+00  3.072452e+00  1.427763e+00  8.283697e+00  \n",
      "       Valeur fonciere  Surface reelle bati  Surface terrain\n",
      "count     1.653459e+07         1.653459e+07     1.653459e+07\n",
      "mean      5.879374e+05         4.707788e+01     2.068822e+03\n",
      "std       9.786668e+06         4.726200e+02     1.123797e+04\n",
      "min       1.000250e+03         0.000000e+00     0.000000e+00\n",
      "25%       6.750000e+04         0.000000e+00     0.000000e+00\n",
      "50%       1.550000e+05         0.000000e+00     3.360000e+02\n",
      "75%       2.820000e+05         6.500000e+01     1.046000e+03\n",
      "max       1.415000e+10         3.129620e+05     7.700000e+06\n"
     ]
    }
   ],
   "source": [
    "print(df_clean.describe(include='all'))\n",
    "print(df_clean[['Valeur fonciere', 'Surface reelle bati', 'Surface terrain']].describe())"
   ]
  },
  {
   "cell_type": "code",
   "execution_count": 31,
   "metadata": {},
   "outputs": [],
   "source": [
    "high_values = df_clean[df_clean['Valeur fonciere'] > 1e6]\n",
    "high_value_properties_sorted = high_values.sort_values('Valeur fonciere', ascending=False)\n"
   ]
  },
  {
   "cell_type": "markdown",
   "metadata": {},
   "source": [
    "### Outliers ###"
   ]
  },
  {
   "cell_type": "code",
   "execution_count": 98,
   "metadata": {},
   "outputs": [
    {
     "name": "stderr",
     "output_type": "stream",
     "text": [
      "/var/folders/sr/6t4rh27j1v1fr55gfr9fvsv40000gn/T/ipykernel_3979/897154010.py:13: FutureWarning: The default of observed=False is deprecated and will be changed to True in a future version of pandas. Pass observed=False to retain current behavior or observed=True to adopt the future default and silence this warning.\n",
      "  outliers.groupby(['Annee', 'Type local'])['Valeur fonciere'].agg(['count', 'mean', 'std'])\n"
     ]
    },
    {
     "data": {
      "text/html": [
       "<div>\n",
       "<style scoped>\n",
       "    .dataframe tbody tr th:only-of-type {\n",
       "        vertical-align: middle;\n",
       "    }\n",
       "\n",
       "    .dataframe tbody tr th {\n",
       "        vertical-align: top;\n",
       "    }\n",
       "\n",
       "    .dataframe thead th {\n",
       "        text-align: right;\n",
       "    }\n",
       "</style>\n",
       "<table border=\"1\" class=\"dataframe\">\n",
       "  <thead>\n",
       "    <tr style=\"text-align: right;\">\n",
       "      <th></th>\n",
       "      <th></th>\n",
       "      <th>count</th>\n",
       "      <th>mean</th>\n",
       "      <th>std</th>\n",
       "    </tr>\n",
       "    <tr>\n",
       "      <th>Annee</th>\n",
       "      <th>Type local</th>\n",
       "      <th></th>\n",
       "      <th></th>\n",
       "      <th></th>\n",
       "    </tr>\n",
       "  </thead>\n",
       "  <tbody>\n",
       "    <tr>\n",
       "      <th rowspan=\"5\" valign=\"top\">2019</th>\n",
       "      <th>0</th>\n",
       "      <td>43787</td>\n",
       "      <td>3.376175e+06</td>\n",
       "      <td>1.069031e+07</td>\n",
       "    </tr>\n",
       "    <tr>\n",
       "      <th>Appartement</th>\n",
       "      <td>28978</td>\n",
       "      <td>6.266510e+06</td>\n",
       "      <td>2.002437e+07</td>\n",
       "    </tr>\n",
       "    <tr>\n",
       "      <th>Dépendance</th>\n",
       "      <td>9128</td>\n",
       "      <td>2.385278e+06</td>\n",
       "      <td>1.068140e+07</td>\n",
       "    </tr>\n",
       "    <tr>\n",
       "      <th>Local industriel. commercial ou assimilé</th>\n",
       "      <td>16095</td>\n",
       "      <td>8.595511e+06</td>\n",
       "      <td>3.546680e+07</td>\n",
       "    </tr>\n",
       "    <tr>\n",
       "      <th>Maison</th>\n",
       "      <td>19530</td>\n",
       "      <td>2.460268e+06</td>\n",
       "      <td>8.190843e+06</td>\n",
       "    </tr>\n",
       "    <tr>\n",
       "      <th rowspan=\"5\" valign=\"top\">2020</th>\n",
       "      <th>0</th>\n",
       "      <td>71525</td>\n",
       "      <td>3.105441e+06</td>\n",
       "      <td>1.424528e+07</td>\n",
       "    </tr>\n",
       "    <tr>\n",
       "      <th>Appartement</th>\n",
       "      <td>44080</td>\n",
       "      <td>6.791387e+06</td>\n",
       "      <td>2.216418e+07</td>\n",
       "    </tr>\n",
       "    <tr>\n",
       "      <th>Dépendance</th>\n",
       "      <td>18914</td>\n",
       "      <td>2.166889e+06</td>\n",
       "      <td>9.111500e+06</td>\n",
       "    </tr>\n",
       "    <tr>\n",
       "      <th>Local industriel. commercial ou assimilé</th>\n",
       "      <td>23660</td>\n",
       "      <td>7.944146e+06</td>\n",
       "      <td>3.224512e+07</td>\n",
       "    </tr>\n",
       "    <tr>\n",
       "      <th>Maison</th>\n",
       "      <td>36060</td>\n",
       "      <td>2.034605e+06</td>\n",
       "      <td>1.046255e+07</td>\n",
       "    </tr>\n",
       "    <tr>\n",
       "      <th rowspan=\"5\" valign=\"top\">2021</th>\n",
       "      <th>0</th>\n",
       "      <td>95423</td>\n",
       "      <td>4.259888e+06</td>\n",
       "      <td>1.987987e+07</td>\n",
       "    </tr>\n",
       "    <tr>\n",
       "      <th>Appartement</th>\n",
       "      <td>55867</td>\n",
       "      <td>1.511380e+07</td>\n",
       "      <td>4.785404e+07</td>\n",
       "    </tr>\n",
       "    <tr>\n",
       "      <th>Dépendance</th>\n",
       "      <td>52038</td>\n",
       "      <td>4.389085e+06</td>\n",
       "      <td>2.454654e+07</td>\n",
       "    </tr>\n",
       "    <tr>\n",
       "      <th>Local industriel. commercial ou assimilé</th>\n",
       "      <td>30002</td>\n",
       "      <td>8.085356e+06</td>\n",
       "      <td>1.431447e+08</td>\n",
       "    </tr>\n",
       "    <tr>\n",
       "      <th>Maison</th>\n",
       "      <td>55943</td>\n",
       "      <td>5.001090e+06</td>\n",
       "      <td>2.571891e+07</td>\n",
       "    </tr>\n",
       "    <tr>\n",
       "      <th rowspan=\"5\" valign=\"top\">2022</th>\n",
       "      <th>0</th>\n",
       "      <td>104347</td>\n",
       "      <td>3.789077e+06</td>\n",
       "      <td>2.093872e+07</td>\n",
       "    </tr>\n",
       "    <tr>\n",
       "      <th>Appartement</th>\n",
       "      <td>58022</td>\n",
       "      <td>2.184188e+07</td>\n",
       "      <td>7.480935e+07</td>\n",
       "    </tr>\n",
       "    <tr>\n",
       "      <th>Dépendance</th>\n",
       "      <td>63137</td>\n",
       "      <td>3.389220e+06</td>\n",
       "      <td>2.514133e+07</td>\n",
       "    </tr>\n",
       "    <tr>\n",
       "      <th>Local industriel. commercial ou assimilé</th>\n",
       "      <td>32813</td>\n",
       "      <td>8.122447e+06</td>\n",
       "      <td>3.492667e+07</td>\n",
       "    </tr>\n",
       "    <tr>\n",
       "      <th>Maison</th>\n",
       "      <td>59265</td>\n",
       "      <td>4.226761e+06</td>\n",
       "      <td>2.966694e+07</td>\n",
       "    </tr>\n",
       "    <tr>\n",
       "      <th rowspan=\"5\" valign=\"top\">2023</th>\n",
       "      <th>0</th>\n",
       "      <td>86548</td>\n",
       "      <td>2.845686e+06</td>\n",
       "      <td>8.471319e+06</td>\n",
       "    </tr>\n",
       "    <tr>\n",
       "      <th>Appartement</th>\n",
       "      <td>55311</td>\n",
       "      <td>5.938177e+06</td>\n",
       "      <td>1.824820e+07</td>\n",
       "    </tr>\n",
       "    <tr>\n",
       "      <th>Dépendance</th>\n",
       "      <td>78092</td>\n",
       "      <td>4.237877e+06</td>\n",
       "      <td>1.094979e+07</td>\n",
       "    </tr>\n",
       "    <tr>\n",
       "      <th>Local industriel. commercial ou assimilé</th>\n",
       "      <td>29919</td>\n",
       "      <td>6.655407e+06</td>\n",
       "      <td>2.949326e+07</td>\n",
       "    </tr>\n",
       "    <tr>\n",
       "      <th>Maison</th>\n",
       "      <td>43902</td>\n",
       "      <td>1.584113e+06</td>\n",
       "      <td>4.143393e+06</td>\n",
       "    </tr>\n",
       "    <tr>\n",
       "      <th rowspan=\"5\" valign=\"top\">2024</th>\n",
       "      <th>0</th>\n",
       "      <td>31212</td>\n",
       "      <td>2.451795e+06</td>\n",
       "      <td>6.208145e+06</td>\n",
       "    </tr>\n",
       "    <tr>\n",
       "      <th>Appartement</th>\n",
       "      <td>14774</td>\n",
       "      <td>3.850468e+06</td>\n",
       "      <td>1.039928e+07</td>\n",
       "    </tr>\n",
       "    <tr>\n",
       "      <th>Dépendance</th>\n",
       "      <td>16858</td>\n",
       "      <td>1.414274e+06</td>\n",
       "      <td>3.468479e+06</td>\n",
       "    </tr>\n",
       "    <tr>\n",
       "      <th>Local industriel. commercial ou assimilé</th>\n",
       "      <td>9555</td>\n",
       "      <td>5.367842e+06</td>\n",
       "      <td>1.542505e+07</td>\n",
       "    </tr>\n",
       "    <tr>\n",
       "      <th>Maison</th>\n",
       "      <td>14982</td>\n",
       "      <td>1.444827e+06</td>\n",
       "      <td>3.285420e+06</td>\n",
       "    </tr>\n",
       "  </tbody>\n",
       "</table>\n",
       "</div>"
      ],
      "text/plain": [
       "                                                 count          mean  \\\n",
       "Annee Type local                                                       \n",
       "2019  0                                          43787  3.376175e+06   \n",
       "      Appartement                                28978  6.266510e+06   \n",
       "      Dépendance                                  9128  2.385278e+06   \n",
       "      Local industriel. commercial ou assimilé   16095  8.595511e+06   \n",
       "      Maison                                     19530  2.460268e+06   \n",
       "2020  0                                          71525  3.105441e+06   \n",
       "      Appartement                                44080  6.791387e+06   \n",
       "      Dépendance                                 18914  2.166889e+06   \n",
       "      Local industriel. commercial ou assimilé   23660  7.944146e+06   \n",
       "      Maison                                     36060  2.034605e+06   \n",
       "2021  0                                          95423  4.259888e+06   \n",
       "      Appartement                                55867  1.511380e+07   \n",
       "      Dépendance                                 52038  4.389085e+06   \n",
       "      Local industriel. commercial ou assimilé   30002  8.085356e+06   \n",
       "      Maison                                     55943  5.001090e+06   \n",
       "2022  0                                         104347  3.789077e+06   \n",
       "      Appartement                                58022  2.184188e+07   \n",
       "      Dépendance                                 63137  3.389220e+06   \n",
       "      Local industriel. commercial ou assimilé   32813  8.122447e+06   \n",
       "      Maison                                     59265  4.226761e+06   \n",
       "2023  0                                          86548  2.845686e+06   \n",
       "      Appartement                                55311  5.938177e+06   \n",
       "      Dépendance                                 78092  4.237877e+06   \n",
       "      Local industriel. commercial ou assimilé   29919  6.655407e+06   \n",
       "      Maison                                     43902  1.584113e+06   \n",
       "2024  0                                          31212  2.451795e+06   \n",
       "      Appartement                                14774  3.850468e+06   \n",
       "      Dépendance                                 16858  1.414274e+06   \n",
       "      Local industriel. commercial ou assimilé    9555  5.367842e+06   \n",
       "      Maison                                     14982  1.444827e+06   \n",
       "\n",
       "                                                         std  \n",
       "Annee Type local                                              \n",
       "2019  0                                         1.069031e+07  \n",
       "      Appartement                               2.002437e+07  \n",
       "      Dépendance                                1.068140e+07  \n",
       "      Local industriel. commercial ou assimilé  3.546680e+07  \n",
       "      Maison                                    8.190843e+06  \n",
       "2020  0                                         1.424528e+07  \n",
       "      Appartement                               2.216418e+07  \n",
       "      Dépendance                                9.111500e+06  \n",
       "      Local industriel. commercial ou assimilé  3.224512e+07  \n",
       "      Maison                                    1.046255e+07  \n",
       "2021  0                                         1.987987e+07  \n",
       "      Appartement                               4.785404e+07  \n",
       "      Dépendance                                2.454654e+07  \n",
       "      Local industriel. commercial ou assimilé  1.431447e+08  \n",
       "      Maison                                    2.571891e+07  \n",
       "2022  0                                         2.093872e+07  \n",
       "      Appartement                               7.480935e+07  \n",
       "      Dépendance                                2.514133e+07  \n",
       "      Local industriel. commercial ou assimilé  3.492667e+07  \n",
       "      Maison                                    2.966694e+07  \n",
       "2023  0                                         8.471319e+06  \n",
       "      Appartement                               1.824820e+07  \n",
       "      Dépendance                                1.094979e+07  \n",
       "      Local industriel. commercial ou assimilé  2.949326e+07  \n",
       "      Maison                                    4.143393e+06  \n",
       "2024  0                                         6.208145e+06  \n",
       "      Appartement                               1.039928e+07  \n",
       "      Dépendance                                3.468479e+06  \n",
       "      Local industriel. commercial ou assimilé  1.542505e+07  \n",
       "      Maison                                    3.285420e+06  "
      ]
     },
     "execution_count": 98,
     "metadata": {},
     "output_type": "execute_result"
    }
   ],
   "source": [
    "import numpy as np\n",
    "Q1 = df_clean['Valeur fonciere'].quantile(0.25)\n",
    "Q3 = df_clean['Valeur fonciere'].quantile(0.75)\n",
    "IQR = Q3 - Q1\n",
    "\n",
    "lower_bound = Q1 - 1.5 * IQR\n",
    "upper_bound = Q3 + 1.5 * IQR\n",
    "\n",
    "df_clean['Valeur fonciere log'] = df_clean['Valeur fonciere'].apply(lambda x: np.log(x + 1))  # +1 pour éviter log(0)\n",
    "\n",
    "outliers = df_clean[(df_clean['Valeur fonciere'] < lower_bound) | \n",
    "                    (df_clean['Valeur fonciere'] > upper_bound)]\n",
    "outliers.groupby(['Annee', 'Type local'])['Valeur fonciere'].agg(['count', 'mean', 'std'])\n"
   ]
  },
  {
   "cell_type": "markdown",
   "metadata": {},
   "source": [
    "#### Stock des valeurs outliers ####"
   ]
  },
  {
   "cell_type": "markdown",
   "metadata": {},
   "source": [
    "D'autre part, nous créeons un Data Frame qui exclut les outliers, un autre Data Frame qui inclut les outliers seulement."
   ]
  },
  {
   "cell_type": "code",
   "execution_count": 99,
   "metadata": {},
   "outputs": [],
   "source": [
    "median_value = df_clean['Valeur fonciere'].median()\n",
    "df_wo_outliers= df_clean.copy()\n",
    "df_clean['Valeur fonciere'] = np.where(df_clean['Valeur fonciere'] > upper_bound, upper_bound, df_clean['Valeur fonciere'])\n",
    "df_clean['Valeur fonciere'] = np.where(df_clean['Valeur fonciere'] < lower_bound, lower_bound, df_clean['Valeur fonciere'])"
   ]
  },
  {
   "cell_type": "markdown",
   "metadata": {},
   "source": [
    "### 1. Comment les valeurs foncières et le volume des transactions ont-ils évolué de 2019 à 2024 ? ###"
   ]
  },
  {
   "cell_type": "markdown",
   "metadata": {},
   "source": [
    "#### 1.1 Analyse du volume des transactions ####"
   ]
  },
  {
   "cell_type": "markdown",
   "metadata": {},
   "source": [
    "En chiffre, voici l'évolution du nombre de transactions réalisées de 2019 à 2024. On constate donc une augmentation et un pic du volume de transactions en 2022, et une baisse les années suivantes."
   ]
  },
  {
   "cell_type": "code",
   "execution_count": 100,
   "metadata": {},
   "outputs": [
    {
     "name": "stdout",
     "output_type": "stream",
     "text": [
      "Annee\n",
      "2019    1621704\n",
      "2020    2917672\n",
      "2021    3768840\n",
      "2022    3725110\n",
      "2023    3247216\n",
      "2024    1254047\n",
      "Name: count, dtype: int64\n"
     ]
    }
   ],
   "source": [
    "# Statistiques descriptives des colonnes temporelles\n",
    "df_clean[['Mois', 'Annee', 'Jour']].describe()\n",
    "df_clean['Annee-Mois'] = df_clean['Date mutation'].dt.to_period('M')\n",
    "\n",
    "# Nombre d'observations par mois et par année pour observer les tendances\n",
    "observations_par_mois = df_clean['Annee-Mois'].value_counts().sort_index()\n",
    "observations_par_annee = df_clean['Annee'].value_counts().sort_index()\n",
    "\n",
    "#print(observations_par_mois)\n",
    "print(observations_par_annee)"
   ]
  },
  {
   "cell_type": "markdown",
   "metadata": {},
   "source": [
    "Le graphique ci-dessous représente l'évolution par mois et année des mutations immobilières de 2019 à 2024, par types de biens : appartements, maisons, dépendances et locaux industriels, commerciaux ou assimilés. Il permet de mettre en évidence des tendances saisonnières, des différences entre les catégories de biens, et d'identifier l’impact d’événements externes sur le volume global des transactions."
   ]
  },
  {
   "cell_type": "markdown",
   "metadata": {},
   "source": [
    "###### Choisissez la plage temporelle et le type de biens que vous souhaitez observer ######"
   ]
  },
  {
   "cell_type": "code",
   "execution_count": 101,
   "metadata": {},
   "outputs": [
    {
     "data": {
      "application/vnd.jupyter.widget-view+json": {
       "model_id": "0d19d0488e6d451d844ec2ae188a8e4e",
       "version_major": 2,
       "version_minor": 0
      },
      "text/plain": [
       "interactive(children=(IntRangeSlider(value=(2021, 2023), continuous_update=False, description='Années :', max=…"
      ]
     },
     "metadata": {},
     "output_type": "display_data"
    },
    {
     "data": {
      "text/plain": [
       "<function __main__.plot_interactive(annee_range, type_bien=None)>"
      ]
     },
     "execution_count": 101,
     "metadata": {},
     "output_type": "execute_result"
    }
   ],
   "source": [
    "mutations_analyse=df_clean.copy()\n",
    "mutations_analyse['Date mutation'] = pd.to_datetime(mutations_analyse['Date mutation'])\n",
    "mutations_analyse['Annee'] = mutations_analyse['Date mutation'].dt.year\n",
    "mutations_analyse['Annee-Mois'] = mutations_analyse['Date mutation'].dt.to_period('M').astype(str)\n",
    "\n",
    "def plot_interactive(annee_range, type_bien=None):\n",
    "    filtered_data = mutations_analyse[\n",
    "        (mutations_analyse['Annee'] >= annee_range[0]) & \n",
    "        (mutations_analyse['Annee'] <= annee_range[1])\n",
    "    ]\n",
    "    \n",
    "    if type_bien: \n",
    "        filtered_data = filtered_data[filtered_data['Type local'] == type_bien]\n",
    "    \n",
    "    sequences = (\n",
    "        filtered_data.groupby(['Annee-Mois', 'Type local'],observed=False)\n",
    "        .size()\n",
    "        .reset_index(name='count')\n",
    "    )\n",
    "\n",
    "    plt.figure(figsize=(20, 6))\n",
    "    sns.lineplot(\n",
    "        data=sequences,\n",
    "        x='Annee-Mois', y='count',\n",
    "        hue='Type local', marker='o', palette='Set2'\n",
    "    )\n",
    "    plt.title('Évolution des transactions par Mois et Année')\n",
    "    plt.xlabel('Temps (Année-Mois)')\n",
    "    plt.ylabel('Nombre de Transactions')\n",
    "    plt.xticks(rotation=45)\n",
    "    plt.grid(True)\n",
    "    plt.legend(title='Type de Bien')\n",
    "    plt.show()\n",
    "\n",
    "annee_widget = widgets.IntRangeSlider(\n",
    "    value=[2021, 2023],\n",
    "    min=2019, max=2024, step=1,\n",
    "    description='Années :',\n",
    "    continuous_update=False\n",
    ")\n",
    "\n",
    "type_bien_widget = widgets.Dropdown(\n",
    "    options=[None] + list(mutations_analyse['Type local'].unique()),\n",
    "    value=None,\n",
    "    description=\"Type de Bien :\"\n",
    ")\n",
    "\n",
    "interact(\n",
    "    plot_interactive, \n",
    "    annee_range=annee_widget, \n",
    "    type_bien=type_bien_widget,\n",
    "    show_median=widgets.Checkbox(value=True, description=\"Afficher Médiane\"),\n",
    "    show_mean=widgets.Checkbox(value=False, description=\"Afficher Moyenne\")\n",
    ")\n"
   ]
  },
  {
   "cell_type": "markdown",
   "metadata": {},
   "source": [
    "##### Le graphique comporte : #####\n",
    "- En abscisses les mois et années de janvier 2019 à décembre 2024 pour illustrer une progression temporelle continue. Il est toutefois possible de modifier la plage de la période à observer.\n",
    "- En ordonnées le nombre de transactions immobilières réalisées chaque mois.\n",
    "- Différentes courbes, chacune représentant un type de local."
   ]
  },
  {
   "cell_type": "markdown",
   "metadata": {},
   "source": [
    "Nous observons un pattern saisonnier en termes de volume des transactions, quelle que soit la catégorie du bien. \n",
    "On peut identifier une augmentation régulière des transactions en début d'années, notamment pour les années 2020 à 2023. Cette augmentation intervient souvent vers janvier-février. Par la suite, le volume atteint un pic, généralement lors de la période estivale, c'est-à-dire autour de juin-juillet. Enfin, une baisse progressive a lieu en fin d'année, à partir de septembre.\n",
    "\n",
    "On peut noter que les maisons et appartements ont une forte demande car ils répondent aux besoins essentiels d'habitation, tandis que les locaux industriels ont un public restreint et répondent à des besoins spécifiques. Ceci explique son marché moins dynamique. Cette demande croissante pour des logements individuels peut s'expliquer dans un contexte post-Covid où le télétravail a rendu les besoins d'espaces et de confort plus importants, également par le type d'acheteurs (les familles).\n",
    "\n",
    "À partir de 2021, on constate une évolution intéressante : les dépendances commencent à dépasser les appartements en volume de transactions. Cette tendance s'accentue jusqu’en octobre 2023, où les dépendances prennent même le lead sur les maisons, devenant la catégorie avec le plus de transactions.\n",
    "L'évolution des taux d'intérêt pourrait avoir une incidence sur l'évolution des transaction immobilières, en particulier les dépendances. En effet,d'après l'Observatoire Crédit Logement, le taux du crédit immobilier est passé de 1.06% à 4.24%, de mars 2022 à décembre 2023, avant de redescendre à 3.46%. Face à cette augmentation du taux d'intérêt, les dépendances offrent un compromis entre prix d'achat plus bas et possibilité de créer ou d'aménager un espace, en maintenant des mensualités. "
   ]
  },
  {
   "cell_type": "markdown",
   "metadata": {},
   "source": [
    "Nous allons examiner comment les moyennes et les médianes des valeurs foncières ont changé annuellement et mensuellement pendant cette période."
   ]
  },
  {
   "cell_type": "markdown",
   "metadata": {},
   "source": [
    "#### 1.1 Évolution annuelle et mensuelle des valeurs foncières ####\n",
    "\n",
    "Cette première analyse nous permettra d'examiner l'évolution des valeurs foncières annuelles en termes de moyenne et de médiane. Il s'agit de comprendre les tendances générales et l'évolution du marché immobilier dans cette période."
   ]
  },
  {
   "cell_type": "markdown",
   "metadata": {},
   "source": [
    "Nous avons ci-dessous un graphique qui trace l'evolution globale de la médiane et la moyenne des valeurs foncières de 2019 à 2024. "
   ]
  },
  {
   "cell_type": "code",
   "execution_count": 102,
   "metadata": {},
   "outputs": [
    {
     "data": {
      "image/png": "[encoded data removed]",
      "text/plain": [
       "<Figure size 800x400 with 1 Axes>"
      ]
     },
     "metadata": {},
     "output_type": "display_data"
    }
   ],
   "source": [
    "# Calcul de la médiane et de la moyenne par année\n",
    "median_peryear = df_clean.groupby('Annee')['Valeur fonciere'].median().reset_index()\n",
    "mean_peryear = df_clean.groupby('Annee')['Valeur fonciere'].mean().reset_index()\n",
    "def plot_evolution_valeurs():\n",
    "    plt.figure(figsize=(8, 4))\n",
    "    plt.plot(median_peryear['Annee'], median_peryear['Valeur fonciere'], marker='o', label='Médiane', color='blue')\n",
    "    plt.plot(mean_peryear['Annee'], mean_peryear['Valeur fonciere'], marker='o', label='Moyenne', color='green', linestyle='--')\n",
    "\n",
    "    plt.title('Évolution des valeurs foncières de 2019 à 2024')\n",
    "    plt.xlabel('Année')\n",
    "    plt.ylabel('Valeur foncière médiane')\n",
    "    plt.legend()\n",
    "    plt.grid(True)\n",
    "    plt.tight_layout()\n",
    "    plt.show()\n",
    "\n",
    "plot_evolution_valeurs()"
   ]
  },
  {
   "cell_type": "markdown",
   "metadata": {},
   "source": [
    "La médiane est la valeur centrale dans une distribution. 50% des valeurs sont en dessous et 50% sont au-dessus. Cela la rend moins sensibles aux outliers (valeurs extrêmes). En revanche, la moyenne est plus influencée par les valeurs extrêmes ou abberantes. \n",
    "\n",
    "Nous observons une stagnation de la médiane de la valeur foncière entre 2021 et 2023, ce qui suggère que la majorité des transactions ont maintenu des prix relativement constants sur cette période. \n",
    "\n",
    "Cependant, on observe une augmentation de la moyenne à partir de 2020 jusqu'à atteindre un pic significatif en 2022, suggérant qu'il y a eu des transactions exceptionnelles cette année-là, avec des propriétés de haute valeur vendues à des prix bien supérieures à la moyenne. Ce phénomène pourrait être le résultat de quelques ventes immobilières de luxe ou dans des quartiers spécifiques, mais aussi des raisons économiques et politiques, notamment le COVID-19 apparu fin 2020, ce qui a pu influencé des personnes à acheter.\n",
    "\n"
   ]
  },
  {
   "cell_type": "markdown",
   "metadata": {},
   "source": [
    "##### Statistiques #####\n",
    "\n",
    "L'interprétation des statistiques des prix fonciers permet d'obtenir des insights sur l'évolution du marché de l'immobilier. Ci-dessous est affiché un tableau présentant la moyenne (mean), la médiane (median) et l'écart-type (std) pour chaque année étudiée.\n",
    "\n"
   ]
  },
  {
   "cell_type": "code",
   "execution_count": 103,
   "metadata": {},
   "outputs": [
    {
     "data": {
      "text/html": [
       "<div>\n",
       "<style scoped>\n",
       "    .dataframe tbody tr th:only-of-type {\n",
       "        vertical-align: middle;\n",
       "    }\n",
       "\n",
       "    .dataframe tbody tr th {\n",
       "        vertical-align: top;\n",
       "    }\n",
       "\n",
       "    .dataframe thead th {\n",
       "        text-align: right;\n",
       "    }\n",
       "</style>\n",
       "<table border=\"1\" class=\"dataframe\">\n",
       "  <thead>\n",
       "    <tr style=\"text-align: right;\">\n",
       "      <th></th>\n",
       "      <th>Annee</th>\n",
       "      <th>mean</th>\n",
       "      <th>median</th>\n",
       "      <th>std</th>\n",
       "    </tr>\n",
       "  </thead>\n",
       "  <tbody>\n",
       "    <tr>\n",
       "      <th>0</th>\n",
       "      <td>2019</td>\n",
       "      <td>191826.299879</td>\n",
       "      <td>146960.000</td>\n",
       "      <td>169541.739845</td>\n",
       "    </tr>\n",
       "    <tr>\n",
       "      <th>1</th>\n",
       "      <td>2020</td>\n",
       "      <td>192353.926940</td>\n",
       "      <td>149700.000</td>\n",
       "      <td>167169.452653</td>\n",
       "    </tr>\n",
       "    <tr>\n",
       "      <th>2</th>\n",
       "      <td>2021</td>\n",
       "      <td>204392.572242</td>\n",
       "      <td>158000.000</td>\n",
       "      <td>173917.177549</td>\n",
       "    </tr>\n",
       "    <tr>\n",
       "      <th>3</th>\n",
       "      <td>2022</td>\n",
       "      <td>212296.762048</td>\n",
       "      <td>165000.000</td>\n",
       "      <td>178297.631851</td>\n",
       "    </tr>\n",
       "    <tr>\n",
       "      <th>4</th>\n",
       "      <td>2023</td>\n",
       "      <td>208261.601164</td>\n",
       "      <td>158315.305</td>\n",
       "      <td>181538.368971</td>\n",
       "    </tr>\n",
       "    <tr>\n",
       "      <th>5</th>\n",
       "      <td>2024</td>\n",
       "      <td>187460.301474</td>\n",
       "      <td>140000.000</td>\n",
       "      <td>173063.392976</td>\n",
       "    </tr>\n",
       "  </tbody>\n",
       "</table>\n",
       "</div>"
      ],
      "text/plain": [
       "   Annee           mean      median            std\n",
       "0   2019  191826.299879  146960.000  169541.739845\n",
       "1   2020  192353.926940  149700.000  167169.452653\n",
       "2   2021  204392.572242  158000.000  173917.177549\n",
       "3   2022  212296.762048  165000.000  178297.631851\n",
       "4   2023  208261.601164  158315.305  181538.368971\n",
       "5   2024  187460.301474  140000.000  173063.392976"
      ]
     },
     "execution_count": 103,
     "metadata": {},
     "output_type": "execute_result"
    }
   ],
   "source": [
    "annual_stats = df_clean.groupby('Annee')['Valeur fonciere'].agg(['mean', 'median', 'std']).reset_index()\n",
    "annual_stats\n"
   ]
  },
  {
   "cell_type": "markdown",
   "metadata": {},
   "source": [
    "#### Zoom sur les prix moyens des transactions foncières par année ####\n",
    "\n",
    "- 2019 : 583 892 €\n",
    "- 2020 : 527 950 € (- 55 942 € soit -9,58%)\n",
    "- 2021 : 874 665 € (+ 346 715 € soit +65,65%)\n",
    "- 2022 : 1 061 206 € (+ 186 541 € soit +21,33%)\n",
    "- 2023 : 647 887 € (- 413 319 € soit -38,95%)\n",
    "- 2024 : 393 298 € (- 254 589 € -39,31%)\n",
    "\n",
    "En 2021, la moyenne des valeurs foncières augmente fortement (+65,65%) par rapport à 2020. Cela peut être lié à une reprise économique post-Covid et à une  demande significative sur le marché immobilier notamment avec le télétravail."
   ]
  },
  {
   "cell_type": "markdown",
   "metadata": {},
   "source": [
    "Ci-dessous, nous montrons la différence entre la médiane et la moyenne chaque année. Nous pouvons observer clairement que les outliers ont un impact considérable dans la valeur foncière par année."
   ]
  },
  {
   "cell_type": "code",
   "execution_count": 104,
   "metadata": {},
   "outputs": [
    {
     "data": {
      "image/png": "[encoded data removed]",
      "text/plain": [
       "<Figure size 800x300 with 1 Axes>"
      ]
     },
     "metadata": {},
     "output_type": "display_data"
    }
   ],
   "source": [
    "def plot_comparaison_moyenne_médiane():\n",
    "    plt.figure(figsize=(8, 3))\n",
    "    # Placer la médiane et la moyenne côte à côte\n",
    "    x = mean_peryear['Annee']\n",
    "    offset = 0.1 \n",
    "    plt.bar(x - offset, median_peryear['Valeur fonciere'], width=offset * 2, label='Médiane', color='green', alpha=0.6)\n",
    "    plt.bar(x + offset, mean_peryear['Valeur fonciere'], width=offset * 2, label='Moyenne', color='blue', alpha=0.6)\n",
    "    plt.title('Comparaison de la Moyenne et Médiane des Valeurs Foncières par Année (2019-2024)')\n",
    "    plt.xlabel('Année')\n",
    "    plt.ylabel('Valeur foncière')\n",
    "    plt.legend()\n",
    "\n",
    "    plt.tight_layout()\n",
    "    plt.show()\n",
    "\n",
    "plot_comparaison_moyenne_médiane()\n"
   ]
  },
  {
   "cell_type": "markdown",
   "metadata": {},
   "source": [
    "#### Zoom sur les écarts-type des transactions foncières par année ####\n",
    "\n",
    "L'écart-type permet de mesurer la dispersion des valeurs autour de la moyenne. Les variations sont particulièrement marquées en 2021 et 2022, avec un écart-type respectif de 18 914 710 € et 14 568 680 €."
   ]
  },
  {
   "cell_type": "markdown",
   "metadata": {},
   "source": [
    "Pour expliquer pourquoi l'écart-type est aussi élevé, il est nécessaire d'explorer les causes potentielles de cette dispersion.\n",
    "\n",
    "Nous allons analyser les outliers (valeurs extrêmes) de 2021 et 2022, par type de bien : "
   ]
  },
  {
   "cell_type": "markdown",
   "metadata": {},
   "source": [
    "- Appartements : \n",
    "La moyenne en 2021 est de 15 113 800€ avec un écart-type de 47 854 040€."
   ]
  },
  {
   "cell_type": "code",
   "execution_count": 105,
   "metadata": {},
   "outputs": [
    {
     "name": "stdout",
     "output_type": "stream",
     "text": [
      "Bien le plus cher parmi les outliers en 2021 :\n"
     ]
    },
    {
     "data": {
      "text/plain": [
       "Date mutation                           2021-07-14 08:43:38.181818112\n",
       "Nature mutation                                                 Vente\n",
       "Valeur fonciere                                         14149999600.0\n",
       "Code postal                                                   13008.0\n",
       "Commune                                                MARSEILLE 8EME\n",
       "Code departement                                                   13\n",
       "Type local                   Local industriel. commercial ou assimilé\n",
       "Surface reelle bati                                            3604.0\n",
       "Nombre pieces principales                                         0.0\n",
       "Surface terrain                                                5484.0\n",
       "annee                                                            2021\n",
       "Mois                                                                7\n",
       "Annee                                                            2021\n",
       "Jour                                                               14\n",
       "Annee-Mois                                                    2021-07\n",
       "Valeur fonciere log                                          23.37298\n",
       "Name: 5296899, dtype: object"
      ]
     },
     "execution_count": 105,
     "metadata": {},
     "output_type": "execute_result"
    }
   ],
   "source": [
    "outliers_2021 = outliers[outliers['Annee'] == 2021]\n",
    "most_exp_2021 = outliers_2021.sort_values(by='Valeur fonciere', ascending=False).iloc[0]\n",
    "print(\"Bien le plus cher parmi les outliers en 2021 :\")\n",
    "most_exp_2021"
   ]
  },
  {
   "cell_type": "code",
   "execution_count": 106,
   "metadata": {},
   "outputs": [
    {
     "name": "stdout",
     "output_type": "stream",
     "text": [
      "\n",
      "Bien le plus cher parmi les outliers en 2022 :\n"
     ]
    },
    {
     "data": {
      "text/plain": [
       "Date mutation                2022-02-11 00:00:00\n",
       "Nature mutation                            Vente\n",
       "Valeur fonciere                      722590020.0\n",
       "Code postal                              59700.0\n",
       "Commune                         MARCQ EN BAROEUL\n",
       "Code departement                              59\n",
       "Type local                            Dépendance\n",
       "Surface reelle bati                          0.0\n",
       "Nombre pieces principales                    0.0\n",
       "Surface terrain                            383.0\n",
       "annee                                       2022\n",
       "Mois                                           2\n",
       "Annee                                       2022\n",
       "Jour                                          11\n",
       "Annee-Mois                               2022-02\n",
       "Valeur fonciere log                    20.398353\n",
       "Name: 11276013, dtype: object"
      ]
     },
     "execution_count": 106,
     "metadata": {},
     "output_type": "execute_result"
    }
   ],
   "source": [
    "outliers_2022 = outliers[outliers['Annee'] == 2022]\n",
    "most_exp_2022 = outliers_2022.sort_values(by='Valeur fonciere', ascending=False).iloc[0]\n",
    "print(\"\\nBien le plus cher parmi les outliers en 2022 :\")\n",
    "most_exp_2022"
   ]
  },
  {
   "cell_type": "code",
   "execution_count": null,
   "metadata": {},
   "outputs": [],
   "source": []
  },
  {
   "cell_type": "markdown",
   "metadata": {},
   "source": [
    "Nous avons décidé d'afficher l'évolution des valeurs foncières par mois pour chaque année, de 2019 à 2024, indépendamment des types de local."
   ]
  },
  {
   "cell_type": "code",
   "execution_count": 88,
   "metadata": {},
   "outputs": [
    {
     "data": {
      "application/vnd.jupyter.widget-view+json": {
       "model_id": "656e2f335b4a41abbaa94ade8272fae6",
       "version_major": 2,
       "version_minor": 0
      },
      "text/plain": [
       "interactive(children=(IntRangeSlider(value=(2019, 2023), continuous_update=False, description='Années :', max=…"
      ]
     },
     "metadata": {},
     "output_type": "display_data"
    },
    {
     "data": {
      "text/plain": [
       "<function __main__.plot_interactive(annee_range, show_median=True, show_mean=True)>"
      ]
     },
     "execution_count": 88,
     "metadata": {},
     "output_type": "execute_result"
    }
   ],
   "source": [
    "def plot_interactive(annee_range, show_median=True, show_mean=True):\n",
    "    # Filtrer les données par plage d'années et de mois\n",
    "    filtered_data = mutations_analyse[\n",
    "        (mutations_analyse['Annee'] >= annee_range[0]) & \n",
    "        (mutations_analyse['Annee'] <= annee_range[1])\n",
    "    ]    \n",
    "    \n",
    "    # Calcul des moyennes et des médianes pour la période et le type de bien filtrés\n",
    "    prix_moyens = (\n",
    "        filtered_data.groupby(['Annee-Mois'])['Valeur fonciere']\n",
    "        .mean()\n",
    "        .reset_index(name='mean_price')\n",
    "    )\n",
    "    \n",
    "    prix_medians = (\n",
    "        filtered_data.groupby(['Annee-Mois'])['Valeur fonciere']\n",
    "        .median()\n",
    "        .reset_index(name='median_price')\n",
    "    )\n",
    "\n",
    "    # Graphique de la moyenne et de la médiane\n",
    "    plt.figure(figsize=(20, 6))\n",
    "    \n",
    "    if show_mean:\n",
    "        sns.lineplot(\n",
    "            data=prix_moyens,\n",
    "            x='Annee-Mois', y='mean_price',\n",
    "            label='Moyenne', marker='o', color='blue'\n",
    "        )\n",
    "        \n",
    "    if show_median:\n",
    "        sns.lineplot(\n",
    "            data=prix_medians,\n",
    "            x='Annee-Mois', y='median_price',\n",
    "            label='Médiane', marker='o', color='orange'\n",
    "        )\n",
    "    \n",
    "    plt.title('Évolution des Prix par Mois et Année')\n",
    "    plt.xlabel('Temps (Année-Mois)')\n",
    "    plt.ylabel('Prix (€)')\n",
    "    plt.xticks(rotation=45)\n",
    "    plt.grid(True)\n",
    "    plt.tight_layout()\n",
    "    plt.legend(title='Statistiques')\n",
    "    plt.show()\n",
    "\n",
    "annee_widget = widgets.IntRangeSlider(\n",
    "    value=[2019, 2023],\n",
    "    min=2019, max=2024, step=1,\n",
    "    description='Années :',\n",
    "    continuous_update=False\n",
    ")\n",
    "\n",
    "interact(\n",
    "    plot_interactive, \n",
    "    annee_range=annee_widget, \n",
    "    show_median=widgets.Checkbox(value=True, description=\"Afficher Médiane\"),\n",
    "    show_mean=widgets.Checkbox(value=True, description=\"Afficher Moyenne\")\n",
    ")"
   ]
  },
  {
   "cell_type": "code",
   "execution_count": 41,
   "metadata": {},
   "outputs": [
    {
     "data": {
      "application/vnd.jupyter.widget-view+json": {
       "model_id": "01c9fa54dc0441fc82cf29ef95e0a756",
       "version_major": 2,
       "version_minor": 0
      },
      "text/plain": [
       "interactive(children=(IntRangeSlider(value=(2021, 2023), continuous_update=False, description='Années :', max=…"
      ]
     },
     "metadata": {},
     "output_type": "display_data"
    },
    {
     "data": {
      "text/plain": [
       "<function __main__.plot_interactive(annee_range, type_bien='Maison', show_median=True, show_mean=True)>"
      ]
     },
     "execution_count": 41,
     "metadata": {},
     "output_type": "execute_result"
    }
   ],
   "source": [
    "def plot_interactive(annee_range, type_bien='Maison', show_median=True, show_mean=True):\n",
    "    filtered_data = mutations_analyse[\n",
    "        (mutations_analyse['Annee'] >= annee_range[0]) & \n",
    "        (mutations_analyse['Annee'] <= annee_range[1])\n",
    "    ]\n",
    "    \n",
    "    if type_bien: \n",
    "        filtered_data = filtered_data[filtered_data['Type local'] == type_bien]\n",
    "    \n",
    "    sequences = (\n",
    "        filtered_data.groupby(['Annee-Mois', 'Type local'],observed=False)\n",
    "        .size()\n",
    "        .reset_index(name='count')\n",
    "    )\n",
    "    \n",
    "    prix_moyens = (\n",
    "        filtered_data.groupby(['Annee-Mois', 'Type local'],observed=False)['Valeur fonciere']\n",
    "        .mean()\n",
    "        .reset_index(name='mean_price')\n",
    "    )\n",
    "\n",
    "    prix_medians= (\n",
    "        filtered_data.groupby(['Annee-Mois', 'Type local'],observed=False)['Valeur fonciere']\n",
    "        .median()\n",
    "        .reset_index(name='median_price')\n",
    "    )\n",
    "\n",
    "    plt.figure(figsize=(20, 6))\n",
    "    if show_mean:\n",
    "        sns.lineplot(\n",
    "        data=prix_moyens,\n",
    "        x='Annee-Mois', y='mean_price',\n",
    "        hue='Type local', marker='o', palette='viridis'\n",
    "    )\n",
    "        \n",
    "    if show_median:\n",
    "        sns.lineplot(\n",
    "        data=prix_medians,\n",
    "        x='Annee-Mois', y='median_price',\n",
    "        hue='Type local', marker='o', palette='Set2'\n",
    "    )\n",
    "    \n",
    "    plt.title('Évolution des Prix par Mois et Année')\n",
    "    plt.xlabel('Temps (Année-Mois)')\n",
    "    plt.ylabel('Prix (€)')\n",
    "    plt.xticks(rotation=45)\n",
    "    plt.grid(True)\n",
    "    plt.tight_layout()\n",
    "    plt.show()\n",
    "\n",
    "annee_widget = widgets.IntRangeSlider(\n",
    "    value=[2021, 2023],\n",
    "    min=2019, max=2024, step=1,\n",
    "    description='Années :',\n",
    "    continuous_update=False\n",
    ")\n",
    "\n",
    "type_bien_widget = widgets.Dropdown(\n",
    "    options=list(mutations_analyse['Type local'].unique()),\n",
    "    value=None,\n",
    "    description=\"Type de Bien :\"\n",
    ")\n",
    "\n",
    "interact(\n",
    "    plot_interactive, \n",
    "    annee_range=annee_widget, \n",
    "    type_bien=type_bien_widget,\n",
    "    show_median=widgets.Checkbox(value=True, description=\"Afficher Médiane\"),\n",
    "    show_mean=widgets.Checkbox(value=False, description=\"Afficher Moyenne\")\n",
    ")\n"
   ]
  },
  {
   "cell_type": "code",
   "execution_count": 80,
   "metadata": {},
   "outputs": [
    {
     "ename": "ValueError",
     "evalue": "Unable to determine period from endog",
     "output_type": "error",
     "traceback": [
      "\u001b[0;31m---------------------------------------------------------------------------\u001b[0m",
      "\u001b[0;31mValueError\u001b[0m                                Traceback (most recent call last)",
      "Cell \u001b[0;32mIn[80], line 5\u001b[0m\n\u001b[1;32m      3\u001b[0m \u001b[38;5;66;03m# Exemple de décomposition avec STL\u001b[39;00m\n\u001b[1;32m      4\u001b[0m data \u001b[38;5;241m=\u001b[39m df_clean\u001b[38;5;241m.\u001b[39mgroupby(\u001b[38;5;124m'\u001b[39m\u001b[38;5;124mDate mutation\u001b[39m\u001b[38;5;124m'\u001b[39m)[\u001b[38;5;124m'\u001b[39m\u001b[38;5;124mValeur fonciere\u001b[39m\u001b[38;5;124m'\u001b[39m]\u001b[38;5;241m.\u001b[39mmedian()\n\u001b[0;32m----> 5\u001b[0m stl \u001b[38;5;241m=\u001b[39m \u001b[43mSTL\u001b[49m\u001b[43m(\u001b[49m\u001b[43mdata\u001b[49m\u001b[43m,\u001b[49m\u001b[43m \u001b[49m\u001b[43mseasonal\u001b[49m\u001b[38;5;241;43m=\u001b[39;49m\u001b[38;5;241;43m13\u001b[39;49m\u001b[43m)\u001b[49m\n\u001b[1;32m      6\u001b[0m result \u001b[38;5;241m=\u001b[39m stl\u001b[38;5;241m.\u001b[39mfit()\n\u001b[1;32m      7\u001b[0m result\u001b[38;5;241m.\u001b[39mplot()\n",
      "File \u001b[0;32mstatsmodels/tsa/stl/_stl.pyx:220\u001b[0m, in \u001b[0;36mstatsmodels.tsa.stl._stl.STL.__init__\u001b[0;34m()\u001b[0m\n",
      "\u001b[0;31mValueError\u001b[0m: Unable to determine period from endog"
     ]
    }
   ],
   "source": [
    "from statsmodels.tsa.seasonal import STL\n",
    "\n",
    "# Exemple de décomposition avec STL\n",
    "data = df_clean.groupby('Date mutation')['Valeur fonciere'].median()\n",
    "stl = STL(data, seasonal=13)\n",
    "result = stl.fit()\n",
    "result.plot()\n",
    "plt.show()\n"
   ]
  },
  {
   "cell_type": "markdown",
   "metadata": {},
   "source": [
    "## 3 - Results ##\n",
    "\n",
    "Presentation of the analyses, visualizations, and findings.\n",
    "\n",
    "Visualizations:\n",
    "- Time series graphs showing property value trends over the years.\n",
    "- Line charts comparing trends across different regions."
   ]
  },
  {
   "cell_type": "code",
   "execution_count": null,
   "metadata": {},
   "outputs": [],
   "source": []
  },
  {
   "cell_type": "markdown",
   "metadata": {},
   "source": []
  },
  {
   "cell_type": "markdown",
   "metadata": {},
   "source": [
    "## 4 - Conlusion and recommandations ##\n",
    "\n",
    "Summary of discoveries and investment advice.\n",
    "\n",
    "Conclusions:\n",
    "- Synthesize observed price trends over the past years.\n",
    "- Identify external factors that could explain changes (e.g., economy, demographics, infrastructure).\n",
    "\n",
    "Recommendations:\n",
    "- Propose investment recommendations based on future price forecasts (e.g., investing in regions with predicted price growth).\n",
    "- Risk management advice based on past and future property value trends."
   ]
  },
  {
   "cell_type": "code",
   "execution_count": null,
   "metadata": {},
   "outputs": [],
   "source": []
  }
 ],
 "metadata": {
  "kernelspec": {
   "display_name": "Python 3",
   "language": "python",
   "name": "python3"
  },
  "language_info": {
   "codemirror_mode": {
    "name": "ipython",
    "version": 3
   },
   "file_extension": ".py",
   "mimetype": "text/x-python",
   "name": "python",
   "nbconvert_exporter": "python",
   "pygments_lexer": "ipython3",
   "version": "3.12.3"
  }
 },
 "nbformat": 4,
 "nbformat_minor": 2
}
