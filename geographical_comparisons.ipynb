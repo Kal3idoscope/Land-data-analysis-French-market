{
 "cells": [
  {
   "cell_type": "markdown",
   "metadata": {},
   "source": [
    "## Notebook 2 : Geographical vizualizations and regional comparisons"
   ]
  },
  {
   "cell_type": "markdown",
   "metadata": {},
   "source": [
    "## 1 - Introduction ##\n",
    "\n",
    "Overview of the notebook’s objective and the data used.\n"
   ]
  },
  {
   "cell_type": "code",
   "execution_count": 3,
   "metadata": {},
   "outputs": [
    {
     "name": "stderr",
     "output_type": "stream",
     "text": [
      "/var/folders/ql/7rnwb81s5ms8q8f6v8hbbkb00000gn/T/ipykernel_2457/325737377.py:5: DtypeWarning: Columns (6) have mixed types. Specify dtype option on import or set low_memory=False.\n",
      "  df_geo = pd.read_csv('df_complete.csv')\n"
     ]
    },
    {
     "data": {
      "text/html": [
       "<div>\n",
       "<style scoped>\n",
       "    .dataframe tbody tr th:only-of-type {\n",
       "        vertical-align: middle;\n",
       "    }\n",
       "\n",
       "    .dataframe tbody tr th {\n",
       "        vertical-align: top;\n",
       "    }\n",
       "\n",
       "    .dataframe thead th {\n",
       "        text-align: right;\n",
       "    }\n",
       "</style>\n",
       "<table border=\"1\" class=\"dataframe\">\n",
       "  <thead>\n",
       "    <tr style=\"text-align: right;\">\n",
       "      <th></th>\n",
       "      <th>Date mutation</th>\n",
       "      <th>Nature mutation</th>\n",
       "      <th>Valeur fonciere</th>\n",
       "      <th>Voie</th>\n",
       "      <th>Code postal</th>\n",
       "      <th>Commune</th>\n",
       "      <th>Code departement</th>\n",
       "      <th>Code commune</th>\n",
       "      <th>Nombre de lots</th>\n",
       "      <th>Code type local</th>\n",
       "      <th>Type local</th>\n",
       "      <th>Surface reelle bati</th>\n",
       "      <th>Nombre pieces principales</th>\n",
       "      <th>Surface terrain</th>\n",
       "      <th>annee</th>\n",
       "    </tr>\n",
       "  </thead>\n",
       "  <tbody>\n",
       "    <tr>\n",
       "      <th>0</th>\n",
       "      <td>2019-01-07 00:00:00.000000000</td>\n",
       "      <td>Vente</td>\n",
       "      <td>244200.0</td>\n",
       "      <td>COMMANDANT COUSTEAU</td>\n",
       "      <td>1000.0</td>\n",
       "      <td>BOURG-EN-BRESSE</td>\n",
       "      <td>1</td>\n",
       "      <td>53</td>\n",
       "      <td>0</td>\n",
       "      <td>1.0</td>\n",
       "      <td>Maison</td>\n",
       "      <td>150.0</td>\n",
       "      <td>5.0</td>\n",
       "      <td>695.0</td>\n",
       "      <td>2019</td>\n",
       "    </tr>\n",
       "    <tr>\n",
       "      <th>1</th>\n",
       "      <td>2019-04-07 00:00:00.000000000</td>\n",
       "      <td>Vente</td>\n",
       "      <td>195000.0</td>\n",
       "      <td>DE LA CROIX ROSIER</td>\n",
       "      <td>1250.0</td>\n",
       "      <td>HAUTECOURT-ROMANECHE</td>\n",
       "      <td>1</td>\n",
       "      <td>184</td>\n",
       "      <td>0</td>\n",
       "      <td>1.0</td>\n",
       "      <td>Maison</td>\n",
       "      <td>94.0</td>\n",
       "      <td>4.0</td>\n",
       "      <td>888.0</td>\n",
       "      <td>2019</td>\n",
       "    </tr>\n",
       "    <tr>\n",
       "      <th>2</th>\n",
       "      <td>2019-04-07 00:00:00.000000000</td>\n",
       "      <td>Vente</td>\n",
       "      <td>195000.0</td>\n",
       "      <td>DE LA CROIX ROSIER</td>\n",
       "      <td>1250.0</td>\n",
       "      <td>HAUTECOURT-ROMANECHE</td>\n",
       "      <td>1</td>\n",
       "      <td>184</td>\n",
       "      <td>0</td>\n",
       "      <td>1.0</td>\n",
       "      <td>Maison</td>\n",
       "      <td>94.0</td>\n",
       "      <td>4.0</td>\n",
       "      <td>500.0</td>\n",
       "      <td>2019</td>\n",
       "    </tr>\n",
       "    <tr>\n",
       "      <th>3</th>\n",
       "      <td>2019-04-07 00:00:00.000000000</td>\n",
       "      <td>Vente</td>\n",
       "      <td>110030.0</td>\n",
       "      <td>LA VILLE</td>\n",
       "      <td>1250.0</td>\n",
       "      <td>GRAND-CORENT</td>\n",
       "      <td>1</td>\n",
       "      <td>177</td>\n",
       "      <td>0</td>\n",
       "      <td>1.0</td>\n",
       "      <td>Maison</td>\n",
       "      <td>90.0</td>\n",
       "      <td>3.0</td>\n",
       "      <td>522.0</td>\n",
       "      <td>2019</td>\n",
       "    </tr>\n",
       "    <tr>\n",
       "      <th>4</th>\n",
       "      <td>2019-03-07 00:00:00.000000000</td>\n",
       "      <td>Vente</td>\n",
       "      <td>160450.0</td>\n",
       "      <td>CHARBONNET</td>\n",
       "      <td>1270.0</td>\n",
       "      <td>COLIGNY</td>\n",
       "      <td>1</td>\n",
       "      <td>108</td>\n",
       "      <td>0</td>\n",
       "      <td>0.0</td>\n",
       "      <td>0</td>\n",
       "      <td>0.0</td>\n",
       "      <td>0.0</td>\n",
       "      <td>8.0</td>\n",
       "      <td>2019</td>\n",
       "    </tr>\n",
       "  </tbody>\n",
       "</table>\n",
       "</div>"
      ],
      "text/plain": [
       "                   Date mutation Nature mutation  Valeur fonciere  \\\n",
       "0  2019-01-07 00:00:00.000000000           Vente         244200.0   \n",
       "1  2019-04-07 00:00:00.000000000           Vente         195000.0   \n",
       "2  2019-04-07 00:00:00.000000000           Vente         195000.0   \n",
       "3  2019-04-07 00:00:00.000000000           Vente         110030.0   \n",
       "4  2019-03-07 00:00:00.000000000           Vente         160450.0   \n",
       "\n",
       "                  Voie  Code postal               Commune Code departement  \\\n",
       "0  COMMANDANT COUSTEAU       1000.0       BOURG-EN-BRESSE                1   \n",
       "1   DE LA CROIX ROSIER       1250.0  HAUTECOURT-ROMANECHE                1   \n",
       "2   DE LA CROIX ROSIER       1250.0  HAUTECOURT-ROMANECHE                1   \n",
       "3             LA VILLE       1250.0          GRAND-CORENT                1   \n",
       "4           CHARBONNET       1270.0               COLIGNY                1   \n",
       "\n",
       "   Code commune  Nombre de lots  Code type local Type local  \\\n",
       "0            53               0              1.0     Maison   \n",
       "1           184               0              1.0     Maison   \n",
       "2           184               0              1.0     Maison   \n",
       "3           177               0              1.0     Maison   \n",
       "4           108               0              0.0          0   \n",
       "\n",
       "   Surface reelle bati  Nombre pieces principales  Surface terrain  annee  \n",
       "0                150.0                        5.0            695.0   2019  \n",
       "1                 94.0                        4.0            888.0   2019  \n",
       "2                 94.0                        4.0            500.0   2019  \n",
       "3                 90.0                        3.0            522.0   2019  \n",
       "4                  0.0                        0.0              8.0   2019  "
      ]
     },
     "execution_count": 3,
     "metadata": {},
     "output_type": "execute_result"
    }
   ],
   "source": [
    "#### EXPLORING THE DATASET ####\n",
    "import pandas as pd\n",
    "\n",
    "# Read in the data\n",
    "df_geo = pd.read_csv('df_complete.csv')\n",
    "\n",
    "df_geo.head()"
   ]
  },
  {
   "cell_type": "code",
   "execution_count": 4,
   "metadata": {},
   "outputs": [
    {
     "name": "stdout",
     "output_type": "stream",
     "text": [
      "<class 'pandas.core.frame.DataFrame'>\n",
      "RangeIndex: 17810875 entries, 0 to 17810874\n",
      "Data columns (total 15 columns):\n",
      " #   Column                     Dtype         \n",
      "---  ------                     -----         \n",
      " 0   Date mutation              datetime64[ns]\n",
      " 1   Nature mutation            category      \n",
      " 2   Valeur fonciere            float64       \n",
      " 3   Voie                       category      \n",
      " 4   Code postal                category      \n",
      " 5   Commune                    category      \n",
      " 6   Code departement           category      \n",
      " 7   Code commune               category      \n",
      " 8   Nombre de lots             int64         \n",
      " 9   Code type local            category      \n",
      " 10  Type local                 category      \n",
      " 11  Surface reelle bati        float64       \n",
      " 12  Nombre pieces principales  float64       \n",
      " 13  Surface terrain            float64       \n",
      " 14  annee                      int64         \n",
      "dtypes: category(8), datetime64[ns](1), float64(4), int64(2)\n",
      "memory usage: 1.2 GB\n"
     ]
    }
   ],
   "source": [
    "#### CONVERTS TO THE RIGHT TYPE ####\n",
    "\n",
    "category_convert = ['Nature mutation', 'Voie', 'Code postal', 'Commune', 'Code departement', 'Code commune', 'Code type local', 'Type local']\n",
    "df_geo[category_convert] = df_geo[category_convert].astype('category')\n",
    "\n",
    "df_geo['Date mutation'] = pd.to_datetime(df_geo['Date mutation'], errors = 'coerce')\n",
    "df_geo['Date mutation'] = df_geo['Date mutation'].interpolate(method='linear')\n",
    "\n",
    "df_geo['Valeur fonciere']=df_geo['Valeur fonciere'].replace({'\\xa0':'',',':'.'}, regex=True)\n",
    "df_geo['Valeur fonciere']=pd.to_numeric(df_geo['Valeur fonciere'], errors='coerce')\n",
    "\n",
    "df_geo.info()"
   ]
  },
  {
   "cell_type": "code",
   "execution_count": 5,
   "metadata": {},
   "outputs": [
    {
     "data": {
      "text/plain": [
       "Date mutation                0\n",
       "Nature mutation              0\n",
       "Valeur fonciere              0\n",
       "Voie                         0\n",
       "Code postal                  0\n",
       "Commune                      0\n",
       "Code departement             0\n",
       "Code commune                 0\n",
       "Nombre de lots               0\n",
       "Code type local              0\n",
       "Type local                   0\n",
       "Surface reelle bati          0\n",
       "Nombre pieces principales    0\n",
       "Surface terrain              0\n",
       "annee                        0\n",
       "dtype: int64"
      ]
     },
     "execution_count": 5,
     "metadata": {},
     "output_type": "execute_result"
    }
   ],
   "source": [
    "#### CHECK MISSING VALUES ####\n",
    "df_geo.isnull().sum()"
   ]
  },
  {
   "cell_type": "code",
   "execution_count": 6,
   "metadata": {},
   "outputs": [
    {
     "data": {
      "text/plain": [
       "0"
      ]
     },
     "execution_count": 6,
     "metadata": {},
     "output_type": "execute_result"
    }
   ],
   "source": [
    "#### CHECK DUPLICATES ####\n",
    "#df_geo.drop_duplicates(keep='last', inplace=True)\n",
    "df_geo.duplicated().sum()"
   ]
  },
  {
   "cell_type": "code",
   "execution_count": 7,
   "metadata": {},
   "outputs": [
    {
     "data": {
      "text/html": [
       "<div>\n",
       "<style scoped>\n",
       "    .dataframe tbody tr th:only-of-type {\n",
       "        vertical-align: middle;\n",
       "    }\n",
       "\n",
       "    .dataframe tbody tr th {\n",
       "        vertical-align: top;\n",
       "    }\n",
       "\n",
       "    .dataframe thead th {\n",
       "        text-align: right;\n",
       "    }\n",
       "</style>\n",
       "<table border=\"1\" class=\"dataframe\">\n",
       "  <thead>\n",
       "    <tr style=\"text-align: right;\">\n",
       "      <th></th>\n",
       "      <th>Date mutation</th>\n",
       "      <th>Nature mutation</th>\n",
       "      <th>Valeur fonciere</th>\n",
       "      <th>Voie</th>\n",
       "      <th>Code postal</th>\n",
       "      <th>Commune</th>\n",
       "      <th>Code departement</th>\n",
       "      <th>Code commune</th>\n",
       "      <th>Nombre de lots</th>\n",
       "      <th>Code type local</th>\n",
       "      <th>Type local</th>\n",
       "      <th>Surface reelle bati</th>\n",
       "      <th>Nombre pieces principales</th>\n",
       "      <th>Surface terrain</th>\n",
       "      <th>annee</th>\n",
       "    </tr>\n",
       "  </thead>\n",
       "  <tbody>\n",
       "    <tr>\n",
       "      <th>0</th>\n",
       "      <td>2019-01-07</td>\n",
       "      <td>Vente</td>\n",
       "      <td>244200.0</td>\n",
       "      <td>COMMANDANT COUSTEAU</td>\n",
       "      <td>1000.0</td>\n",
       "      <td>BOURG-EN-BRESSE</td>\n",
       "      <td>1</td>\n",
       "      <td>53</td>\n",
       "      <td>0</td>\n",
       "      <td>1.0</td>\n",
       "      <td>Maison</td>\n",
       "      <td>150.0</td>\n",
       "      <td>5.0</td>\n",
       "      <td>695.0</td>\n",
       "      <td>2019</td>\n",
       "    </tr>\n",
       "    <tr>\n",
       "      <th>1</th>\n",
       "      <td>2019-04-07</td>\n",
       "      <td>Vente</td>\n",
       "      <td>195000.0</td>\n",
       "      <td>DE LA CROIX ROSIER</td>\n",
       "      <td>1250.0</td>\n",
       "      <td>HAUTECOURT-ROMANECHE</td>\n",
       "      <td>1</td>\n",
       "      <td>184</td>\n",
       "      <td>0</td>\n",
       "      <td>1.0</td>\n",
       "      <td>Maison</td>\n",
       "      <td>94.0</td>\n",
       "      <td>4.0</td>\n",
       "      <td>888.0</td>\n",
       "      <td>2019</td>\n",
       "    </tr>\n",
       "    <tr>\n",
       "      <th>2</th>\n",
       "      <td>2019-04-07</td>\n",
       "      <td>Vente</td>\n",
       "      <td>195000.0</td>\n",
       "      <td>DE LA CROIX ROSIER</td>\n",
       "      <td>1250.0</td>\n",
       "      <td>HAUTECOURT-ROMANECHE</td>\n",
       "      <td>1</td>\n",
       "      <td>184</td>\n",
       "      <td>0</td>\n",
       "      <td>1.0</td>\n",
       "      <td>Maison</td>\n",
       "      <td>94.0</td>\n",
       "      <td>4.0</td>\n",
       "      <td>500.0</td>\n",
       "      <td>2019</td>\n",
       "    </tr>\n",
       "    <tr>\n",
       "      <th>3</th>\n",
       "      <td>2019-04-07</td>\n",
       "      <td>Vente</td>\n",
       "      <td>110030.0</td>\n",
       "      <td>LA VILLE</td>\n",
       "      <td>1250.0</td>\n",
       "      <td>GRAND-CORENT</td>\n",
       "      <td>1</td>\n",
       "      <td>177</td>\n",
       "      <td>0</td>\n",
       "      <td>1.0</td>\n",
       "      <td>Maison</td>\n",
       "      <td>90.0</td>\n",
       "      <td>3.0</td>\n",
       "      <td>522.0</td>\n",
       "      <td>2019</td>\n",
       "    </tr>\n",
       "    <tr>\n",
       "      <th>4</th>\n",
       "      <td>2019-03-07</td>\n",
       "      <td>Vente</td>\n",
       "      <td>160450.0</td>\n",
       "      <td>CHARBONNET</td>\n",
       "      <td>1270.0</td>\n",
       "      <td>COLIGNY</td>\n",
       "      <td>1</td>\n",
       "      <td>108</td>\n",
       "      <td>0</td>\n",
       "      <td>0.0</td>\n",
       "      <td>0</td>\n",
       "      <td>0.0</td>\n",
       "      <td>0.0</td>\n",
       "      <td>8.0</td>\n",
       "      <td>2019</td>\n",
       "    </tr>\n",
       "  </tbody>\n",
       "</table>\n",
       "</div>"
      ],
      "text/plain": [
       "  Date mutation Nature mutation  Valeur fonciere                 Voie  \\\n",
       "0    2019-01-07           Vente         244200.0  COMMANDANT COUSTEAU   \n",
       "1    2019-04-07           Vente         195000.0   DE LA CROIX ROSIER   \n",
       "2    2019-04-07           Vente         195000.0   DE LA CROIX ROSIER   \n",
       "3    2019-04-07           Vente         110030.0             LA VILLE   \n",
       "4    2019-03-07           Vente         160450.0           CHARBONNET   \n",
       "\n",
       "  Code postal               Commune Code departement Code commune  \\\n",
       "0      1000.0       BOURG-EN-BRESSE                1           53   \n",
       "1      1250.0  HAUTECOURT-ROMANECHE                1          184   \n",
       "2      1250.0  HAUTECOURT-ROMANECHE                1          184   \n",
       "3      1250.0          GRAND-CORENT                1          177   \n",
       "4      1270.0               COLIGNY                1          108   \n",
       "\n",
       "   Nombre de lots Code type local Type local  Surface reelle bati  \\\n",
       "0               0             1.0     Maison                150.0   \n",
       "1               0             1.0     Maison                 94.0   \n",
       "2               0             1.0     Maison                 94.0   \n",
       "3               0             1.0     Maison                 90.0   \n",
       "4               0             0.0          0                  0.0   \n",
       "\n",
       "   Nombre pieces principales  Surface terrain  annee  \n",
       "0                        5.0            695.0   2019  \n",
       "1                        4.0            888.0   2019  \n",
       "2                        4.0            500.0   2019  \n",
       "3                        3.0            522.0   2019  \n",
       "4                        0.0              8.0   2019  "
      ]
     },
     "execution_count": 7,
     "metadata": {},
     "output_type": "execute_result"
    }
   ],
   "source": [
    "df_geo.head()"
   ]
  },
  {
   "cell_type": "markdown",
   "metadata": {},
   "source": [
    "## 2 - Methodology ##\n",
    "\n",
    "Explanation of the analysis methods and visualizations.\n",
    "\n",
    "Data Exploration:\n",
    "- Analyze geographical data (communes, departments) and its relationship to property values.\n",
    "- Study temporal trends in transactions across regions."
   ]
  },
  {
   "cell_type": "code",
   "execution_count": 8,
   "metadata": {},
   "outputs": [],
   "source": [
    "#### LIBRARIES ####\n",
    "import pandas as pd\n",
    "import numpy as np\n",
    "import seaborn as sns\n",
    "import matplotlib.pyplot as plt\n",
    "from geopy.geocoders import Nominatim\n",
    "import time\n",
    "import geopandas as gpd\n",
    "from geopy.exc import GeopyError\n",
    "import plotly.express as px\n",
    "from plotly.subplots import make_subplots\n",
    "import plotly.graph_objects as go"
   ]
  },
  {
   "cell_type": "code",
   "execution_count": 9,
   "metadata": {},
   "outputs": [
    {
     "data": {
      "text/html": [
       "<div>\n",
       "<style scoped>\n",
       "    .dataframe tbody tr th:only-of-type {\n",
       "        vertical-align: middle;\n",
       "    }\n",
       "\n",
       "    .dataframe tbody tr th {\n",
       "        vertical-align: top;\n",
       "    }\n",
       "\n",
       "    .dataframe thead th {\n",
       "        text-align: right;\n",
       "    }\n",
       "</style>\n",
       "<table border=\"1\" class=\"dataframe\">\n",
       "  <thead>\n",
       "    <tr style=\"text-align: right;\">\n",
       "      <th></th>\n",
       "      <th>Date mutation</th>\n",
       "      <th>Nature mutation</th>\n",
       "      <th>Valeur fonciere</th>\n",
       "      <th>Voie</th>\n",
       "      <th>Code postal</th>\n",
       "      <th>Commune</th>\n",
       "      <th>Code departement</th>\n",
       "      <th>Code commune</th>\n",
       "      <th>Nombre de lots</th>\n",
       "      <th>Code type local</th>\n",
       "      <th>Type local</th>\n",
       "      <th>Surface reelle bati</th>\n",
       "      <th>Nombre pieces principales</th>\n",
       "      <th>Surface terrain</th>\n",
       "      <th>annee</th>\n",
       "      <th>price_per_sq_meter</th>\n",
       "    </tr>\n",
       "  </thead>\n",
       "  <tbody>\n",
       "    <tr>\n",
       "      <th>0</th>\n",
       "      <td>2019-01-07</td>\n",
       "      <td>Vente</td>\n",
       "      <td>244200.0</td>\n",
       "      <td>COMMANDANT COUSTEAU</td>\n",
       "      <td>1000.0</td>\n",
       "      <td>BOURG-EN-BRESSE</td>\n",
       "      <td>1</td>\n",
       "      <td>53</td>\n",
       "      <td>0</td>\n",
       "      <td>1.0</td>\n",
       "      <td>Maison</td>\n",
       "      <td>150.0</td>\n",
       "      <td>5.0</td>\n",
       "      <td>695.0</td>\n",
       "      <td>2019</td>\n",
       "      <td>1628.00</td>\n",
       "    </tr>\n",
       "    <tr>\n",
       "      <th>1</th>\n",
       "      <td>2019-04-07</td>\n",
       "      <td>Vente</td>\n",
       "      <td>195000.0</td>\n",
       "      <td>DE LA CROIX ROSIER</td>\n",
       "      <td>1250.0</td>\n",
       "      <td>HAUTECOURT-ROMANECHE</td>\n",
       "      <td>1</td>\n",
       "      <td>184</td>\n",
       "      <td>0</td>\n",
       "      <td>1.0</td>\n",
       "      <td>Maison</td>\n",
       "      <td>94.0</td>\n",
       "      <td>4.0</td>\n",
       "      <td>888.0</td>\n",
       "      <td>2019</td>\n",
       "      <td>2074.47</td>\n",
       "    </tr>\n",
       "    <tr>\n",
       "      <th>2</th>\n",
       "      <td>2019-04-07</td>\n",
       "      <td>Vente</td>\n",
       "      <td>195000.0</td>\n",
       "      <td>DE LA CROIX ROSIER</td>\n",
       "      <td>1250.0</td>\n",
       "      <td>HAUTECOURT-ROMANECHE</td>\n",
       "      <td>1</td>\n",
       "      <td>184</td>\n",
       "      <td>0</td>\n",
       "      <td>1.0</td>\n",
       "      <td>Maison</td>\n",
       "      <td>94.0</td>\n",
       "      <td>4.0</td>\n",
       "      <td>500.0</td>\n",
       "      <td>2019</td>\n",
       "      <td>2074.47</td>\n",
       "    </tr>\n",
       "    <tr>\n",
       "      <th>3</th>\n",
       "      <td>2019-04-07</td>\n",
       "      <td>Vente</td>\n",
       "      <td>110030.0</td>\n",
       "      <td>LA VILLE</td>\n",
       "      <td>1250.0</td>\n",
       "      <td>GRAND-CORENT</td>\n",
       "      <td>1</td>\n",
       "      <td>177</td>\n",
       "      <td>0</td>\n",
       "      <td>1.0</td>\n",
       "      <td>Maison</td>\n",
       "      <td>90.0</td>\n",
       "      <td>3.0</td>\n",
       "      <td>522.0</td>\n",
       "      <td>2019</td>\n",
       "      <td>1222.56</td>\n",
       "    </tr>\n",
       "    <tr>\n",
       "      <th>4</th>\n",
       "      <td>2019-03-07</td>\n",
       "      <td>Vente</td>\n",
       "      <td>160450.0</td>\n",
       "      <td>CHARBONNET</td>\n",
       "      <td>1270.0</td>\n",
       "      <td>COLIGNY</td>\n",
       "      <td>1</td>\n",
       "      <td>108</td>\n",
       "      <td>0</td>\n",
       "      <td>0.0</td>\n",
       "      <td>0</td>\n",
       "      <td>0.0</td>\n",
       "      <td>0.0</td>\n",
       "      <td>8.0</td>\n",
       "      <td>2019</td>\n",
       "      <td>inf</td>\n",
       "    </tr>\n",
       "  </tbody>\n",
       "</table>\n",
       "</div>"
      ],
      "text/plain": [
       "  Date mutation Nature mutation  Valeur fonciere                 Voie  \\\n",
       "0    2019-01-07           Vente         244200.0  COMMANDANT COUSTEAU   \n",
       "1    2019-04-07           Vente         195000.0   DE LA CROIX ROSIER   \n",
       "2    2019-04-07           Vente         195000.0   DE LA CROIX ROSIER   \n",
       "3    2019-04-07           Vente         110030.0             LA VILLE   \n",
       "4    2019-03-07           Vente         160450.0           CHARBONNET   \n",
       "\n",
       "  Code postal               Commune Code departement Code commune  \\\n",
       "0      1000.0       BOURG-EN-BRESSE                1           53   \n",
       "1      1250.0  HAUTECOURT-ROMANECHE                1          184   \n",
       "2      1250.0  HAUTECOURT-ROMANECHE                1          184   \n",
       "3      1250.0          GRAND-CORENT                1          177   \n",
       "4      1270.0               COLIGNY                1          108   \n",
       "\n",
       "   Nombre de lots Code type local Type local  Surface reelle bati  \\\n",
       "0               0             1.0     Maison                150.0   \n",
       "1               0             1.0     Maison                 94.0   \n",
       "2               0             1.0     Maison                 94.0   \n",
       "3               0             1.0     Maison                 90.0   \n",
       "4               0             0.0          0                  0.0   \n",
       "\n",
       "   Nombre pieces principales  Surface terrain  annee  price_per_sq_meter  \n",
       "0                        5.0            695.0   2019             1628.00  \n",
       "1                        4.0            888.0   2019             2074.47  \n",
       "2                        4.0            500.0   2019             2074.47  \n",
       "3                        3.0            522.0   2019             1222.56  \n",
       "4                        0.0              8.0   2019                 inf  "
      ]
     },
     "execution_count": 9,
     "metadata": {},
     "output_type": "execute_result"
    }
   ],
   "source": [
    "#### PRICE PER SQUARE METER ####\n",
    "df_geo['price_per_sq_meter'] = df_geo['Valeur fonciere'] / df_geo['Surface reelle bati']\n",
    "df_geo['price_per_sq_meter'] = df_geo['price_per_sq_meter'].round(2)\n",
    "df_geo.head()"
   ]
  },
  {
   "cell_type": "code",
   "execution_count": 10,
   "metadata": {},
   "outputs": [
    {
     "name": "stdout",
     "output_type": "stream",
     "text": [
      "No build average price per square meter :  385543.11 €\n",
      "No build median price per square meter :  120000.0 €\n",
      "\n",
      "Build average price per square meter :  885459.29 €\n",
      "Build median price per square meter :  191900.0 €\n"
     ]
    }
   ],
   "source": [
    "#### ANALISYS OF WHEN THERE'S NO BUILD ####\n",
    "df_no_build = df_geo[df_geo['Surface reelle bati']==0]\n",
    "mean_no_build = round(df_no_build['Valeur fonciere'].mean(), 2)\n",
    "median_no_build = round(df_no_build['Valeur fonciere'].median(), 2)\n",
    "\n",
    "print('No build average price per square meter : ', mean_no_build, '€')\n",
    "print('No build median price per square meter : ', median_no_build, '€')\n",
    "\n",
    "df_build = df_geo[df_geo['Surface reelle bati']!=0]\n",
    "mean_build = round(df_build['Valeur fonciere'].mean(), 2)\n",
    "median_build = round(df_build['Valeur fonciere'].median(), 2)\n",
    "\n",
    "print('\\nBuild average price per square meter : ', mean_build, '€')\n",
    "print('Build median price per square meter : ', median_build, '€')"
   ]
  },
  {
   "cell_type": "code",
   "execution_count": 11,
   "metadata": {},
   "outputs": [
    {
     "data": {
      "application/vnd.plotly.v1+json": {
       "config": {
        "plotlyServerURL": "https://plot.ly"
       },
       "data": [
        {
         "marker": {
          "color": "rgb(158, 185, 243)"
         },
         "name": "Maen",
         "type": "bar",
         "x": [
          "No Build Terrain",
          "Built Terrain"
         ],
         "xaxis": "x",
         "y": [
          385543.11,
          885459.29
         ],
         "yaxis": "y"
        },
        {
         "marker": {
          "color": "rgb(220, 176, 242)"
         },
         "name": "Mean",
         "type": "bar",
         "x": [
          "No Build Terrain",
          "Built Terrain"
         ],
         "xaxis": "x2",
         "y": [
          120000,
          191900
         ],
         "yaxis": "y2"
        }
       ],
       "layout": {
        "annotations": [
         {
          "font": {
           "size": 16
          },
          "showarrow": false,
          "text": "Mean",
          "x": 0.225,
          "xanchor": "center",
          "xref": "paper",
          "y": 1,
          "yanchor": "bottom",
          "yref": "paper"
         },
         {
          "font": {
           "size": 16
          },
          "showarrow": false,
          "text": "Median",
          "x": 0.775,
          "xanchor": "center",
          "xref": "paper",
          "y": 1,
          "yanchor": "bottom",
          "yref": "paper"
         }
        ],
        "showlegend": false,
        "template": {
         "data": {
          "bar": [
           {
            "error_x": {
             "color": "#2a3f5f"
            },
            "error_y": {
             "color": "#2a3f5f"
            },
            "marker": {
             "line": {
              "color": "#E5ECF6",
              "width": 0.5
             },
             "pattern": {
              "fillmode": "overlay",
              "size": 10,
              "solidity": 0.2
             }
            },
            "type": "bar"
           }
          ],
          "barpolar": [
           {
            "marker": {
             "line": {
              "color": "#E5ECF6",
              "width": 0.5
             },
             "pattern": {
              "fillmode": "overlay",
              "size": 10,
              "solidity": 0.2
             }
            },
            "type": "barpolar"
           }
          ],
          "carpet": [
           {
            "aaxis": {
             "endlinecolor": "#2a3f5f",
             "gridcolor": "white",
             "linecolor": "white",
             "minorgridcolor": "white",
             "startlinecolor": "#2a3f5f"
            },
            "baxis": {
             "endlinecolor": "#2a3f5f",
             "gridcolor": "white",
             "linecolor": "white",
             "minorgridcolor": "white",
             "startlinecolor": "#2a3f5f"
            },
            "type": "carpet"
           }
          ],
          "choropleth": [
           {
            "colorbar": {
             "outlinewidth": 0,
             "ticks": ""
            },
            "type": "choropleth"
           }
          ],
          "contour": [
           {
            "colorbar": {
             "outlinewidth": 0,
             "ticks": ""
            },
            "colorscale": [
             [
              0,
              "#0d0887"
             ],
             [
              0.1111111111111111,
              "#46039f"
             ],
             [
              0.2222222222222222,
              "#7201a8"
             ],
             [
              0.3333333333333333,
              "#9c179e"
             ],
             [
              0.4444444444444444,
              "#bd3786"
             ],
             [
              0.5555555555555556,
              "#d8576b"
             ],
             [
              0.6666666666666666,
              "#ed7953"
             ],
             [
              0.7777777777777778,
              "#fb9f3a"
             ],
             [
              0.8888888888888888,
              "#fdca26"
             ],
             [
              1,
              "#f0f921"
             ]
            ],
            "type": "contour"
           }
          ],
          "contourcarpet": [
           {
            "colorbar": {
             "outlinewidth": 0,
             "ticks": ""
            },
            "type": "contourcarpet"
           }
          ],
          "heatmap": [
           {
            "colorbar": {
             "outlinewidth": 0,
             "ticks": ""
            },
            "colorscale": [
             [
              0,
              "#0d0887"
             ],
             [
              0.1111111111111111,
              "#46039f"
             ],
             [
              0.2222222222222222,
              "#7201a8"
             ],
             [
              0.3333333333333333,
              "#9c179e"
             ],
             [
              0.4444444444444444,
              "#bd3786"
             ],
             [
              0.5555555555555556,
              "#d8576b"
             ],
             [
              0.6666666666666666,
              "#ed7953"
             ],
             [
              0.7777777777777778,
              "#fb9f3a"
             ],
             [
              0.8888888888888888,
              "#fdca26"
             ],
             [
              1,
              "#f0f921"
             ]
            ],
            "type": "heatmap"
           }
          ],
          "heatmapgl": [
           {
            "colorbar": {
             "outlinewidth": 0,
             "ticks": ""
            },
            "colorscale": [
             [
              0,
              "#0d0887"
             ],
             [
              0.1111111111111111,
              "#46039f"
             ],
             [
              0.2222222222222222,
              "#7201a8"
             ],
             [
              0.3333333333333333,
              "#9c179e"
             ],
             [
              0.4444444444444444,
              "#bd3786"
             ],
             [
              0.5555555555555556,
              "#d8576b"
             ],
             [
              0.6666666666666666,
              "#ed7953"
             ],
             [
              0.7777777777777778,
              "#fb9f3a"
             ],
             [
              0.8888888888888888,
              "#fdca26"
             ],
             [
              1,
              "#f0f921"
             ]
            ],
            "type": "heatmapgl"
           }
          ],
          "histogram": [
           {
            "marker": {
             "pattern": {
              "fillmode": "overlay",
              "size": 10,
              "solidity": 0.2
             }
            },
            "type": "histogram"
           }
          ],
          "histogram2d": [
           {
            "colorbar": {
             "outlinewidth": 0,
             "ticks": ""
            },
            "colorscale": [
             [
              0,
              "#0d0887"
             ],
             [
              0.1111111111111111,
              "#46039f"
             ],
             [
              0.2222222222222222,
              "#7201a8"
             ],
             [
              0.3333333333333333,
              "#9c179e"
             ],
             [
              0.4444444444444444,
              "#bd3786"
             ],
             [
              0.5555555555555556,
              "#d8576b"
             ],
             [
              0.6666666666666666,
              "#ed7953"
             ],
             [
              0.7777777777777778,
              "#fb9f3a"
             ],
             [
              0.8888888888888888,
              "#fdca26"
             ],
             [
              1,
              "#f0f921"
             ]
            ],
            "type": "histogram2d"
           }
          ],
          "histogram2dcontour": [
           {
            "colorbar": {
             "outlinewidth": 0,
             "ticks": ""
            },
            "colorscale": [
             [
              0,
              "#0d0887"
             ],
             [
              0.1111111111111111,
              "#46039f"
             ],
             [
              0.2222222222222222,
              "#7201a8"
             ],
             [
              0.3333333333333333,
              "#9c179e"
             ],
             [
              0.4444444444444444,
              "#bd3786"
             ],
             [
              0.5555555555555556,
              "#d8576b"
             ],
             [
              0.6666666666666666,
              "#ed7953"
             ],
             [
              0.7777777777777778,
              "#fb9f3a"
             ],
             [
              0.8888888888888888,
              "#fdca26"
             ],
             [
              1,
              "#f0f921"
             ]
            ],
            "type": "histogram2dcontour"
           }
          ],
          "mesh3d": [
           {
            "colorbar": {
             "outlinewidth": 0,
             "ticks": ""
            },
            "type": "mesh3d"
           }
          ],
          "parcoords": [
           {
            "line": {
             "colorbar": {
              "outlinewidth": 0,
              "ticks": ""
             }
            },
            "type": "parcoords"
           }
          ],
          "pie": [
           {
            "automargin": true,
            "type": "pie"
           }
          ],
          "scatter": [
           {
            "fillpattern": {
             "fillmode": "overlay",
             "size": 10,
             "solidity": 0.2
            },
            "type": "scatter"
           }
          ],
          "scatter3d": [
           {
            "line": {
             "colorbar": {
              "outlinewidth": 0,
              "ticks": ""
             }
            },
            "marker": {
             "colorbar": {
              "outlinewidth": 0,
              "ticks": ""
             }
            },
            "type": "scatter3d"
           }
          ],
          "scattercarpet": [
           {
            "marker": {
             "colorbar": {
              "outlinewidth": 0,
              "ticks": ""
             }
            },
            "type": "scattercarpet"
           }
          ],
          "scattergeo": [
           {
            "marker": {
             "colorbar": {
              "outlinewidth": 0,
              "ticks": ""
             }
            },
            "type": "scattergeo"
           }
          ],
          "scattergl": [
           {
            "marker": {
             "colorbar": {
              "outlinewidth": 0,
              "ticks": ""
             }
            },
            "type": "scattergl"
           }
          ],
          "scattermapbox": [
           {
            "marker": {
             "colorbar": {
              "outlinewidth": 0,
              "ticks": ""
             }
            },
            "type": "scattermapbox"
           }
          ],
          "scatterpolar": [
           {
            "marker": {
             "colorbar": {
              "outlinewidth": 0,
              "ticks": ""
             }
            },
            "type": "scatterpolar"
           }
          ],
          "scatterpolargl": [
           {
            "marker": {
             "colorbar": {
              "outlinewidth": 0,
              "ticks": ""
             }
            },
            "type": "scatterpolargl"
           }
          ],
          "scatterternary": [
           {
            "marker": {
             "colorbar": {
              "outlinewidth": 0,
              "ticks": ""
             }
            },
            "type": "scatterternary"
           }
          ],
          "surface": [
           {
            "colorbar": {
             "outlinewidth": 0,
             "ticks": ""
            },
            "colorscale": [
             [
              0,
              "#0d0887"
             ],
             [
              0.1111111111111111,
              "#46039f"
             ],
             [
              0.2222222222222222,
              "#7201a8"
             ],
             [
              0.3333333333333333,
              "#9c179e"
             ],
             [
              0.4444444444444444,
              "#bd3786"
             ],
             [
              0.5555555555555556,
              "#d8576b"
             ],
             [
              0.6666666666666666,
              "#ed7953"
             ],
             [
              0.7777777777777778,
              "#fb9f3a"
             ],
             [
              0.8888888888888888,
              "#fdca26"
             ],
             [
              1,
              "#f0f921"
             ]
            ],
            "type": "surface"
           }
          ],
          "table": [
           {
            "cells": {
             "fill": {
              "color": "#EBF0F8"
             },
             "line": {
              "color": "white"
             }
            },
            "header": {
             "fill": {
              "color": "#C8D4E3"
             },
             "line": {
              "color": "white"
             }
            },
            "type": "table"
           }
          ]
         },
         "layout": {
          "annotationdefaults": {
           "arrowcolor": "#2a3f5f",
           "arrowhead": 0,
           "arrowwidth": 1
          },
          "autotypenumbers": "strict",
          "coloraxis": {
           "colorbar": {
            "outlinewidth": 0,
            "ticks": ""
           }
          },
          "colorscale": {
           "diverging": [
            [
             0,
             "#8e0152"
            ],
            [
             0.1,
             "#c51b7d"
            ],
            [
             0.2,
             "#de77ae"
            ],
            [
             0.3,
             "#f1b6da"
            ],
            [
             0.4,
             "#fde0ef"
            ],
            [
             0.5,
             "#f7f7f7"
            ],
            [
             0.6,
             "#e6f5d0"
            ],
            [
             0.7,
             "#b8e186"
            ],
            [
             0.8,
             "#7fbc41"
            ],
            [
             0.9,
             "#4d9221"
            ],
            [
             1,
             "#276419"
            ]
           ],
           "sequential": [
            [
             0,
             "#0d0887"
            ],
            [
             0.1111111111111111,
             "#46039f"
            ],
            [
             0.2222222222222222,
             "#7201a8"
            ],
            [
             0.3333333333333333,
             "#9c179e"
            ],
            [
             0.4444444444444444,
             "#bd3786"
            ],
            [
             0.5555555555555556,
             "#d8576b"
            ],
            [
             0.6666666666666666,
             "#ed7953"
            ],
            [
             0.7777777777777778,
             "#fb9f3a"
            ],
            [
             0.8888888888888888,
             "#fdca26"
            ],
            [
             1,
             "#f0f921"
            ]
           ],
           "sequentialminus": [
            [
             0,
             "#0d0887"
            ],
            [
             0.1111111111111111,
             "#46039f"
            ],
            [
             0.2222222222222222,
             "#7201a8"
            ],
            [
             0.3333333333333333,
             "#9c179e"
            ],
            [
             0.4444444444444444,
             "#bd3786"
            ],
            [
             0.5555555555555556,
             "#d8576b"
            ],
            [
             0.6666666666666666,
             "#ed7953"
            ],
            [
             0.7777777777777778,
             "#fb9f3a"
            ],
            [
             0.8888888888888888,
             "#fdca26"
            ],
            [
             1,
             "#f0f921"
            ]
           ]
          },
          "colorway": [
           "#636efa",
           "#EF553B",
           "#00cc96",
           "#ab63fa",
           "#FFA15A",
           "#19d3f3",
           "#FF6692",
           "#B6E880",
           "#FF97FF",
           "#FECB52"
          ],
          "font": {
           "color": "#2a3f5f"
          },
          "geo": {
           "bgcolor": "white",
           "lakecolor": "white",
           "landcolor": "#E5ECF6",
           "showlakes": true,
           "showland": true,
           "subunitcolor": "white"
          },
          "hoverlabel": {
           "align": "left"
          },
          "hovermode": "closest",
          "mapbox": {
           "style": "light"
          },
          "paper_bgcolor": "white",
          "plot_bgcolor": "#E5ECF6",
          "polar": {
           "angularaxis": {
            "gridcolor": "white",
            "linecolor": "white",
            "ticks": ""
           },
           "bgcolor": "#E5ECF6",
           "radialaxis": {
            "gridcolor": "white",
            "linecolor": "white",
            "ticks": ""
           }
          },
          "scene": {
           "xaxis": {
            "backgroundcolor": "#E5ECF6",
            "gridcolor": "white",
            "gridwidth": 2,
            "linecolor": "white",
            "showbackground": true,
            "ticks": "",
            "zerolinecolor": "white"
           },
           "yaxis": {
            "backgroundcolor": "#E5ECF6",
            "gridcolor": "white",
            "gridwidth": 2,
            "linecolor": "white",
            "showbackground": true,
            "ticks": "",
            "zerolinecolor": "white"
           },
           "zaxis": {
            "backgroundcolor": "#E5ECF6",
            "gridcolor": "white",
            "gridwidth": 2,
            "linecolor": "white",
            "showbackground": true,
            "ticks": "",
            "zerolinecolor": "white"
           }
          },
          "shapedefaults": {
           "line": {
            "color": "#2a3f5f"
           }
          },
          "ternary": {
           "aaxis": {
            "gridcolor": "white",
            "linecolor": "white",
            "ticks": ""
           },
           "baxis": {
            "gridcolor": "white",
            "linecolor": "white",
            "ticks": ""
           },
           "bgcolor": "#E5ECF6",
           "caxis": {
            "gridcolor": "white",
            "linecolor": "white",
            "ticks": ""
           }
          },
          "title": {
           "x": 0.05
          },
          "xaxis": {
           "automargin": true,
           "gridcolor": "white",
           "linecolor": "white",
           "ticks": "",
           "title": {
            "standoff": 15
           },
           "zerolinecolor": "white",
           "zerolinewidth": 2
          },
          "yaxis": {
           "automargin": true,
           "gridcolor": "white",
           "linecolor": "white",
           "ticks": "",
           "title": {
            "standoff": 15
           },
           "zerolinecolor": "white",
           "zerolinewidth": 2
          }
         }
        },
        "title": {
         "text": "Comparison between no build terrains and built terrains prices"
        },
        "xaxis": {
         "anchor": "y",
         "domain": [
          0,
          0.45
         ],
         "title": {
          "text": "Terrain Type"
         }
        },
        "xaxis2": {
         "anchor": "y2",
         "domain": [
          0.55,
          1
         ],
         "title": {
          "text": "Terrain Type"
         }
        },
        "yaxis": {
         "anchor": "x",
         "domain": [
          0,
          1
         ],
         "title": {
          "text": "Property Value (€)"
         }
        },
        "yaxis2": {
         "anchor": "x2",
         "domain": [
          0,
          1
         ],
         "range": [
          0,
          900000
         ]
        }
       }
      }
     },
     "metadata": {},
     "output_type": "display_data"
    }
   ],
   "source": [
    "#### PLOT NO BUILD / BUILT TERRAIN PRICE ####\n",
    "\n",
    "colors = px.colors.qualitative.Pastel\n",
    "\n",
    "# Data\n",
    "categories = ['No Build Terrain', 'Built Terrain']\n",
    "mean_values = [mean_no_build, mean_build]\n",
    "median_values = [median_no_build, median_build]\n",
    "\n",
    "# Create subplots\n",
    "fig = make_subplots(\n",
    "    rows=1, cols=2,\n",
    "    subplot_titles=(\"Mean\", \"Median\"),\n",
    "    specs=[[{\"type\": \"xy\"}, {\"type\": \"xy\"}]]\n",
    ")\n",
    "\n",
    "# Outliers\n",
    "fig.add_trace(\n",
    "    go.Bar(\n",
    "    y = mean_values,\n",
    "    x = categories,\n",
    "    name = 'Maen',\n",
    "    marker = dict(color = colors[5]),\n",
    "    ),\n",
    "    row=1, col=1\n",
    ")\n",
    "\n",
    "# Non-outliers\n",
    "fig.add_trace(\n",
    "    go.Bar(\n",
    "        y = median_values,\n",
    "        x = categories,\n",
    "        name = 'Mean',\n",
    "        marker = dict(color = colors[3]),\n",
    "    ),\n",
    "    row=1, col=2\n",
    ")\n",
    "\n",
    "fig.update_layout(\n",
    "    title_text=\"Comparison between no build terrains and built terrains prices\",\n",
    "    xaxis_title=\"Terrain Type\",\n",
    "    xaxis2_title=\"Terrain Type\",\n",
    "    yaxis_title=\"Property Value (€)\",\n",
    "    showlegend=False,\n",
    "    yaxis2=dict(range=[0, 900000])\n",
    ")\n",
    "fig.show()"
   ]
  },
  {
   "cell_type": "code",
   "execution_count": 12,
   "metadata": {},
   "outputs": [
    {
     "data": {
      "text/html": [
       "<div>\n",
       "<style scoped>\n",
       "    .dataframe tbody tr th:only-of-type {\n",
       "        vertical-align: middle;\n",
       "    }\n",
       "\n",
       "    .dataframe tbody tr th {\n",
       "        vertical-align: top;\n",
       "    }\n",
       "\n",
       "    .dataframe thead th {\n",
       "        text-align: right;\n",
       "    }\n",
       "</style>\n",
       "<table border=\"1\" class=\"dataframe\">\n",
       "  <thead>\n",
       "    <tr style=\"text-align: right;\">\n",
       "      <th></th>\n",
       "      <th>Date mutation</th>\n",
       "      <th>Nature mutation</th>\n",
       "      <th>Valeur fonciere</th>\n",
       "      <th>Voie</th>\n",
       "      <th>Code postal</th>\n",
       "      <th>Commune</th>\n",
       "      <th>Code departement</th>\n",
       "      <th>Code commune</th>\n",
       "      <th>Nombre de lots</th>\n",
       "      <th>Code type local</th>\n",
       "      <th>Type local</th>\n",
       "      <th>Surface reelle bati</th>\n",
       "      <th>Nombre pieces principales</th>\n",
       "      <th>Surface terrain</th>\n",
       "      <th>annee</th>\n",
       "      <th>price_per_sq_meter</th>\n",
       "    </tr>\n",
       "  </thead>\n",
       "  <tbody>\n",
       "    <tr>\n",
       "      <th>0</th>\n",
       "      <td>2019-01-07</td>\n",
       "      <td>Vente</td>\n",
       "      <td>244200.0</td>\n",
       "      <td>COMMANDANT COUSTEAU</td>\n",
       "      <td>1000.0</td>\n",
       "      <td>BOURG-EN-BRESSE</td>\n",
       "      <td>1</td>\n",
       "      <td>53</td>\n",
       "      <td>0</td>\n",
       "      <td>1.0</td>\n",
       "      <td>Maison</td>\n",
       "      <td>150.0</td>\n",
       "      <td>5.0</td>\n",
       "      <td>695.0</td>\n",
       "      <td>2019</td>\n",
       "      <td>1628.00</td>\n",
       "    </tr>\n",
       "    <tr>\n",
       "      <th>1</th>\n",
       "      <td>2019-04-07</td>\n",
       "      <td>Vente</td>\n",
       "      <td>195000.0</td>\n",
       "      <td>DE LA CROIX ROSIER</td>\n",
       "      <td>1250.0</td>\n",
       "      <td>HAUTECOURT-ROMANECHE</td>\n",
       "      <td>1</td>\n",
       "      <td>184</td>\n",
       "      <td>0</td>\n",
       "      <td>1.0</td>\n",
       "      <td>Maison</td>\n",
       "      <td>94.0</td>\n",
       "      <td>4.0</td>\n",
       "      <td>888.0</td>\n",
       "      <td>2019</td>\n",
       "      <td>2074.47</td>\n",
       "    </tr>\n",
       "    <tr>\n",
       "      <th>2</th>\n",
       "      <td>2019-04-07</td>\n",
       "      <td>Vente</td>\n",
       "      <td>195000.0</td>\n",
       "      <td>DE LA CROIX ROSIER</td>\n",
       "      <td>1250.0</td>\n",
       "      <td>HAUTECOURT-ROMANECHE</td>\n",
       "      <td>1</td>\n",
       "      <td>184</td>\n",
       "      <td>0</td>\n",
       "      <td>1.0</td>\n",
       "      <td>Maison</td>\n",
       "      <td>94.0</td>\n",
       "      <td>4.0</td>\n",
       "      <td>500.0</td>\n",
       "      <td>2019</td>\n",
       "      <td>2074.47</td>\n",
       "    </tr>\n",
       "    <tr>\n",
       "      <th>3</th>\n",
       "      <td>2019-04-07</td>\n",
       "      <td>Vente</td>\n",
       "      <td>110030.0</td>\n",
       "      <td>LA VILLE</td>\n",
       "      <td>1250.0</td>\n",
       "      <td>GRAND-CORENT</td>\n",
       "      <td>1</td>\n",
       "      <td>177</td>\n",
       "      <td>0</td>\n",
       "      <td>1.0</td>\n",
       "      <td>Maison</td>\n",
       "      <td>90.0</td>\n",
       "      <td>3.0</td>\n",
       "      <td>522.0</td>\n",
       "      <td>2019</td>\n",
       "      <td>1222.56</td>\n",
       "    </tr>\n",
       "    <tr>\n",
       "      <th>5</th>\n",
       "      <td>2019-03-07</td>\n",
       "      <td>Vente</td>\n",
       "      <td>160450.0</td>\n",
       "      <td>CHARBONNET</td>\n",
       "      <td>1270.0</td>\n",
       "      <td>COLIGNY</td>\n",
       "      <td>1</td>\n",
       "      <td>108</td>\n",
       "      <td>0</td>\n",
       "      <td>1.0</td>\n",
       "      <td>Maison</td>\n",
       "      <td>110.0</td>\n",
       "      <td>5.0</td>\n",
       "      <td>2483.0</td>\n",
       "      <td>2019</td>\n",
       "      <td>1458.64</td>\n",
       "    </tr>\n",
       "  </tbody>\n",
       "</table>\n",
       "</div>"
      ],
      "text/plain": [
       "  Date mutation Nature mutation  Valeur fonciere                 Voie  \\\n",
       "0    2019-01-07           Vente         244200.0  COMMANDANT COUSTEAU   \n",
       "1    2019-04-07           Vente         195000.0   DE LA CROIX ROSIER   \n",
       "2    2019-04-07           Vente         195000.0   DE LA CROIX ROSIER   \n",
       "3    2019-04-07           Vente         110030.0             LA VILLE   \n",
       "5    2019-03-07           Vente         160450.0           CHARBONNET   \n",
       "\n",
       "  Code postal               Commune Code departement Code commune  \\\n",
       "0      1000.0       BOURG-EN-BRESSE                1           53   \n",
       "1      1250.0  HAUTECOURT-ROMANECHE                1          184   \n",
       "2      1250.0  HAUTECOURT-ROMANECHE                1          184   \n",
       "3      1250.0          GRAND-CORENT                1          177   \n",
       "5      1270.0               COLIGNY                1          108   \n",
       "\n",
       "   Nombre de lots Code type local Type local  Surface reelle bati  \\\n",
       "0               0             1.0     Maison                150.0   \n",
       "1               0             1.0     Maison                 94.0   \n",
       "2               0             1.0     Maison                 94.0   \n",
       "3               0             1.0     Maison                 90.0   \n",
       "5               0             1.0     Maison                110.0   \n",
       "\n",
       "   Nombre pieces principales  Surface terrain  annee  price_per_sq_meter  \n",
       "0                        5.0            695.0   2019             1628.00  \n",
       "1                        4.0            888.0   2019             2074.47  \n",
       "2                        4.0            500.0   2019             2074.47  \n",
       "3                        3.0            522.0   2019             1222.56  \n",
       "5                        5.0           2483.0   2019             1458.64  "
      ]
     },
     "execution_count": 12,
     "metadata": {},
     "output_type": "execute_result"
    }
   ],
   "source": [
    "#### DELETE THE INF (NO BUILD) ####\n",
    "df_geo['price_per_sq_meter'] = df_geo['price_per_sq_meter'].replace([np.inf, -np.inf], np.nan)\n",
    "df_geo.dropna(subset=['price_per_sq_meter'], inplace=True)\n",
    "df_geo.head()"
   ]
  },
  {
   "cell_type": "code",
   "execution_count": 13,
   "metadata": {},
   "outputs": [
    {
     "data": {
      "text/plain": [
       "Date mutation                0\n",
       "Nature mutation              0\n",
       "Valeur fonciere              0\n",
       "Voie                         0\n",
       "Code postal                  0\n",
       "Commune                      0\n",
       "Code departement             0\n",
       "Code commune                 0\n",
       "Nombre de lots               0\n",
       "Code type local              0\n",
       "Type local                   0\n",
       "Surface reelle bati          0\n",
       "Nombre pieces principales    0\n",
       "Surface terrain              0\n",
       "annee                        0\n",
       "price_per_sq_meter           0\n",
       "dtype: int64"
      ]
     },
     "execution_count": 13,
     "metadata": {},
     "output_type": "execute_result"
    }
   ],
   "source": [
    "df_geo.isnull().sum()"
   ]
  },
  {
   "cell_type": "code",
   "execution_count": 14,
   "metadata": {},
   "outputs": [
    {
     "data": {
      "text/html": [
       "<div>\n",
       "<style scoped>\n",
       "    .dataframe tbody tr th:only-of-type {\n",
       "        vertical-align: middle;\n",
       "    }\n",
       "\n",
       "    .dataframe tbody tr th {\n",
       "        vertical-align: top;\n",
       "    }\n",
       "\n",
       "    .dataframe thead th {\n",
       "        text-align: right;\n",
       "    }\n",
       "</style>\n",
       "<table border=\"1\" class=\"dataframe\">\n",
       "  <thead>\n",
       "    <tr style=\"text-align: right;\">\n",
       "      <th></th>\n",
       "      <th>Code departement</th>\n",
       "      <th>Commune</th>\n",
       "      <th>mean_value</th>\n",
       "      <th>median_value</th>\n",
       "      <th>sum_value</th>\n",
       "      <th>count_transactions</th>\n",
       "      <th>avg_price_per_sq_meter</th>\n",
       "    </tr>\n",
       "  </thead>\n",
       "  <tbody>\n",
       "    <tr>\n",
       "      <th>0</th>\n",
       "      <td>1</td>\n",
       "      <td>ABERGEMENT-DE-VAREY (L )</td>\n",
       "      <td>221209.090909</td>\n",
       "      <td>151500.0</td>\n",
       "      <td>4.866600e+06</td>\n",
       "      <td>22</td>\n",
       "      <td>2173.657273</td>\n",
       "    </tr>\n",
       "    <tr>\n",
       "      <th>1</th>\n",
       "      <td>1</td>\n",
       "      <td>AMBERIEU-EN-BUGEY</td>\n",
       "      <td>292340.818088</td>\n",
       "      <td>180000.0</td>\n",
       "      <td>4.189244e+08</td>\n",
       "      <td>1433</td>\n",
       "      <td>3348.534997</td>\n",
       "    </tr>\n",
       "    <tr>\n",
       "      <th>2</th>\n",
       "      <td>1</td>\n",
       "      <td>AMBERIEUX-EN-DOMBES</td>\n",
       "      <td>456563.153017</td>\n",
       "      <td>300000.0</td>\n",
       "      <td>1.059227e+08</td>\n",
       "      <td>232</td>\n",
       "      <td>6723.550388</td>\n",
       "    </tr>\n",
       "    <tr>\n",
       "      <th>3</th>\n",
       "      <td>1</td>\n",
       "      <td>AMBLEON</td>\n",
       "      <td>153721.153846</td>\n",
       "      <td>140000.0</td>\n",
       "      <td>1.998375e+06</td>\n",
       "      <td>13</td>\n",
       "      <td>1649.996923</td>\n",
       "    </tr>\n",
       "    <tr>\n",
       "      <th>4</th>\n",
       "      <td>1</td>\n",
       "      <td>AMBRONAY</td>\n",
       "      <td>215684.533807</td>\n",
       "      <td>222000.0</td>\n",
       "      <td>4.248985e+07</td>\n",
       "      <td>197</td>\n",
       "      <td>2170.585330</td>\n",
       "    </tr>\n",
       "  </tbody>\n",
       "</table>\n",
       "</div>"
      ],
      "text/plain": [
       "  Code departement                   Commune     mean_value  median_value  \\\n",
       "0                1  ABERGEMENT-DE-VAREY (L )  221209.090909      151500.0   \n",
       "1                1         AMBERIEU-EN-BUGEY  292340.818088      180000.0   \n",
       "2                1       AMBERIEUX-EN-DOMBES  456563.153017      300000.0   \n",
       "3                1                   AMBLEON  153721.153846      140000.0   \n",
       "4                1                  AMBRONAY  215684.533807      222000.0   \n",
       "\n",
       "      sum_value  count_transactions  avg_price_per_sq_meter  \n",
       "0  4.866600e+06                  22             2173.657273  \n",
       "1  4.189244e+08                1433             3348.534997  \n",
       "2  1.059227e+08                 232             6723.550388  \n",
       "3  1.998375e+06                  13             1649.996923  \n",
       "4  4.248985e+07                 197             2170.585330  "
      ]
     },
     "execution_count": 14,
     "metadata": {},
     "output_type": "execute_result"
    }
   ],
   "source": [
    "#### GROUPING DATA BY DEPARTMENT AND COMMUNE + METRICS CALCULUS ####\n",
    "grouped_geo = df_geo.groupby(['Code departement', 'Commune'], observed=True).agg(\n",
    "    mean_value=('Valeur fonciere', 'mean'),\n",
    "    median_value=('Valeur fonciere', 'median'),\n",
    "    sum_value=('Valeur fonciere', 'sum'),\n",
    "    count_transactions=('Valeur fonciere', 'count'),\n",
    "    avg_price_per_sq_meter=('price_per_sq_meter', 'mean')\n",
    ").reset_index()\n",
    "\n",
    "grouped_geo.head()"
   ]
  },
  {
   "cell_type": "code",
   "execution_count": 15,
   "metadata": {},
   "outputs": [
    {
     "data": {
      "text/plain": [
       "Code departement          0\n",
       "Commune                   0\n",
       "mean_value                0\n",
       "median_value              0\n",
       "sum_value                 0\n",
       "count_transactions        0\n",
       "avg_price_per_sq_meter    0\n",
       "dtype: int64"
      ]
     },
     "execution_count": 15,
     "metadata": {},
     "output_type": "execute_result"
    }
   ],
   "source": [
    "grouped_geo.isnull().sum()"
   ]
  },
  {
   "cell_type": "code",
   "execution_count": 16,
   "metadata": {},
   "outputs": [
    {
     "data": {
      "text/html": [
       "<div>\n",
       "<style scoped>\n",
       "    .dataframe tbody tr th:only-of-type {\n",
       "        vertical-align: middle;\n",
       "    }\n",
       "\n",
       "    .dataframe tbody tr th {\n",
       "        vertical-align: top;\n",
       "    }\n",
       "\n",
       "    .dataframe thead th {\n",
       "        text-align: right;\n",
       "    }\n",
       "</style>\n",
       "<table border=\"1\" class=\"dataframe\">\n",
       "  <thead>\n",
       "    <tr style=\"text-align: right;\">\n",
       "      <th></th>\n",
       "      <th>mean_value</th>\n",
       "      <th>median_value</th>\n",
       "      <th>sum_value</th>\n",
       "      <th>count_transactions</th>\n",
       "      <th>avg_price_per_sq_meter</th>\n",
       "    </tr>\n",
       "  </thead>\n",
       "  <tbody>\n",
       "    <tr>\n",
       "      <th>count</th>\n",
       "      <td>3.601100e+04</td>\n",
       "      <td>3.601100e+04</td>\n",
       "      <td>3.601100e+04</td>\n",
       "      <td>36011.000000</td>\n",
       "      <td>3.601100e+04</td>\n",
       "    </tr>\n",
       "    <tr>\n",
       "      <th>mean</th>\n",
       "      <td>3.829089e+05</td>\n",
       "      <td>1.808535e+05</td>\n",
       "      <td>1.662621e+08</td>\n",
       "      <td>187.769376</td>\n",
       "      <td>5.036595e+03</td>\n",
       "    </tr>\n",
       "    <tr>\n",
       "      <th>std</th>\n",
       "      <td>2.438199e+06</td>\n",
       "      <td>1.180005e+06</td>\n",
       "      <td>3.169427e+09</td>\n",
       "      <td>908.061425</td>\n",
       "      <td>3.929502e+04</td>\n",
       "    </tr>\n",
       "    <tr>\n",
       "      <th>min</th>\n",
       "      <td>0.000000e+00</td>\n",
       "      <td>0.000000e+00</td>\n",
       "      <td>0.000000e+00</td>\n",
       "      <td>1.000000</td>\n",
       "      <td>0.000000e+00</td>\n",
       "    </tr>\n",
       "    <tr>\n",
       "      <th>25%</th>\n",
       "      <td>1.278895e+05</td>\n",
       "      <td>1.137000e+05</td>\n",
       "      <td>2.631419e+06</td>\n",
       "      <td>18.000000</td>\n",
       "      <td>1.361230e+03</td>\n",
       "    </tr>\n",
       "    <tr>\n",
       "      <th>50%</th>\n",
       "      <td>1.764647e+05</td>\n",
       "      <td>1.577500e+05</td>\n",
       "      <td>7.694298e+06</td>\n",
       "      <td>44.000000</td>\n",
       "      <td>1.857614e+03</td>\n",
       "    </tr>\n",
       "    <tr>\n",
       "      <th>75%</th>\n",
       "      <td>2.444724e+05</td>\n",
       "      <td>2.115000e+05</td>\n",
       "      <td>2.384110e+07</td>\n",
       "      <td>113.000000</td>\n",
       "      <td>2.639380e+03</td>\n",
       "    </tr>\n",
       "    <tr>\n",
       "      <th>max</th>\n",
       "      <td>1.177274e+08</td>\n",
       "      <td>2.206233e+08</td>\n",
       "      <td>3.668532e+11</td>\n",
       "      <td>50966.000000</td>\n",
       "      <td>2.304816e+06</td>\n",
       "    </tr>\n",
       "  </tbody>\n",
       "</table>\n",
       "</div>"
      ],
      "text/plain": [
       "         mean_value  median_value     sum_value  count_transactions  \\\n",
       "count  3.601100e+04  3.601100e+04  3.601100e+04        36011.000000   \n",
       "mean   3.829089e+05  1.808535e+05  1.662621e+08          187.769376   \n",
       "std    2.438199e+06  1.180005e+06  3.169427e+09          908.061425   \n",
       "min    0.000000e+00  0.000000e+00  0.000000e+00            1.000000   \n",
       "25%    1.278895e+05  1.137000e+05  2.631419e+06           18.000000   \n",
       "50%    1.764647e+05  1.577500e+05  7.694298e+06           44.000000   \n",
       "75%    2.444724e+05  2.115000e+05  2.384110e+07          113.000000   \n",
       "max    1.177274e+08  2.206233e+08  3.668532e+11        50966.000000   \n",
       "\n",
       "       avg_price_per_sq_meter  \n",
       "count            3.601100e+04  \n",
       "mean             5.036595e+03  \n",
       "std              3.929502e+04  \n",
       "min              0.000000e+00  \n",
       "25%              1.361230e+03  \n",
       "50%              1.857614e+03  \n",
       "75%              2.639380e+03  \n",
       "max              2.304816e+06  "
      ]
     },
     "execution_count": 16,
     "metadata": {},
     "output_type": "execute_result"
    }
   ],
   "source": [
    "grouped_geo.describe()"
   ]
  },
  {
   "cell_type": "code",
   "execution_count": 17,
   "metadata": {},
   "outputs": [
    {
     "data": {
      "image/png": "[encoded data removed]",
      "text/plain": [
       "<Figure size 5000x2000 with 1 Axes>"
      ]
     },
     "metadata": {},
     "output_type": "display_data"
    }
   ],
   "source": [
    "#### IDENTIFY OUTLIERS ####\n",
    "plt.figure(figsize=(50, 20))\n",
    "sns.boxplot(data=grouped_geo, x='mean_value', y='Code departement')\n",
    "\n",
    "plt.title('Average property values by department')\n",
    "plt.xlabel('Average property value')\n",
    "plt.ylabel('Department Code')\n",
    "x_ticks = np.arange(0, grouped_geo['mean_value'].max(), step=1000000)\n",
    "plt.xticks(x_ticks)\n",
    "plt.xlim(-10, 100000000)\n",
    "#plt.yticks(range(start, end, step))\n",
    "#plt.xticks(rotation=90)\n",
    "plt.tight_layout()\n",
    "\n",
    "plt.show()"
   ]
  },
  {
   "cell_type": "markdown",
   "metadata": {},
   "source": [
    "There are a lot of outliers , this can be explained because of the type of local sold, the year they were sold (inflation ?), their size or their localization. Let's analyze that."
   ]
  },
  {
   "cell_type": "code",
   "execution_count": 18,
   "metadata": {},
   "outputs": [
    {
     "data": {
      "text/html": [
       "<div>\n",
       "<style scoped>\n",
       "    .dataframe tbody tr th:only-of-type {\n",
       "        vertical-align: middle;\n",
       "    }\n",
       "\n",
       "    .dataframe tbody tr th {\n",
       "        vertical-align: top;\n",
       "    }\n",
       "\n",
       "    .dataframe thead th {\n",
       "        text-align: right;\n",
       "    }\n",
       "</style>\n",
       "<table border=\"1\" class=\"dataframe\">\n",
       "  <thead>\n",
       "    <tr style=\"text-align: right;\">\n",
       "      <th></th>\n",
       "      <th>Date mutation</th>\n",
       "      <th>Nature mutation</th>\n",
       "      <th>Valeur fonciere</th>\n",
       "      <th>Voie</th>\n",
       "      <th>Code postal</th>\n",
       "      <th>Commune</th>\n",
       "      <th>Code departement</th>\n",
       "      <th>Code commune</th>\n",
       "      <th>Nombre de lots</th>\n",
       "      <th>Code type local</th>\n",
       "      <th>Type local</th>\n",
       "      <th>Surface reelle bati</th>\n",
       "      <th>Nombre pieces principales</th>\n",
       "      <th>Surface terrain</th>\n",
       "      <th>annee</th>\n",
       "      <th>price_per_sq_meter</th>\n",
       "    </tr>\n",
       "  </thead>\n",
       "  <tbody>\n",
       "    <tr>\n",
       "      <th>117</th>\n",
       "      <td>2019-03-07 00:00:00.000000000</td>\n",
       "      <td>Vente</td>\n",
       "      <td>3000000.0</td>\n",
       "      <td>MARECHAL JUIN</td>\n",
       "      <td>1000.0</td>\n",
       "      <td>BOURG-EN-BRESSE</td>\n",
       "      <td>1</td>\n",
       "      <td>53</td>\n",
       "      <td>0</td>\n",
       "      <td>4.0</td>\n",
       "      <td>Local industriel. commercial ou assimilé</td>\n",
       "      <td>2465.0</td>\n",
       "      <td>0.0</td>\n",
       "      <td>5926.0</td>\n",
       "      <td>2019</td>\n",
       "      <td>1217.04</td>\n",
       "    </tr>\n",
       "    <tr>\n",
       "      <th>1813</th>\n",
       "      <td>2019-08-14 08:43:38.181818112</td>\n",
       "      <td>Vente</td>\n",
       "      <td>644100.0</td>\n",
       "      <td>DU PLAN D'EAU</td>\n",
       "      <td>1370.0</td>\n",
       "      <td>VAL-REVERMONT</td>\n",
       "      <td>1</td>\n",
       "      <td>426</td>\n",
       "      <td>0</td>\n",
       "      <td>4.0</td>\n",
       "      <td>Local industriel. commercial ou assimilé</td>\n",
       "      <td>2191.0</td>\n",
       "      <td>0.0</td>\n",
       "      <td>5247.0</td>\n",
       "      <td>2019</td>\n",
       "      <td>293.98</td>\n",
       "    </tr>\n",
       "    <tr>\n",
       "      <th>1814</th>\n",
       "      <td>2019-07-31 10:54:32.727272704</td>\n",
       "      <td>Vente</td>\n",
       "      <td>644100.0</td>\n",
       "      <td>DU PLAN D'EAU</td>\n",
       "      <td>1370.0</td>\n",
       "      <td>VAL-REVERMONT</td>\n",
       "      <td>1</td>\n",
       "      <td>426</td>\n",
       "      <td>0</td>\n",
       "      <td>4.0</td>\n",
       "      <td>Local industriel. commercial ou assimilé</td>\n",
       "      <td>2191.0</td>\n",
       "      <td>0.0</td>\n",
       "      <td>5000.0</td>\n",
       "      <td>2019</td>\n",
       "      <td>293.98</td>\n",
       "    </tr>\n",
       "    <tr>\n",
       "      <th>2564</th>\n",
       "      <td>2019-06-11 00:00:00.000000000</td>\n",
       "      <td>Vente</td>\n",
       "      <td>720000.0</td>\n",
       "      <td>DU 1ER SEPTEMBRE 1944</td>\n",
       "      <td>1160.0</td>\n",
       "      <td>PONT-D AIN</td>\n",
       "      <td>1</td>\n",
       "      <td>304</td>\n",
       "      <td>0</td>\n",
       "      <td>4.0</td>\n",
       "      <td>Local industriel. commercial ou assimilé</td>\n",
       "      <td>438.0</td>\n",
       "      <td>0.0</td>\n",
       "      <td>273.0</td>\n",
       "      <td>2019</td>\n",
       "      <td>1643.84</td>\n",
       "    </tr>\n",
       "    <tr>\n",
       "      <th>2565</th>\n",
       "      <td>2019-07-11 09:36:00.000000000</td>\n",
       "      <td>Vente</td>\n",
       "      <td>720000.0</td>\n",
       "      <td>DU 1ER SEPTEMBRE 1944</td>\n",
       "      <td>1160.0</td>\n",
       "      <td>PONT-D AIN</td>\n",
       "      <td>1</td>\n",
       "      <td>304</td>\n",
       "      <td>0</td>\n",
       "      <td>4.0</td>\n",
       "      <td>Local industriel. commercial ou assimilé</td>\n",
       "      <td>782.0</td>\n",
       "      <td>0.0</td>\n",
       "      <td>559.0</td>\n",
       "      <td>2019</td>\n",
       "      <td>920.72</td>\n",
       "    </tr>\n",
       "  </tbody>\n",
       "</table>\n",
       "</div>"
      ],
      "text/plain": [
       "                     Date mutation Nature mutation  Valeur fonciere  \\\n",
       "117  2019-03-07 00:00:00.000000000           Vente        3000000.0   \n",
       "1813 2019-08-14 08:43:38.181818112           Vente         644100.0   \n",
       "1814 2019-07-31 10:54:32.727272704           Vente         644100.0   \n",
       "2564 2019-06-11 00:00:00.000000000           Vente         720000.0   \n",
       "2565 2019-07-11 09:36:00.000000000           Vente         720000.0   \n",
       "\n",
       "                       Voie Code postal          Commune Code departement  \\\n",
       "117           MARECHAL JUIN      1000.0  BOURG-EN-BRESSE                1   \n",
       "1813          DU PLAN D'EAU      1370.0    VAL-REVERMONT                1   \n",
       "1814          DU PLAN D'EAU      1370.0    VAL-REVERMONT                1   \n",
       "2564  DU 1ER SEPTEMBRE 1944      1160.0       PONT-D AIN                1   \n",
       "2565  DU 1ER SEPTEMBRE 1944      1160.0       PONT-D AIN                1   \n",
       "\n",
       "     Code commune  Nombre de lots Code type local  \\\n",
       "117            53               0             4.0   \n",
       "1813          426               0             4.0   \n",
       "1814          426               0             4.0   \n",
       "2564          304               0             4.0   \n",
       "2565          304               0             4.0   \n",
       "\n",
       "                                    Type local  Surface reelle bati  \\\n",
       "117   Local industriel. commercial ou assimilé               2465.0   \n",
       "1813  Local industriel. commercial ou assimilé               2191.0   \n",
       "1814  Local industriel. commercial ou assimilé               2191.0   \n",
       "2564  Local industriel. commercial ou assimilé                438.0   \n",
       "2565  Local industriel. commercial ou assimilé                782.0   \n",
       "\n",
       "      Nombre pieces principales  Surface terrain  annee  price_per_sq_meter  \n",
       "117                         0.0           5926.0   2019             1217.04  \n",
       "1813                        0.0           5247.0   2019              293.98  \n",
       "1814                        0.0           5000.0   2019              293.98  \n",
       "2564                        0.0            273.0   2019             1643.84  \n",
       "2565                        0.0            559.0   2019              920.72  "
      ]
     },
     "execution_count": 18,
     "metadata": {},
     "output_type": "execute_result"
    }
   ],
   "source": [
    "#### SEPARATE OUTLIERS WITH IQR ####\n",
    "Q1 = df_geo['Valeur fonciere'].quantile(0.25)\n",
    "Q3 = df_geo['Valeur fonciere'].quantile(0.75)\n",
    "IQR = Q3 - Q1\n",
    "lower_bound = Q1 - 1.5 * IQR\n",
    "upper_bound = Q3 + 1.5 * IQR\n",
    "\n",
    "outliers = df_geo[(df_geo['Valeur fonciere'] < lower_bound) | (df_geo['Valeur fonciere'] > upper_bound)]\n",
    "non_outliers = df_geo[(df_geo['Valeur fonciere'] >= lower_bound) & (df_geo['Valeur fonciere'] <= upper_bound)]\n",
    "\n",
    "outliers.head()"
   ]
  },
  {
   "cell_type": "markdown",
   "metadata": {},
   "source": [
    "We see that a lot of them are commercial or industrial locals which could explain why they are expensive."
   ]
  },
  {
   "cell_type": "code",
   "execution_count": 19,
   "metadata": {},
   "outputs": [
    {
     "data": {
      "text/html": [
       "<div>\n",
       "<style scoped>\n",
       "    .dataframe tbody tr th:only-of-type {\n",
       "        vertical-align: middle;\n",
       "    }\n",
       "\n",
       "    .dataframe tbody tr th {\n",
       "        vertical-align: top;\n",
       "    }\n",
       "\n",
       "    .dataframe thead th {\n",
       "        text-align: right;\n",
       "    }\n",
       "</style>\n",
       "<table border=\"1\" class=\"dataframe\">\n",
       "  <thead>\n",
       "    <tr style=\"text-align: right;\">\n",
       "      <th></th>\n",
       "      <th>Code departement</th>\n",
       "      <th>Commune</th>\n",
       "      <th>mean_outliers_value</th>\n",
       "      <th>median_outliers_value</th>\n",
       "      <th>sum_outliers_value</th>\n",
       "      <th>count_outliers_transactions</th>\n",
       "      <th>outliers_avg_price_per_sq_meter</th>\n",
       "    </tr>\n",
       "  </thead>\n",
       "  <tbody>\n",
       "    <tr>\n",
       "      <th>0</th>\n",
       "      <td>1</td>\n",
       "      <td>AMBERIEU-EN-BUGEY</td>\n",
       "      <td>2.362516e+06</td>\n",
       "      <td>1375200.0</td>\n",
       "      <td>148838522.5</td>\n",
       "      <td>63</td>\n",
       "      <td>16678.371429</td>\n",
       "    </tr>\n",
       "    <tr>\n",
       "      <th>1</th>\n",
       "      <td>1</td>\n",
       "      <td>AMBERIEUX-EN-DOMBES</td>\n",
       "      <td>1.668587e+06</td>\n",
       "      <td>872600.0</td>\n",
       "      <td>43383255.7</td>\n",
       "      <td>26</td>\n",
       "      <td>23280.409615</td>\n",
       "    </tr>\n",
       "    <tr>\n",
       "      <th>2</th>\n",
       "      <td>1</td>\n",
       "      <td>ARBENT</td>\n",
       "      <td>3.174348e+06</td>\n",
       "      <td>2349134.0</td>\n",
       "      <td>57138268.0</td>\n",
       "      <td>18</td>\n",
       "      <td>28574.047222</td>\n",
       "    </tr>\n",
       "    <tr>\n",
       "      <th>3</th>\n",
       "      <td>1</td>\n",
       "      <td>ARBOYS EN BUGEY</td>\n",
       "      <td>6.490000e+05</td>\n",
       "      <td>649000.0</td>\n",
       "      <td>649000.0</td>\n",
       "      <td>1</td>\n",
       "      <td>3863.100000</td>\n",
       "    </tr>\n",
       "    <tr>\n",
       "      <th>4</th>\n",
       "      <td>1</td>\n",
       "      <td>ARS-SUR-FORMANS</td>\n",
       "      <td>9.918142e+05</td>\n",
       "      <td>1180000.0</td>\n",
       "      <td>12893585.0</td>\n",
       "      <td>13</td>\n",
       "      <td>7796.190769</td>\n",
       "    </tr>\n",
       "  </tbody>\n",
       "</table>\n",
       "</div>"
      ],
      "text/plain": [
       "  Code departement              Commune  mean_outliers_value  \\\n",
       "0                1    AMBERIEU-EN-BUGEY         2.362516e+06   \n",
       "1                1  AMBERIEUX-EN-DOMBES         1.668587e+06   \n",
       "2                1               ARBENT         3.174348e+06   \n",
       "3                1      ARBOYS EN BUGEY         6.490000e+05   \n",
       "4                1      ARS-SUR-FORMANS         9.918142e+05   \n",
       "\n",
       "   median_outliers_value  sum_outliers_value  count_outliers_transactions  \\\n",
       "0              1375200.0         148838522.5                           63   \n",
       "1               872600.0          43383255.7                           26   \n",
       "2              2349134.0          57138268.0                           18   \n",
       "3               649000.0            649000.0                            1   \n",
       "4              1180000.0          12893585.0                           13   \n",
       "\n",
       "   outliers_avg_price_per_sq_meter  \n",
       "0                     16678.371429  \n",
       "1                     23280.409615  \n",
       "2                     28574.047222  \n",
       "3                      3863.100000  \n",
       "4                      7796.190769  "
      ]
     },
     "execution_count": 19,
     "metadata": {},
     "output_type": "execute_result"
    }
   ],
   "source": [
    "#### GROUPING OUTLIERS BY DEPARTMENT AND COMMUNE ####\n",
    "grouped_outliers = outliers.groupby(['Code departement', 'Commune'], observed=True).agg(\n",
    "    mean_outliers_value=('Valeur fonciere', 'mean'),\n",
    "    median_outliers_value=('Valeur fonciere', 'median'),\n",
    "    sum_outliers_value=('Valeur fonciere', 'sum'),\n",
    "    count_outliers_transactions=('Valeur fonciere', 'count'),\n",
    "    outliers_avg_price_per_sq_meter=('price_per_sq_meter', 'mean')\n",
    ").reset_index()\n",
    "\n",
    "grouped_outliers.head()"
   ]
  },
  {
   "cell_type": "code",
   "execution_count": 20,
   "metadata": {},
   "outputs": [
    {
     "data": {
      "text/plain": [
       "Code departement                   0\n",
       "Commune                            0\n",
       "mean_outliers_value                0\n",
       "median_outliers_value              0\n",
       "sum_outliers_value                 0\n",
       "count_outliers_transactions        0\n",
       "outliers_avg_price_per_sq_meter    0\n",
       "dtype: int64"
      ]
     },
     "execution_count": 20,
     "metadata": {},
     "output_type": "execute_result"
    }
   ],
   "source": [
    "grouped_outliers.isnull().sum()"
   ]
  },
  {
   "cell_type": "code",
   "execution_count": 21,
   "metadata": {},
   "outputs": [
    {
     "name": "stdout",
     "output_type": "stream",
     "text": [
      "General mean : 885459.2904764488\n",
      "General median : 191900.0\n",
      "\n",
      "Non-outliers mean : 205565.86862418838\n",
      "Non-outliers median : 177450.0\n",
      "\n",
      "Outliers mean : 8005812.542774477\n",
      "Outliers median : 1070000.0\n"
     ]
    }
   ],
   "source": [
    "#### METRICS COMPARISON ####\n",
    "\n",
    "# All\n",
    "mean_all = df_geo['Valeur fonciere'].mean()\n",
    "median_all = df_geo['Valeur fonciere'].median()\n",
    "\n",
    "# Non-outliers\n",
    "mean_non_outliers = non_outliers['Valeur fonciere'].mean()\n",
    "median_non_outliers = non_outliers['Valeur fonciere'].median()\n",
    "\n",
    "# Outliers\n",
    "mean_outliers = outliers['Valeur fonciere'].mean()\n",
    "median_outliers = outliers['Valeur fonciere'].median()\n",
    "\n",
    "print(\"General mean :\", mean_all)\n",
    "print(\"General median :\", median_all)\n",
    "print(\"\\nNon-outliers mean :\", mean_non_outliers)\n",
    "print(\"Non-outliers median :\", median_non_outliers)\n",
    "print(\"\\nOutliers mean :\", mean_outliers)\n",
    "print(\"Outliers median :\", median_outliers)\n"
   ]
  },
  {
   "cell_type": "markdown",
   "metadata": {},
   "source": [
    "We see that the general metrics are greatly affected by the outliers, which is why it is necessary to separate them from the rest."
   ]
  },
  {
   "cell_type": "markdown",
   "metadata": {},
   "source": [
    "## 3 - Results ##\n",
    "\n",
    "Presentation of the analyses, visualizations, and findings.\n",
    "\n",
    "Visualizations:\n",
    "- Interactive maps of property values by department/commune.\n",
    "- Bar charts or heatmaps comparing average prices by region."
   ]
  },
  {
   "cell_type": "code",
   "execution_count": 38,
   "metadata": {},
   "outputs": [
    {
     "data": {
      "image/png": "[encoded data removed]",
      "text/plain": [
       "<Figure size 1600x800 with 2 Axes>"
      ]
     },
     "metadata": {},
     "output_type": "display_data"
    }
   ],
   "source": [
    "#### COMPARISON BW OUTLIERS AND NON-OUTLIERS ####\n",
    "plt.figure(figsize=(16, 8))\n",
    "plt.suptitle(\"Comparison of property value between outliers and non-outliers\", fontsize=16, y=1.02)\n",
    "\n",
    "# Outliers\n",
    "plt.subplot(1, 2, 1)\n",
    "sns.boxplot(y=outliers['Valeur fonciere'], color='pink', showfliers=False)\n",
    "plt.title('Outliers')\n",
    "plt.ylabel('Valeur foncière')\n",
    "plt.xlabel('Outliers')\n",
    "\n",
    "# Non-outliers\n",
    "plt.subplot(1, 2, 2)\n",
    "sns.boxplot(y=non_outliers['Valeur fonciere'], color='pink', showfliers=False)\n",
    "plt.title('Non-Outliers')\n",
    "plt.ylabel('Valeur foncière')\n",
    "plt.xlabel('Non-Outliers')\n",
    "\n",
    "plt.tight_layout()\n",
    "plt.show()\n"
   ]
  },
  {
   "cell_type": "markdown",
   "metadata": {},
   "source": [
    "We see that the outliers start at 500 000€, exactly where the non outliers stop, and they go up to 4 500 000€."
   ]
  },
  {
   "cell_type": "code",
   "execution_count": 23,
   "metadata": {},
   "outputs": [
    {
     "data": {
      "application/vnd.plotly.v1+json": {
       "config": {
        "plotlyServerURL": "https://plot.ly"
       },
       "data": [
        {
         "domain": {
          "x": [
           0,
           0.45
          ],
          "y": [
           0,
           1
          ]
         },
         "labels": [
          "Appartement",
          "Maison",
          "Local industriel. commercial ou assimilé",
          "0",
          "Dépendance"
         ],
         "marker": {
          "colors": [
           "rgb(102, 197, 204)",
           "rgb(246, 207, 113)",
           "rgb(248, 156, 116)",
           "rgb(220, 176, 242)",
           "rgb(135, 197, 95)",
           "rgb(158, 185, 243)",
           "rgb(254, 136, 177)",
           "rgb(201, 219, 116)",
           "rgb(139, 224, 164)",
           "rgb(180, 151, 231)",
           "rgb(179, 179, 179)"
          ]
         },
         "name": "Type local",
         "type": "pie",
         "values": [
          245905,
          213212,
          130259,
          0,
          0
         ]
        },
        {
         "domain": {
          "x": [
           0.55,
           1
          ],
          "y": [
           0,
           1
          ]
         },
         "labels": [
          "Maison",
          "Appartement",
          "Local industriel. commercial ou assimilé",
          "Dépendance",
          "0"
         ],
         "marker": {
          "colors": [
           "rgb(102, 197, 204)",
           "rgb(246, 207, 113)",
           "rgb(248, 156, 116)",
           "rgb(220, 176, 242)",
           "rgb(135, 197, 95)",
           "rgb(158, 185, 243)",
           "rgb(254, 136, 177)",
           "rgb(201, 219, 116)",
           "rgb(139, 224, 164)",
           "rgb(180, 151, 231)",
           "rgb(179, 179, 179)"
          ]
         },
         "name": "Type local",
         "type": "pie",
         "values": [
          3266274,
          2476183,
          429929,
          1,
          0
         ]
        }
       ],
       "layout": {
        "annotations": [
         {
          "font": {
           "size": 16
          },
          "showarrow": false,
          "text": "Outliers",
          "x": 0.225,
          "xanchor": "center",
          "xref": "paper",
          "y": 1,
          "yanchor": "bottom",
          "yref": "paper"
         },
         {
          "font": {
           "size": 16
          },
          "showarrow": false,
          "text": "Non-Outliers",
          "x": 0.775,
          "xanchor": "center",
          "xref": "paper",
          "y": 1,
          "yanchor": "bottom",
          "yref": "paper"
         }
        ],
        "showlegend": true,
        "template": {
         "data": {
          "bar": [
           {
            "error_x": {
             "color": "#2a3f5f"
            },
            "error_y": {
             "color": "#2a3f5f"
            },
            "marker": {
             "line": {
              "color": "#E5ECF6",
              "width": 0.5
             },
             "pattern": {
              "fillmode": "overlay",
              "size": 10,
              "solidity": 0.2
             }
            },
            "type": "bar"
           }
          ],
          "barpolar": [
           {
            "marker": {
             "line": {
              "color": "#E5ECF6",
              "width": 0.5
             },
             "pattern": {
              "fillmode": "overlay",
              "size": 10,
              "solidity": 0.2
             }
            },
            "type": "barpolar"
           }
          ],
          "carpet": [
           {
            "aaxis": {
             "endlinecolor": "#2a3f5f",
             "gridcolor": "white",
             "linecolor": "white",
             "minorgridcolor": "white",
             "startlinecolor": "#2a3f5f"
            },
            "baxis": {
             "endlinecolor": "#2a3f5f",
             "gridcolor": "white",
             "linecolor": "white",
             "minorgridcolor": "white",
             "startlinecolor": "#2a3f5f"
            },
            "type": "carpet"
           }
          ],
          "choropleth": [
           {
            "colorbar": {
             "outlinewidth": 0,
             "ticks": ""
            },
            "type": "choropleth"
           }
          ],
          "contour": [
           {
            "colorbar": {
             "outlinewidth": 0,
             "ticks": ""
            },
            "colorscale": [
             [
              0,
              "#0d0887"
             ],
             [
              0.1111111111111111,
              "#46039f"
             ],
             [
              0.2222222222222222,
              "#7201a8"
             ],
             [
              0.3333333333333333,
              "#9c179e"
             ],
             [
              0.4444444444444444,
              "#bd3786"
             ],
             [
              0.5555555555555556,
              "#d8576b"
             ],
             [
              0.6666666666666666,
              "#ed7953"
             ],
             [
              0.7777777777777778,
              "#fb9f3a"
             ],
             [
              0.8888888888888888,
              "#fdca26"
             ],
             [
              1,
              "#f0f921"
             ]
            ],
            "type": "contour"
           }
          ],
          "contourcarpet": [
           {
            "colorbar": {
             "outlinewidth": 0,
             "ticks": ""
            },
            "type": "contourcarpet"
           }
          ],
          "heatmap": [
           {
            "colorbar": {
             "outlinewidth": 0,
             "ticks": ""
            },
            "colorscale": [
             [
              0,
              "#0d0887"
             ],
             [
              0.1111111111111111,
              "#46039f"
             ],
             [
              0.2222222222222222,
              "#7201a8"
             ],
             [
              0.3333333333333333,
              "#9c179e"
             ],
             [
              0.4444444444444444,
              "#bd3786"
             ],
             [
              0.5555555555555556,
              "#d8576b"
             ],
             [
              0.6666666666666666,
              "#ed7953"
             ],
             [
              0.7777777777777778,
              "#fb9f3a"
             ],
             [
              0.8888888888888888,
              "#fdca26"
             ],
             [
              1,
              "#f0f921"
             ]
            ],
            "type": "heatmap"
           }
          ],
          "heatmapgl": [
           {
            "colorbar": {
             "outlinewidth": 0,
             "ticks": ""
            },
            "colorscale": [
             [
              0,
              "#0d0887"
             ],
             [
              0.1111111111111111,
              "#46039f"
             ],
             [
              0.2222222222222222,
              "#7201a8"
             ],
             [
              0.3333333333333333,
              "#9c179e"
             ],
             [
              0.4444444444444444,
              "#bd3786"
             ],
             [
              0.5555555555555556,
              "#d8576b"
             ],
             [
              0.6666666666666666,
              "#ed7953"
             ],
             [
              0.7777777777777778,
              "#fb9f3a"
             ],
             [
              0.8888888888888888,
              "#fdca26"
             ],
             [
              1,
              "#f0f921"
             ]
            ],
            "type": "heatmapgl"
           }
          ],
          "histogram": [
           {
            "marker": {
             "pattern": {
              "fillmode": "overlay",
              "size": 10,
              "solidity": 0.2
             }
            },
            "type": "histogram"
           }
          ],
          "histogram2d": [
           {
            "colorbar": {
             "outlinewidth": 0,
             "ticks": ""
            },
            "colorscale": [
             [
              0,
              "#0d0887"
             ],
             [
              0.1111111111111111,
              "#46039f"
             ],
             [
              0.2222222222222222,
              "#7201a8"
             ],
             [
              0.3333333333333333,
              "#9c179e"
             ],
             [
              0.4444444444444444,
              "#bd3786"
             ],
             [
              0.5555555555555556,
              "#d8576b"
             ],
             [
              0.6666666666666666,
              "#ed7953"
             ],
             [
              0.7777777777777778,
              "#fb9f3a"
             ],
             [
              0.8888888888888888,
              "#fdca26"
             ],
             [
              1,
              "#f0f921"
             ]
            ],
            "type": "histogram2d"
           }
          ],
          "histogram2dcontour": [
           {
            "colorbar": {
             "outlinewidth": 0,
             "ticks": ""
            },
            "colorscale": [
             [
              0,
              "#0d0887"
             ],
             [
              0.1111111111111111,
              "#46039f"
             ],
             [
              0.2222222222222222,
              "#7201a8"
             ],
             [
              0.3333333333333333,
              "#9c179e"
             ],
             [
              0.4444444444444444,
              "#bd3786"
             ],
             [
              0.5555555555555556,
              "#d8576b"
             ],
             [
              0.6666666666666666,
              "#ed7953"
             ],
             [
              0.7777777777777778,
              "#fb9f3a"
             ],
             [
              0.8888888888888888,
              "#fdca26"
             ],
             [
              1,
              "#f0f921"
             ]
            ],
            "type": "histogram2dcontour"
           }
          ],
          "mesh3d": [
           {
            "colorbar": {
             "outlinewidth": 0,
             "ticks": ""
            },
            "type": "mesh3d"
           }
          ],
          "parcoords": [
           {
            "line": {
             "colorbar": {
              "outlinewidth": 0,
              "ticks": ""
             }
            },
            "type": "parcoords"
           }
          ],
          "pie": [
           {
            "automargin": true,
            "type": "pie"
           }
          ],
          "scatter": [
           {
            "fillpattern": {
             "fillmode": "overlay",
             "size": 10,
             "solidity": 0.2
            },
            "type": "scatter"
           }
          ],
          "scatter3d": [
           {
            "line": {
             "colorbar": {
              "outlinewidth": 0,
              "ticks": ""
             }
            },
            "marker": {
             "colorbar": {
              "outlinewidth": 0,
              "ticks": ""
             }
            },
            "type": "scatter3d"
           }
          ],
          "scattercarpet": [
           {
            "marker": {
             "colorbar": {
              "outlinewidth": 0,
              "ticks": ""
             }
            },
            "type": "scattercarpet"
           }
          ],
          "scattergeo": [
           {
            "marker": {
             "colorbar": {
              "outlinewidth": 0,
              "ticks": ""
             }
            },
            "type": "scattergeo"
           }
          ],
          "scattergl": [
           {
            "marker": {
             "colorbar": {
              "outlinewidth": 0,
              "ticks": ""
             }
            },
            "type": "scattergl"
           }
          ],
          "scattermapbox": [
           {
            "marker": {
             "colorbar": {
              "outlinewidth": 0,
              "ticks": ""
             }
            },
            "type": "scattermapbox"
           }
          ],
          "scatterpolar": [
           {
            "marker": {
             "colorbar": {
              "outlinewidth": 0,
              "ticks": ""
             }
            },
            "type": "scatterpolar"
           }
          ],
          "scatterpolargl": [
           {
            "marker": {
             "colorbar": {
              "outlinewidth": 0,
              "ticks": ""
             }
            },
            "type": "scatterpolargl"
           }
          ],
          "scatterternary": [
           {
            "marker": {
             "colorbar": {
              "outlinewidth": 0,
              "ticks": ""
             }
            },
            "type": "scatterternary"
           }
          ],
          "surface": [
           {
            "colorbar": {
             "outlinewidth": 0,
             "ticks": ""
            },
            "colorscale": [
             [
              0,
              "#0d0887"
             ],
             [
              0.1111111111111111,
              "#46039f"
             ],
             [
              0.2222222222222222,
              "#7201a8"
             ],
             [
              0.3333333333333333,
              "#9c179e"
             ],
             [
              0.4444444444444444,
              "#bd3786"
             ],
             [
              0.5555555555555556,
              "#d8576b"
             ],
             [
              0.6666666666666666,
              "#ed7953"
             ],
             [
              0.7777777777777778,
              "#fb9f3a"
             ],
             [
              0.8888888888888888,
              "#fdca26"
             ],
             [
              1,
              "#f0f921"
             ]
            ],
            "type": "surface"
           }
          ],
          "table": [
           {
            "cells": {
             "fill": {
              "color": "#EBF0F8"
             },
             "line": {
              "color": "white"
             }
            },
            "header": {
             "fill": {
              "color": "#C8D4E3"
             },
             "line": {
              "color": "white"
             }
            },
            "type": "table"
           }
          ]
         },
         "layout": {
          "annotationdefaults": {
           "arrowcolor": "#2a3f5f",
           "arrowhead": 0,
           "arrowwidth": 1
          },
          "autotypenumbers": "strict",
          "coloraxis": {
           "colorbar": {
            "outlinewidth": 0,
            "ticks": ""
           }
          },
          "colorscale": {
           "diverging": [
            [
             0,
             "#8e0152"
            ],
            [
             0.1,
             "#c51b7d"
            ],
            [
             0.2,
             "#de77ae"
            ],
            [
             0.3,
             "#f1b6da"
            ],
            [
             0.4,
             "#fde0ef"
            ],
            [
             0.5,
             "#f7f7f7"
            ],
            [
             0.6,
             "#e6f5d0"
            ],
            [
             0.7,
             "#b8e186"
            ],
            [
             0.8,
             "#7fbc41"
            ],
            [
             0.9,
             "#4d9221"
            ],
            [
             1,
             "#276419"
            ]
           ],
           "sequential": [
            [
             0,
             "#0d0887"
            ],
            [
             0.1111111111111111,
             "#46039f"
            ],
            [
             0.2222222222222222,
             "#7201a8"
            ],
            [
             0.3333333333333333,
             "#9c179e"
            ],
            [
             0.4444444444444444,
             "#bd3786"
            ],
            [
             0.5555555555555556,
             "#d8576b"
            ],
            [
             0.6666666666666666,
             "#ed7953"
            ],
            [
             0.7777777777777778,
             "#fb9f3a"
            ],
            [
             0.8888888888888888,
             "#fdca26"
            ],
            [
             1,
             "#f0f921"
            ]
           ],
           "sequentialminus": [
            [
             0,
             "#0d0887"
            ],
            [
             0.1111111111111111,
             "#46039f"
            ],
            [
             0.2222222222222222,
             "#7201a8"
            ],
            [
             0.3333333333333333,
             "#9c179e"
            ],
            [
             0.4444444444444444,
             "#bd3786"
            ],
            [
             0.5555555555555556,
             "#d8576b"
            ],
            [
             0.6666666666666666,
             "#ed7953"
            ],
            [
             0.7777777777777778,
             "#fb9f3a"
            ],
            [
             0.8888888888888888,
             "#fdca26"
            ],
            [
             1,
             "#f0f921"
            ]
           ]
          },
          "colorway": [
           "#636efa",
           "#EF553B",
           "#00cc96",
           "#ab63fa",
           "#FFA15A",
           "#19d3f3",
           "#FF6692",
           "#B6E880",
           "#FF97FF",
           "#FECB52"
          ],
          "font": {
           "color": "#2a3f5f"
          },
          "geo": {
           "bgcolor": "white",
           "lakecolor": "white",
           "landcolor": "#E5ECF6",
           "showlakes": true,
           "showland": true,
           "subunitcolor": "white"
          },
          "hoverlabel": {
           "align": "left"
          },
          "hovermode": "closest",
          "mapbox": {
           "style": "light"
          },
          "paper_bgcolor": "white",
          "plot_bgcolor": "#E5ECF6",
          "polar": {
           "angularaxis": {
            "gridcolor": "white",
            "linecolor": "white",
            "ticks": ""
           },
           "bgcolor": "#E5ECF6",
           "radialaxis": {
            "gridcolor": "white",
            "linecolor": "white",
            "ticks": ""
           }
          },
          "scene": {
           "xaxis": {
            "backgroundcolor": "#E5ECF6",
            "gridcolor": "white",
            "gridwidth": 2,
            "linecolor": "white",
            "showbackground": true,
            "ticks": "",
            "zerolinecolor": "white"
           },
           "yaxis": {
            "backgroundcolor": "#E5ECF6",
            "gridcolor": "white",
            "gridwidth": 2,
            "linecolor": "white",
            "showbackground": true,
            "ticks": "",
            "zerolinecolor": "white"
           },
           "zaxis": {
            "backgroundcolor": "#E5ECF6",
            "gridcolor": "white",
            "gridwidth": 2,
            "linecolor": "white",
            "showbackground": true,
            "ticks": "",
            "zerolinecolor": "white"
           }
          },
          "shapedefaults": {
           "line": {
            "color": "#2a3f5f"
           }
          },
          "ternary": {
           "aaxis": {
            "gridcolor": "white",
            "linecolor": "white",
            "ticks": ""
           },
           "baxis": {
            "gridcolor": "white",
            "linecolor": "white",
            "ticks": ""
           },
           "bgcolor": "#E5ECF6",
           "caxis": {
            "gridcolor": "white",
            "linecolor": "white",
            "ticks": ""
           }
          },
          "title": {
           "x": 0.05
          },
          "xaxis": {
           "automargin": true,
           "gridcolor": "white",
           "linecolor": "white",
           "ticks": "",
           "title": {
            "standoff": 15
           },
           "zerolinecolor": "white",
           "zerolinewidth": 2
          },
          "yaxis": {
           "automargin": true,
           "gridcolor": "white",
           "linecolor": "white",
           "ticks": "",
           "title": {
            "standoff": 15
           },
           "zerolinecolor": "white",
           "zerolinewidth": 2
          }
         }
        },
        "title": {
         "text": "Comparison of local types between outliers and non-outliers"
        }
       }
      }
     },
     "metadata": {},
     "output_type": "display_data"
    }
   ],
   "source": [
    "#### TYPE LOCAL COMPARISON BW OUTLIERS AND NON-OUTLIERS ####\n",
    "\n",
    "colors = px.colors.qualitative.Pastel\n",
    "\n",
    "# Count type local\n",
    "outliers_tl_count = outliers['Type local'].value_counts()\n",
    "non_outliers_tl_count = non_outliers['Type local'].value_counts()\n",
    "\n",
    "# Subplots\n",
    "fig = make_subplots(\n",
    "    rows=1, cols=2,\n",
    "    subplot_titles=(\"Outliers\", \"Non-Outliers\"),\n",
    "    specs=[[{\"type\": \"pie\"}, {\"type\": \"pie\"}]]\n",
    ")\n",
    "\n",
    "# Outliers\n",
    "fig.add_trace(\n",
    "    go.Pie(\n",
    "    labels = outliers_tl_count.index,\n",
    "    values = outliers_tl_count,\n",
    "    name = 'Type local',\n",
    "    marker = dict(colors = colors),\n",
    "    ),\n",
    "    row=1, col=1\n",
    ")\n",
    "\n",
    "# Non-outliers\n",
    "fig.add_trace(\n",
    "    go.Pie(\n",
    "        labels = non_outliers_tl_count.index,\n",
    "        values = non_outliers_tl_count,\n",
    "        name = 'Type local',\n",
    "        marker = dict(colors = colors),\n",
    "    ),\n",
    "    row=1, col=2\n",
    ")\n",
    "\n",
    "fig.update_layout(\n",
    "    title_text=\"Comparison of local types between outliers and non-outliers\",\n",
    "    showlegend=True\n",
    ")\n",
    "fig.show()"
   ]
  },
  {
   "cell_type": "markdown",
   "metadata": {},
   "source": [
    "We can see that the majority of local types are appartments then houses for both but for the outliers, the portion of industrial local is greater than for non outliers."
   ]
  },
  {
   "cell_type": "code",
   "execution_count": 29,
   "metadata": {},
   "outputs": [
    {
     "data": {
      "image/png": "[encoded data removed]",
      "text/plain": [
       "<Figure size 1600x800 with 2 Axes>"
      ]
     },
     "metadata": {},
     "output_type": "display_data"
    }
   ],
   "source": [
    "#### COMPARISON BW OUTLIERS AND NON-OUTLIERS ####\n",
    "plt.figure(figsize=(16, 8))\n",
    "plt.suptitle(\"Comparison of local types prices between outliers and non-outliers\", fontsize=16, y=1.02)\n",
    "\n",
    "# Outliers\n",
    "plt.subplot(1, 2, 1)\n",
    "sns.boxplot(x='Valeur fonciere', y='Type local', data=outliers, hue='Type local', palette='pastel', showfliers=False, dodge='False')\n",
    "plt.title('Outliers')\n",
    "plt.ylabel('Type local')\n",
    "plt.xlabel('Valeur foncière')\n",
    "\n",
    "# Non-outliers\n",
    "plt.subplot(1, 2, 2)\n",
    "sns.boxplot(x='Valeur fonciere', y='Type local', data=non_outliers, hue='Type local', palette='pastel', showfliers=False, dodge='False')\n",
    "plt.title('Non-Outliers')\n",
    "plt.ylabel('Type local')\n",
    "plt.xlabel('Valeur foncière')\n",
    "\n",
    "plt.tight_layout()\n",
    "plt.show()\n"
   ]
  },
  {
   "cell_type": "markdown",
   "metadata": {},
   "source": [
    "We can see that the proce range for apartments are from 1M€ to 7M€ for outliers and only up to 450 000€ for non-outliers."
   ]
  },
  {
   "cell_type": "markdown",
   "metadata": {},
   "source": [
    "Now let's try to wee where these outliers are located."
   ]
  },
  {
   "cell_type": "markdown",
   "metadata": {},
   "source": [
    "Run interactive_maps_geo.ipynb to see maps of the price per square meter by departments depennding of if they're outliers or not."
   ]
  },
  {
   "cell_type": "markdown",
   "metadata": {},
   "source": [
    "Now let's study the number of sales per year per departements."
   ]
  },
  {
   "cell_type": "code",
   "execution_count": null,
   "metadata": {},
   "outputs": [],
   "source": []
  },
  {
   "cell_type": "markdown",
   "metadata": {},
   "source": [
    "## 4 - Conlusion and recommandations ##\n",
    "\n",
    "Summary of discoveries and investment advice.\n",
    "\n",
    "Conclusions:\n",
    "- Identify regions with the highest or lowest property values.\n",
    "- Spot any geographical anomalies in property prices.\n",
    "\n",
    "Recommendations :\n",
    "- Investment advice based on regions with strong growth or attractive prices.\n",
    "- Suggestions on how to leverage geographical trends for better returns."
   ]
  },
  {
   "cell_type": "code",
   "execution_count": null,
   "metadata": {},
   "outputs": [],
   "source": []
  }
 ],
 "metadata": {
  "kernelspec": {
   "display_name": "base",
   "language": "python",
   "name": "python3"
  },
  "language_info": {
   "codemirror_mode": {
    "name": "ipython",
    "version": 3
   },
   "file_extension": ".py",
   "mimetype": "text/x-python",
   "name": "python",
   "nbconvert_exporter": "python",
   "pygments_lexer": "ipython3",
   "version": "3.12.4"
  }
 },
 "nbformat": 4,
 "nbformat_minor": 2
}
