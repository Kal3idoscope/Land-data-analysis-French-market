{
 "cells": [
  {
   "cell_type": "markdown",
   "metadata": {},
   "source": [
    "## Nettoyage des données des Valeurs Foncières 2022 "
   ]
  },
  {
   "cell_type": "code",
   "execution_count": 1,
   "metadata": {},
   "outputs": [],
   "source": [
    "#### EXPLORING THE DATASET ####\n",
    "import pandas as pd\n",
    "import numpy as np\n",
    "import matplotlib \n",
    "\n",
    "# Read in the data\n",
    "\n",
    "df_2022=pd.read_csv('valeursfoncieres-2022.txt', sep='|', index_col=0, dtype={18:'str',19:'str',20:'str',21:'str',22:'str',23:'str',24:'str',25:'str',26:'str',27:'str',28:'str',29:'str',31:'str',33:'str',41:'str'})\n",
    "\n",
    "\n",
    "df_2022.head()\n"
   ]
  },
  {
   "cell_type": "code",
   "execution_count": null,
   "metadata": {},
   "outputs": [],
   "source": [
    "print(\"Taille des données :\",df_2022.shape)\n",
    "df_2022.info()\n"
   ]
  },
  {
   "cell_type": "code",
   "execution_count": null,
   "metadata": {},
   "outputs": [],
   "source": [
    "df_2022.describe()"
   ]
  },
  {
   "cell_type": "code",
   "execution_count": null,
   "metadata": {},
   "outputs": [],
   "source": [
    "uslness_col = ['Reference document','1 Articles CGI','2 Articles CGI','3 Articles CGI','4 Articles CGI','5 Articles CGI']\n",
    "df_2022 = df_2022.drop(columns=uslness_col)\n",
    "df_2022.describe()"
   ]
  },
  {
   "cell_type": "code",
   "execution_count": null,
   "metadata": {},
   "outputs": [],
   "source": [
    "#Detection\n",
    "df_2022.isna().sum(axis=0)"
   ]
  },
  {
   "cell_type": "code",
   "execution_count": null,
   "metadata": {},
   "outputs": [],
   "source": [
    "pourcentage_na = df_2022.isna().mean() * 100\n",
    "print(pourcentage_na)"
   ]
  },
  {
   "cell_type": "code",
   "execution_count": null,
   "metadata": {},
   "outputs": [],
   "source": [
    "print(df_2022.shape)\n",
    "df_2022 = df_2022.dropna(axis=1, how='all')\n",
    "print(df_2022.shape)"
   ]
  },
  {
   "cell_type": "code",
   "execution_count": null,
   "metadata": {},
   "outputs": [],
   "source": [
    "#remplacement \n",
    "df_2022 = df_2022.replace('NAN', 'none')\n",
    "\n",
    "#suppression de colonnes avec +50% de NAN\n",
    "colonnes_a_supp = pourcentage_na[pourcentage_na>50].index\n",
    "#df = df.drop(columns=colonnes_a_supp)\n",
    "\n",
    "colonnes_a_supp.shape"
   ]
  },
  {
   "cell_type": "code",
   "execution_count": null,
   "metadata": {},
   "outputs": [],
   "source": [
    "#### SAVE DATAFRAME ####\n",
    "\n",
    "df_2022.to_csv('df_2022.csv', index=False)"
   ]
  }
 ],
 "metadata": {
  "kernelspec": {
   "display_name": "base",
   "language": "python",
   "name": "python3"
  },
  "language_info": {
   "codemirror_mode": {
    "name": "ipython",
    "version": 3
   },
   "file_extension": ".py",
   "mimetype": "text/x-python",
   "name": "python",
   "nbconvert_exporter": "python",
   "pygments_lexer": "ipython3",
   "version": "3.12.4"
  }
 },
 "nbformat": 4,
 "nbformat_minor": 2
}
