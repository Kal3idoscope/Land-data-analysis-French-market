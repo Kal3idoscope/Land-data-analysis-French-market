{
 "cells": [
  {
   "cell_type": "code",
   "execution_count": null,
   "metadata": {},
   "outputs": [],
   "source": [
    "#### EXPLORING THE DATASET ####\n",
    "import pandas as pd\n",
    "import numpy as np\n",
    "import matplotlib \n",
    "\n",
    "# Read in the data\n",
    "#df1 = pd.read_txt('ValeursFoncieres-2024-S1.txt')\n",
    "df=pd.read_csv('valeursfoncieres-2022.txt', sep='|', index_col=0, dtype={18:'str',19:'str',20:'str',21:'str',22:'str',23:'str',24:'str',25:'str',26:'str',27:'str',28:'str',29:'str',31:'str',33:'str',41:'str'})\n",
    "\n",
    "# fnlwgt is a weight variable that represents the demographic characteristics of each person surveyed.\n",
    "df.head()\n"
   ]
  },
  {
   "cell_type": "code",
   "execution_count": null,
   "metadata": {},
   "outputs": [],
   "source": [
    "print(\"Taille des données :\",df.shape)\n",
    "df.info()\n"
   ]
  },
  {
   "cell_type": "code",
   "execution_count": null,
   "metadata": {},
   "outputs": [],
   "source": [
    "df.describe()"
   ]
  },
  {
   "cell_type": "code",
   "execution_count": null,
   "metadata": {},
   "outputs": [],
   "source": [
    "uslness_col = ['Reference document','1 Articles CGI','2 Articles CGI','3 Articles CGI','4 Articles CGI','5 Articles CGI']\n",
    "df = df.drop(columns=uslness_col)\n",
    "df.describe()"
   ]
  },
  {
   "cell_type": "code",
   "execution_count": null,
   "metadata": {},
   "outputs": [],
   "source": [
    "#Detection\n",
    "df.isna().sum(axis=0)"
   ]
  },
  {
   "cell_type": "code",
   "execution_count": null,
   "metadata": {},
   "outputs": [],
   "source": [
    "pourcentage_na = df.isna().mean() * 100\n",
    "print(pourcentage_na)"
   ]
  },
  {
   "cell_type": "code",
   "execution_count": null,
   "metadata": {},
   "outputs": [],
   "source": [
    "print(df.shape)\n",
    "df = df.dropna(axis=1, how='all')\n",
    "print(df.shape)"
   ]
  },
  {
   "cell_type": "code",
   "execution_count": null,
   "metadata": {},
   "outputs": [],
   "source": [
    "#renplacement \n",
    "df = df.replace('NAN', 'none')\n",
    "\n",
    "#suppression de colonnes avec +50% de NAN\n",
    "colonnes_a_supp = pourcentage_na[pourcentage_na>50].index\n",
    "#df = df.drop(columns=colonnes_a_supp)\n",
    "\n",
    "colonnes_a_supp.shape"
   ]
  }
 ],
 "metadata": {
  "kernelspec": {
   "display_name": "base",
   "language": "python",
   "name": "python3"
  },
  "language_info": {
   "name": "python",
   "version": "3.12.4"
  }
 },
 "nbformat": 4,
 "nbformat_minor": 2
}
